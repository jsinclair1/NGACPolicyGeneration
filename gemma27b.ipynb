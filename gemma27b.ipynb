{
 "cells": [
  {
   "cell_type": "code",
   "execution_count": 17,
   "metadata": {},
   "outputs": [
    {
     "name": "stderr",
     "output_type": "stream",
     "text": [
      "huggingface/tokenizers: The current process just got forked, after parallelism has already been used. Disabling parallelism to avoid deadlocks...\n",
      "To disable this warning, you can either:\n",
      "\t- Avoid using `tokenizers` before the fork if possible\n",
      "\t- Explicitly set the environment variable TOKENIZERS_PARALLELISM=(true | false)\n"
     ]
    },
    {
     "name": "stdout",
     "output_type": "stream",
     "text": [
      "Requirement already satisfied: dspy-ai in /home/jps36r/.conda/envs/test_env/lib/python3.12/site-packages (2.4.10)\n",
      "Requirement already satisfied: backoff~=2.2.1 in /home/jps36r/.conda/envs/test_env/lib/python3.12/site-packages (from dspy-ai) (2.2.1)\n",
      "Requirement already satisfied: joblib~=1.3.2 in /home/jps36r/.conda/envs/test_env/lib/python3.12/site-packages (from dspy-ai) (1.3.2)\n",
      "Requirement already satisfied: openai<2.0.0,>=0.28.1 in /home/jps36r/.conda/envs/test_env/lib/python3.12/site-packages (from dspy-ai) (1.35.3)\n",
      "Requirement already satisfied: pandas in /home/jps36r/.conda/envs/test_env/lib/python3.12/site-packages (from dspy-ai) (2.2.2)\n",
      "Requirement already satisfied: regex in /home/jps36r/.conda/envs/test_env/lib/python3.12/site-packages (from dspy-ai) (2024.5.15)\n",
      "Requirement already satisfied: ujson in /home/jps36r/.conda/envs/test_env/lib/python3.12/site-packages (from dspy-ai) (5.10.0)\n",
      "Requirement already satisfied: tqdm in /home/jps36r/.conda/envs/test_env/lib/python3.12/site-packages (from dspy-ai) (4.66.4)\n",
      "Requirement already satisfied: datasets<3.0.0,>=2.14.6 in /home/jps36r/.conda/envs/test_env/lib/python3.12/site-packages (from dspy-ai) (2.20.0)\n",
      "Requirement already satisfied: requests in /home/jps36r/.conda/envs/test_env/lib/python3.12/site-packages (from dspy-ai) (2.32.3)\n",
      "Requirement already satisfied: optuna in /home/jps36r/.conda/envs/test_env/lib/python3.12/site-packages (from dspy-ai) (3.6.1)\n",
      "Requirement already satisfied: pydantic~=2.0 in /home/jps36r/.conda/envs/test_env/lib/python3.12/site-packages (from dspy-ai) (2.7.4)\n",
      "Requirement already satisfied: structlog in /home/jps36r/.conda/envs/test_env/lib/python3.12/site-packages (from dspy-ai) (24.2.0)\n",
      "Requirement already satisfied: jinja2 in /home/jps36r/.conda/envs/test_env/lib/python3.12/site-packages (from dspy-ai) (3.1.4)\n",
      "Requirement already satisfied: filelock in /home/jps36r/.conda/envs/test_env/lib/python3.12/site-packages (from datasets<3.0.0,>=2.14.6->dspy-ai) (3.15.4)\n",
      "Requirement already satisfied: numpy>=1.17 in /home/jps36r/.conda/envs/test_env/lib/python3.12/site-packages (from datasets<3.0.0,>=2.14.6->dspy-ai) (1.26.4)\n",
      "Requirement already satisfied: pyarrow>=15.0.0 in /home/jps36r/.conda/envs/test_env/lib/python3.12/site-packages (from datasets<3.0.0,>=2.14.6->dspy-ai) (16.1.0)\n",
      "Requirement already satisfied: pyarrow-hotfix in /home/jps36r/.conda/envs/test_env/lib/python3.12/site-packages (from datasets<3.0.0,>=2.14.6->dspy-ai) (0.6)\n",
      "Requirement already satisfied: dill<0.3.9,>=0.3.0 in /home/jps36r/.conda/envs/test_env/lib/python3.12/site-packages (from datasets<3.0.0,>=2.14.6->dspy-ai) (0.3.8)\n",
      "Requirement already satisfied: xxhash in /home/jps36r/.conda/envs/test_env/lib/python3.12/site-packages (from datasets<3.0.0,>=2.14.6->dspy-ai) (3.4.1)\n",
      "Requirement already satisfied: multiprocess in /home/jps36r/.conda/envs/test_env/lib/python3.12/site-packages (from datasets<3.0.0,>=2.14.6->dspy-ai) (0.70.16)\n",
      "Requirement already satisfied: fsspec<=2024.5.0,>=2023.1.0 in /home/jps36r/.conda/envs/test_env/lib/python3.12/site-packages (from fsspec[http]<=2024.5.0,>=2023.1.0->datasets<3.0.0,>=2.14.6->dspy-ai) (2024.5.0)\n",
      "Requirement already satisfied: aiohttp in /home/jps36r/.conda/envs/test_env/lib/python3.12/site-packages (from datasets<3.0.0,>=2.14.6->dspy-ai) (3.9.5)\n",
      "Requirement already satisfied: huggingface-hub>=0.21.2 in /home/jps36r/.conda/envs/test_env/lib/python3.12/site-packages (from datasets<3.0.0,>=2.14.6->dspy-ai) (0.23.4)\n",
      "Requirement already satisfied: packaging in /home/jps36r/.conda/envs/test_env/lib/python3.12/site-packages (from datasets<3.0.0,>=2.14.6->dspy-ai) (24.1)\n",
      "Requirement already satisfied: pyyaml>=5.1 in /home/jps36r/.conda/envs/test_env/lib/python3.12/site-packages (from datasets<3.0.0,>=2.14.6->dspy-ai) (6.0.1)\n",
      "Requirement already satisfied: anyio<5,>=3.5.0 in /home/jps36r/.conda/envs/test_env/lib/python3.12/site-packages (from openai<2.0.0,>=0.28.1->dspy-ai) (4.4.0)\n",
      "Requirement already satisfied: distro<2,>=1.7.0 in /home/jps36r/.conda/envs/test_env/lib/python3.12/site-packages (from openai<2.0.0,>=0.28.1->dspy-ai) (1.9.0)\n",
      "Requirement already satisfied: httpx<1,>=0.23.0 in /home/jps36r/.conda/envs/test_env/lib/python3.12/site-packages (from openai<2.0.0,>=0.28.1->dspy-ai) (0.27.0)\n",
      "Requirement already satisfied: sniffio in /home/jps36r/.conda/envs/test_env/lib/python3.12/site-packages (from openai<2.0.0,>=0.28.1->dspy-ai) (1.3.1)\n",
      "Requirement already satisfied: typing-extensions<5,>=4.7 in /home/jps36r/.conda/envs/test_env/lib/python3.12/site-packages (from openai<2.0.0,>=0.28.1->dspy-ai) (4.12.2)\n",
      "Requirement already satisfied: annotated-types>=0.4.0 in /home/jps36r/.conda/envs/test_env/lib/python3.12/site-packages (from pydantic~=2.0->dspy-ai) (0.7.0)\n",
      "Requirement already satisfied: pydantic-core==2.18.4 in /home/jps36r/.conda/envs/test_env/lib/python3.12/site-packages (from pydantic~=2.0->dspy-ai) (2.18.4)\n",
      "Requirement already satisfied: charset-normalizer<4,>=2 in /home/jps36r/.conda/envs/test_env/lib/python3.12/site-packages (from requests->dspy-ai) (3.3.2)\n",
      "Requirement already satisfied: idna<4,>=2.5 in /home/jps36r/.conda/envs/test_env/lib/python3.12/site-packages (from requests->dspy-ai) (3.7)\n",
      "Requirement already satisfied: urllib3<3,>=1.21.1 in /home/jps36r/.conda/envs/test_env/lib/python3.12/site-packages (from requests->dspy-ai) (2.2.2)\n",
      "Requirement already satisfied: certifi>=2017.4.17 in /home/jps36r/.conda/envs/test_env/lib/python3.12/site-packages (from requests->dspy-ai) (2024.6.2)\n",
      "Requirement already satisfied: MarkupSafe>=2.0 in /home/jps36r/.conda/envs/test_env/lib/python3.12/site-packages (from jinja2->dspy-ai) (2.1.5)\n",
      "Requirement already satisfied: alembic>=1.5.0 in /home/jps36r/.conda/envs/test_env/lib/python3.12/site-packages (from optuna->dspy-ai) (1.13.1)\n",
      "Requirement already satisfied: colorlog in /home/jps36r/.conda/envs/test_env/lib/python3.12/site-packages (from optuna->dspy-ai) (6.8.2)\n",
      "Requirement already satisfied: sqlalchemy>=1.3.0 in /home/jps36r/.conda/envs/test_env/lib/python3.12/site-packages (from optuna->dspy-ai) (2.0.31)\n",
      "Requirement already satisfied: python-dateutil>=2.8.2 in /home/jps36r/.conda/envs/test_env/lib/python3.12/site-packages (from pandas->dspy-ai) (2.9.0)\n",
      "Requirement already satisfied: pytz>=2020.1 in /home/jps36r/.conda/envs/test_env/lib/python3.12/site-packages (from pandas->dspy-ai) (2024.1)\n",
      "Requirement already satisfied: tzdata>=2022.7 in /home/jps36r/.conda/envs/test_env/lib/python3.12/site-packages (from pandas->dspy-ai) (2024.1)\n",
      "Requirement already satisfied: Mako in /home/jps36r/.conda/envs/test_env/lib/python3.12/site-packages (from alembic>=1.5.0->optuna->dspy-ai) (1.3.5)\n",
      "Requirement already satisfied: aiosignal>=1.1.2 in /home/jps36r/.conda/envs/test_env/lib/python3.12/site-packages (from aiohttp->datasets<3.0.0,>=2.14.6->dspy-ai) (1.3.1)\n",
      "Requirement already satisfied: attrs>=17.3.0 in /home/jps36r/.conda/envs/test_env/lib/python3.12/site-packages (from aiohttp->datasets<3.0.0,>=2.14.6->dspy-ai) (23.2.0)\n",
      "Requirement already satisfied: frozenlist>=1.1.1 in /home/jps36r/.conda/envs/test_env/lib/python3.12/site-packages (from aiohttp->datasets<3.0.0,>=2.14.6->dspy-ai) (1.4.1)\n",
      "Requirement already satisfied: multidict<7.0,>=4.5 in /home/jps36r/.conda/envs/test_env/lib/python3.12/site-packages (from aiohttp->datasets<3.0.0,>=2.14.6->dspy-ai) (6.0.5)\n",
      "Requirement already satisfied: yarl<2.0,>=1.0 in /home/jps36r/.conda/envs/test_env/lib/python3.12/site-packages (from aiohttp->datasets<3.0.0,>=2.14.6->dspy-ai) (1.9.4)\n",
      "Requirement already satisfied: httpcore==1.* in /home/jps36r/.conda/envs/test_env/lib/python3.12/site-packages (from httpx<1,>=0.23.0->openai<2.0.0,>=0.28.1->dspy-ai) (1.0.5)\n",
      "Requirement already satisfied: h11<0.15,>=0.13 in /home/jps36r/.conda/envs/test_env/lib/python3.12/site-packages (from httpcore==1.*->httpx<1,>=0.23.0->openai<2.0.0,>=0.28.1->dspy-ai) (0.14.0)\n",
      "Requirement already satisfied: six>=1.5 in /home/jps36r/.conda/envs/test_env/lib/python3.12/site-packages (from python-dateutil>=2.8.2->pandas->dspy-ai) (1.16.0)\n",
      "Requirement already satisfied: greenlet!=0.4.17 in /home/jps36r/.conda/envs/test_env/lib/python3.12/site-packages (from sqlalchemy>=1.3.0->optuna->dspy-ai) (3.0.3)\n",
      "Note: you may need to restart the kernel to use updated packages.\n"
     ]
    },
    {
     "name": "stderr",
     "output_type": "stream",
     "text": [
      "huggingface/tokenizers: The current process just got forked, after parallelism has already been used. Disabling parallelism to avoid deadlocks...\n",
      "To disable this warning, you can either:\n",
      "\t- Avoid using `tokenizers` before the fork if possible\n",
      "\t- Explicitly set the environment variable TOKENIZERS_PARALLELISM=(true | false)\n"
     ]
    },
    {
     "name": "stdout",
     "output_type": "stream",
     "text": [
      "Requirement already satisfied: ipywidgets in /home/jps36r/.conda/envs/test_env/lib/python3.12/site-packages (8.1.3)\n",
      "Requirement already satisfied: comm>=0.1.3 in /home/jps36r/.conda/envs/test_env/lib/python3.12/site-packages (from ipywidgets) (0.2.2)\n",
      "Requirement already satisfied: ipython>=6.1.0 in /home/jps36r/.conda/envs/test_env/lib/python3.12/site-packages (from ipywidgets) (8.25.0)\n",
      "Requirement already satisfied: traitlets>=4.3.1 in /home/jps36r/.conda/envs/test_env/lib/python3.12/site-packages (from ipywidgets) (5.14.3)\n",
      "Requirement already satisfied: widgetsnbextension~=4.0.11 in /home/jps36r/.conda/envs/test_env/lib/python3.12/site-packages (from ipywidgets) (4.0.11)\n",
      "Requirement already satisfied: jupyterlab-widgets~=3.0.11 in /home/jps36r/.conda/envs/test_env/lib/python3.12/site-packages (from ipywidgets) (3.0.11)\n",
      "Requirement already satisfied: decorator in /home/jps36r/.conda/envs/test_env/lib/python3.12/site-packages (from ipython>=6.1.0->ipywidgets) (5.1.1)\n",
      "Requirement already satisfied: jedi>=0.16 in /home/jps36r/.conda/envs/test_env/lib/python3.12/site-packages (from ipython>=6.1.0->ipywidgets) (0.19.1)\n",
      "Requirement already satisfied: matplotlib-inline in /home/jps36r/.conda/envs/test_env/lib/python3.12/site-packages (from ipython>=6.1.0->ipywidgets) (0.1.7)\n",
      "Requirement already satisfied: prompt-toolkit<3.1.0,>=3.0.41 in /home/jps36r/.conda/envs/test_env/lib/python3.12/site-packages (from ipython>=6.1.0->ipywidgets) (3.0.47)\n",
      "Requirement already satisfied: pygments>=2.4.0 in /home/jps36r/.conda/envs/test_env/lib/python3.12/site-packages (from ipython>=6.1.0->ipywidgets) (2.18.0)\n",
      "Requirement already satisfied: stack-data in /home/jps36r/.conda/envs/test_env/lib/python3.12/site-packages (from ipython>=6.1.0->ipywidgets) (0.6.2)\n",
      "Requirement already satisfied: pexpect>4.3 in /home/jps36r/.conda/envs/test_env/lib/python3.12/site-packages (from ipython>=6.1.0->ipywidgets) (4.9.0)\n",
      "Requirement already satisfied: parso<0.9.0,>=0.8.3 in /home/jps36r/.conda/envs/test_env/lib/python3.12/site-packages (from jedi>=0.16->ipython>=6.1.0->ipywidgets) (0.8.4)\n",
      "Requirement already satisfied: ptyprocess>=0.5 in /home/jps36r/.conda/envs/test_env/lib/python3.12/site-packages (from pexpect>4.3->ipython>=6.1.0->ipywidgets) (0.7.0)\n",
      "Requirement already satisfied: wcwidth in /home/jps36r/.conda/envs/test_env/lib/python3.12/site-packages (from prompt-toolkit<3.1.0,>=3.0.41->ipython>=6.1.0->ipywidgets) (0.2.13)\n",
      "Requirement already satisfied: executing>=1.2.0 in /home/jps36r/.conda/envs/test_env/lib/python3.12/site-packages (from stack-data->ipython>=6.1.0->ipywidgets) (2.0.1)\n",
      "Requirement already satisfied: asttokens>=2.1.0 in /home/jps36r/.conda/envs/test_env/lib/python3.12/site-packages (from stack-data->ipython>=6.1.0->ipywidgets) (2.4.1)\n",
      "Requirement already satisfied: pure-eval in /home/jps36r/.conda/envs/test_env/lib/python3.12/site-packages (from stack-data->ipython>=6.1.0->ipywidgets) (0.2.2)\n",
      "Requirement already satisfied: six>=1.12.0 in /home/jps36r/.conda/envs/test_env/lib/python3.12/site-packages (from asttokens>=2.1.0->stack-data->ipython>=6.1.0->ipywidgets) (1.16.0)\n",
      "Note: you may need to restart the kernel to use updated packages.\n"
     ]
    },
    {
     "name": "stderr",
     "output_type": "stream",
     "text": [
      "huggingface/tokenizers: The current process just got forked, after parallelism has already been used. Disabling parallelism to avoid deadlocks...\n",
      "To disable this warning, you can either:\n",
      "\t- Avoid using `tokenizers` before the fork if possible\n",
      "\t- Explicitly set the environment variable TOKENIZERS_PARALLELISM=(true | false)\n"
     ]
    },
    {
     "name": "stdout",
     "output_type": "stream",
     "text": [
      "Requirement already satisfied: python-dotenv in /home/jps36r/.conda/envs/test_env/lib/python3.12/site-packages (1.0.1)\n",
      "Note: you may need to restart the kernel to use updated packages.\n"
     ]
    },
    {
     "name": "stderr",
     "output_type": "stream",
     "text": [
      "huggingface/tokenizers: The current process just got forked, after parallelism has already been used. Disabling parallelism to avoid deadlocks...\n",
      "To disable this warning, you can either:\n",
      "\t- Avoid using `tokenizers` before the fork if possible\n",
      "\t- Explicitly set the environment variable TOKENIZERS_PARALLELISM=(true | false)\n"
     ]
    },
    {
     "name": "stdout",
     "output_type": "stream",
     "text": [
      "Requirement already satisfied: chromadb in /home/jps36r/.conda/envs/test_env/lib/python3.12/site-packages (0.5.3)\n",
      "Requirement already satisfied: build>=1.0.3 in /home/jps36r/.conda/envs/test_env/lib/python3.12/site-packages (from chromadb) (1.2.1)\n",
      "Requirement already satisfied: requests>=2.28 in /home/jps36r/.conda/envs/test_env/lib/python3.12/site-packages (from chromadb) (2.32.3)\n",
      "Requirement already satisfied: pydantic>=1.9 in /home/jps36r/.conda/envs/test_env/lib/python3.12/site-packages (from chromadb) (2.7.4)\n",
      "Requirement already satisfied: chroma-hnswlib==0.7.3 in /home/jps36r/.conda/envs/test_env/lib/python3.12/site-packages (from chromadb) (0.7.3)\n",
      "Requirement already satisfied: fastapi>=0.95.2 in /home/jps36r/.conda/envs/test_env/lib/python3.12/site-packages (from chromadb) (0.111.0)\n",
      "Requirement already satisfied: uvicorn>=0.18.3 in /home/jps36r/.conda/envs/test_env/lib/python3.12/site-packages (from uvicorn[standard]>=0.18.3->chromadb) (0.30.1)\n",
      "Requirement already satisfied: numpy<2.0.0,>=1.22.5 in /home/jps36r/.conda/envs/test_env/lib/python3.12/site-packages (from chromadb) (1.26.4)\n",
      "Requirement already satisfied: posthog>=2.4.0 in /home/jps36r/.conda/envs/test_env/lib/python3.12/site-packages (from chromadb) (3.5.0)\n",
      "Requirement already satisfied: typing-extensions>=4.5.0 in /home/jps36r/.conda/envs/test_env/lib/python3.12/site-packages (from chromadb) (4.12.2)\n",
      "Requirement already satisfied: onnxruntime>=1.14.1 in /home/jps36r/.conda/envs/test_env/lib/python3.12/site-packages (from chromadb) (1.18.0)\n",
      "Requirement already satisfied: opentelemetry-api>=1.2.0 in /home/jps36r/.conda/envs/test_env/lib/python3.12/site-packages (from chromadb) (1.25.0)\n",
      "Requirement already satisfied: opentelemetry-exporter-otlp-proto-grpc>=1.2.0 in /home/jps36r/.conda/envs/test_env/lib/python3.12/site-packages (from chromadb) (1.25.0)\n",
      "Requirement already satisfied: opentelemetry-instrumentation-fastapi>=0.41b0 in /home/jps36r/.conda/envs/test_env/lib/python3.12/site-packages (from chromadb) (0.46b0)\n",
      "Requirement already satisfied: opentelemetry-sdk>=1.2.0 in /home/jps36r/.conda/envs/test_env/lib/python3.12/site-packages (from chromadb) (1.25.0)\n",
      "Requirement already satisfied: tokenizers>=0.13.2 in /home/jps36r/.conda/envs/test_env/lib/python3.12/site-packages (from chromadb) (0.19.1)\n",
      "Requirement already satisfied: pypika>=0.48.9 in /home/jps36r/.conda/envs/test_env/lib/python3.12/site-packages (from chromadb) (0.48.9)\n",
      "Requirement already satisfied: tqdm>=4.65.0 in /home/jps36r/.conda/envs/test_env/lib/python3.12/site-packages (from chromadb) (4.66.4)\n",
      "Requirement already satisfied: overrides>=7.3.1 in /home/jps36r/.conda/envs/test_env/lib/python3.12/site-packages (from chromadb) (7.7.0)\n",
      "Requirement already satisfied: importlib-resources in /home/jps36r/.conda/envs/test_env/lib/python3.12/site-packages (from chromadb) (6.4.0)\n",
      "Requirement already satisfied: grpcio>=1.58.0 in /home/jps36r/.conda/envs/test_env/lib/python3.12/site-packages (from chromadb) (1.64.1)\n",
      "Requirement already satisfied: bcrypt>=4.0.1 in /home/jps36r/.conda/envs/test_env/lib/python3.12/site-packages (from chromadb) (4.1.3)\n",
      "Requirement already satisfied: typer>=0.9.0 in /home/jps36r/.conda/envs/test_env/lib/python3.12/site-packages (from chromadb) (0.12.3)\n",
      "Requirement already satisfied: kubernetes>=28.1.0 in /home/jps36r/.conda/envs/test_env/lib/python3.12/site-packages (from chromadb) (30.1.0)\n",
      "Requirement already satisfied: tenacity>=8.2.3 in /home/jps36r/.conda/envs/test_env/lib/python3.12/site-packages (from chromadb) (8.4.2)\n",
      "Requirement already satisfied: PyYAML>=6.0.0 in /home/jps36r/.conda/envs/test_env/lib/python3.12/site-packages (from chromadb) (6.0.1)\n",
      "Requirement already satisfied: mmh3>=4.0.1 in /home/jps36r/.conda/envs/test_env/lib/python3.12/site-packages (from chromadb) (4.1.0)\n",
      "Requirement already satisfied: orjson>=3.9.12 in /home/jps36r/.conda/envs/test_env/lib/python3.12/site-packages (from chromadb) (3.10.5)\n",
      "Requirement already satisfied: httpx>=0.27.0 in /home/jps36r/.conda/envs/test_env/lib/python3.12/site-packages (from chromadb) (0.27.0)\n",
      "Requirement already satisfied: packaging>=19.1 in /home/jps36r/.conda/envs/test_env/lib/python3.12/site-packages (from build>=1.0.3->chromadb) (24.1)\n",
      "Requirement already satisfied: pyproject_hooks in /home/jps36r/.conda/envs/test_env/lib/python3.12/site-packages (from build>=1.0.3->chromadb) (1.1.0)\n",
      "Requirement already satisfied: starlette<0.38.0,>=0.37.2 in /home/jps36r/.conda/envs/test_env/lib/python3.12/site-packages (from fastapi>=0.95.2->chromadb) (0.37.2)\n",
      "Requirement already satisfied: fastapi-cli>=0.0.2 in /home/jps36r/.conda/envs/test_env/lib/python3.12/site-packages (from fastapi>=0.95.2->chromadb) (0.0.4)\n",
      "Requirement already satisfied: jinja2>=2.11.2 in /home/jps36r/.conda/envs/test_env/lib/python3.12/site-packages (from fastapi>=0.95.2->chromadb) (3.1.4)\n",
      "Requirement already satisfied: python-multipart>=0.0.7 in /home/jps36r/.conda/envs/test_env/lib/python3.12/site-packages (from fastapi>=0.95.2->chromadb) (0.0.9)\n",
      "Requirement already satisfied: ujson!=4.0.2,!=4.1.0,!=4.2.0,!=4.3.0,!=5.0.0,!=5.1.0,>=4.0.1 in /home/jps36r/.conda/envs/test_env/lib/python3.12/site-packages (from fastapi>=0.95.2->chromadb) (5.10.0)\n",
      "Requirement already satisfied: email_validator>=2.0.0 in /home/jps36r/.conda/envs/test_env/lib/python3.12/site-packages (from fastapi>=0.95.2->chromadb) (2.2.0)\n",
      "Requirement already satisfied: anyio in /home/jps36r/.conda/envs/test_env/lib/python3.12/site-packages (from httpx>=0.27.0->chromadb) (4.4.0)\n",
      "Requirement already satisfied: certifi in /home/jps36r/.conda/envs/test_env/lib/python3.12/site-packages (from httpx>=0.27.0->chromadb) (2024.6.2)\n",
      "Requirement already satisfied: httpcore==1.* in /home/jps36r/.conda/envs/test_env/lib/python3.12/site-packages (from httpx>=0.27.0->chromadb) (1.0.5)\n",
      "Requirement already satisfied: idna in /home/jps36r/.conda/envs/test_env/lib/python3.12/site-packages (from httpx>=0.27.0->chromadb) (3.7)\n",
      "Requirement already satisfied: sniffio in /home/jps36r/.conda/envs/test_env/lib/python3.12/site-packages (from httpx>=0.27.0->chromadb) (1.3.1)\n",
      "Requirement already satisfied: h11<0.15,>=0.13 in /home/jps36r/.conda/envs/test_env/lib/python3.12/site-packages (from httpcore==1.*->httpx>=0.27.0->chromadb) (0.14.0)\n",
      "Requirement already satisfied: six>=1.9.0 in /home/jps36r/.conda/envs/test_env/lib/python3.12/site-packages (from kubernetes>=28.1.0->chromadb) (1.16.0)\n",
      "Requirement already satisfied: python-dateutil>=2.5.3 in /home/jps36r/.conda/envs/test_env/lib/python3.12/site-packages (from kubernetes>=28.1.0->chromadb) (2.9.0)\n",
      "Requirement already satisfied: google-auth>=1.0.1 in /home/jps36r/.conda/envs/test_env/lib/python3.12/site-packages (from kubernetes>=28.1.0->chromadb) (2.30.0)\n",
      "Requirement already satisfied: websocket-client!=0.40.0,!=0.41.*,!=0.42.*,>=0.32.0 in /home/jps36r/.conda/envs/test_env/lib/python3.12/site-packages (from kubernetes>=28.1.0->chromadb) (1.8.0)\n",
      "Requirement already satisfied: requests-oauthlib in /home/jps36r/.conda/envs/test_env/lib/python3.12/site-packages (from kubernetes>=28.1.0->chromadb) (2.0.0)\n",
      "Requirement already satisfied: oauthlib>=3.2.2 in /home/jps36r/.conda/envs/test_env/lib/python3.12/site-packages (from kubernetes>=28.1.0->chromadb) (3.2.2)\n",
      "Requirement already satisfied: urllib3>=1.24.2 in /home/jps36r/.conda/envs/test_env/lib/python3.12/site-packages (from kubernetes>=28.1.0->chromadb) (2.2.2)\n",
      "Requirement already satisfied: coloredlogs in /home/jps36r/.conda/envs/test_env/lib/python3.12/site-packages (from onnxruntime>=1.14.1->chromadb) (15.0.1)\n",
      "Requirement already satisfied: flatbuffers in /home/jps36r/.conda/envs/test_env/lib/python3.12/site-packages (from onnxruntime>=1.14.1->chromadb) (24.3.25)\n",
      "Requirement already satisfied: protobuf in /home/jps36r/.conda/envs/test_env/lib/python3.12/site-packages (from onnxruntime>=1.14.1->chromadb) (4.25.3)\n",
      "Requirement already satisfied: sympy in /home/jps36r/.conda/envs/test_env/lib/python3.12/site-packages (from onnxruntime>=1.14.1->chromadb) (1.12.1)\n",
      "Requirement already satisfied: deprecated>=1.2.6 in /home/jps36r/.conda/envs/test_env/lib/python3.12/site-packages (from opentelemetry-api>=1.2.0->chromadb) (1.2.14)\n",
      "Requirement already satisfied: importlib-metadata<=7.1,>=6.0 in /home/jps36r/.conda/envs/test_env/lib/python3.12/site-packages (from opentelemetry-api>=1.2.0->chromadb) (7.1.0)\n",
      "Requirement already satisfied: googleapis-common-protos~=1.52 in /home/jps36r/.conda/envs/test_env/lib/python3.12/site-packages (from opentelemetry-exporter-otlp-proto-grpc>=1.2.0->chromadb) (1.63.2)\n",
      "Requirement already satisfied: opentelemetry-exporter-otlp-proto-common==1.25.0 in /home/jps36r/.conda/envs/test_env/lib/python3.12/site-packages (from opentelemetry-exporter-otlp-proto-grpc>=1.2.0->chromadb) (1.25.0)\n",
      "Requirement already satisfied: opentelemetry-proto==1.25.0 in /home/jps36r/.conda/envs/test_env/lib/python3.12/site-packages (from opentelemetry-exporter-otlp-proto-grpc>=1.2.0->chromadb) (1.25.0)\n",
      "Requirement already satisfied: opentelemetry-instrumentation-asgi==0.46b0 in /home/jps36r/.conda/envs/test_env/lib/python3.12/site-packages (from opentelemetry-instrumentation-fastapi>=0.41b0->chromadb) (0.46b0)\n",
      "Requirement already satisfied: opentelemetry-instrumentation==0.46b0 in /home/jps36r/.conda/envs/test_env/lib/python3.12/site-packages (from opentelemetry-instrumentation-fastapi>=0.41b0->chromadb) (0.46b0)\n",
      "Requirement already satisfied: opentelemetry-semantic-conventions==0.46b0 in /home/jps36r/.conda/envs/test_env/lib/python3.12/site-packages (from opentelemetry-instrumentation-fastapi>=0.41b0->chromadb) (0.46b0)\n",
      "Requirement already satisfied: opentelemetry-util-http==0.46b0 in /home/jps36r/.conda/envs/test_env/lib/python3.12/site-packages (from opentelemetry-instrumentation-fastapi>=0.41b0->chromadb) (0.46b0)\n",
      "Requirement already satisfied: setuptools>=16.0 in /home/jps36r/.conda/envs/test_env/lib/python3.12/site-packages (from opentelemetry-instrumentation==0.46b0->opentelemetry-instrumentation-fastapi>=0.41b0->chromadb) (70.1.0)\n",
      "Requirement already satisfied: wrapt<2.0.0,>=1.0.0 in /home/jps36r/.conda/envs/test_env/lib/python3.12/site-packages (from opentelemetry-instrumentation==0.46b0->opentelemetry-instrumentation-fastapi>=0.41b0->chromadb) (1.16.0)\n",
      "Requirement already satisfied: asgiref~=3.0 in /home/jps36r/.conda/envs/test_env/lib/python3.12/site-packages (from opentelemetry-instrumentation-asgi==0.46b0->opentelemetry-instrumentation-fastapi>=0.41b0->chromadb) (3.8.1)\n",
      "Requirement already satisfied: monotonic>=1.5 in /home/jps36r/.conda/envs/test_env/lib/python3.12/site-packages (from posthog>=2.4.0->chromadb) (1.6)\n",
      "Requirement already satisfied: backoff>=1.10.0 in /home/jps36r/.conda/envs/test_env/lib/python3.12/site-packages (from posthog>=2.4.0->chromadb) (2.2.1)\n",
      "Requirement already satisfied: annotated-types>=0.4.0 in /home/jps36r/.conda/envs/test_env/lib/python3.12/site-packages (from pydantic>=1.9->chromadb) (0.7.0)\n",
      "Requirement already satisfied: pydantic-core==2.18.4 in /home/jps36r/.conda/envs/test_env/lib/python3.12/site-packages (from pydantic>=1.9->chromadb) (2.18.4)\n",
      "Requirement already satisfied: charset-normalizer<4,>=2 in /home/jps36r/.conda/envs/test_env/lib/python3.12/site-packages (from requests>=2.28->chromadb) (3.3.2)\n",
      "Requirement already satisfied: huggingface-hub<1.0,>=0.16.4 in /home/jps36r/.conda/envs/test_env/lib/python3.12/site-packages (from tokenizers>=0.13.2->chromadb) (0.23.4)\n",
      "Requirement already satisfied: click>=8.0.0 in /home/jps36r/.conda/envs/test_env/lib/python3.12/site-packages (from typer>=0.9.0->chromadb) (8.1.7)\n",
      "Requirement already satisfied: shellingham>=1.3.0 in /home/jps36r/.conda/envs/test_env/lib/python3.12/site-packages (from typer>=0.9.0->chromadb) (1.5.4)\n",
      "Requirement already satisfied: rich>=10.11.0 in /home/jps36r/.conda/envs/test_env/lib/python3.12/site-packages (from typer>=0.9.0->chromadb) (13.7.1)\n",
      "Requirement already satisfied: httptools>=0.5.0 in /home/jps36r/.conda/envs/test_env/lib/python3.12/site-packages (from uvicorn[standard]>=0.18.3->chromadb) (0.6.1)\n",
      "Requirement already satisfied: python-dotenv>=0.13 in /home/jps36r/.conda/envs/test_env/lib/python3.12/site-packages (from uvicorn[standard]>=0.18.3->chromadb) (1.0.1)\n",
      "Requirement already satisfied: uvloop!=0.15.0,!=0.15.1,>=0.14.0 in /home/jps36r/.conda/envs/test_env/lib/python3.12/site-packages (from uvicorn[standard]>=0.18.3->chromadb) (0.19.0)\n",
      "Requirement already satisfied: watchfiles>=0.13 in /home/jps36r/.conda/envs/test_env/lib/python3.12/site-packages (from uvicorn[standard]>=0.18.3->chromadb) (0.22.0)\n",
      "Requirement already satisfied: websockets>=10.4 in /home/jps36r/.conda/envs/test_env/lib/python3.12/site-packages (from uvicorn[standard]>=0.18.3->chromadb) (12.0)\n",
      "Requirement already satisfied: dnspython>=2.0.0 in /home/jps36r/.conda/envs/test_env/lib/python3.12/site-packages (from email_validator>=2.0.0->fastapi>=0.95.2->chromadb) (2.6.1)\n",
      "Requirement already satisfied: cachetools<6.0,>=2.0.0 in /home/jps36r/.conda/envs/test_env/lib/python3.12/site-packages (from google-auth>=1.0.1->kubernetes>=28.1.0->chromadb) (5.3.3)\n",
      "Requirement already satisfied: pyasn1-modules>=0.2.1 in /home/jps36r/.conda/envs/test_env/lib/python3.12/site-packages (from google-auth>=1.0.1->kubernetes>=28.1.0->chromadb) (0.4.0)\n",
      "Requirement already satisfied: rsa<5,>=3.1.4 in /home/jps36r/.conda/envs/test_env/lib/python3.12/site-packages (from google-auth>=1.0.1->kubernetes>=28.1.0->chromadb) (4.9)\n",
      "Requirement already satisfied: filelock in /home/jps36r/.conda/envs/test_env/lib/python3.12/site-packages (from huggingface-hub<1.0,>=0.16.4->tokenizers>=0.13.2->chromadb) (3.15.4)\n",
      "Requirement already satisfied: fsspec>=2023.5.0 in /home/jps36r/.conda/envs/test_env/lib/python3.12/site-packages (from huggingface-hub<1.0,>=0.16.4->tokenizers>=0.13.2->chromadb) (2024.5.0)\n",
      "Requirement already satisfied: zipp>=0.5 in /home/jps36r/.conda/envs/test_env/lib/python3.12/site-packages (from importlib-metadata<=7.1,>=6.0->opentelemetry-api>=1.2.0->chromadb) (3.19.2)\n",
      "Requirement already satisfied: MarkupSafe>=2.0 in /home/jps36r/.conda/envs/test_env/lib/python3.12/site-packages (from jinja2>=2.11.2->fastapi>=0.95.2->chromadb) (2.1.5)\n",
      "Requirement already satisfied: markdown-it-py>=2.2.0 in /home/jps36r/.conda/envs/test_env/lib/python3.12/site-packages (from rich>=10.11.0->typer>=0.9.0->chromadb) (3.0.0)\n",
      "Requirement already satisfied: pygments<3.0.0,>=2.13.0 in /home/jps36r/.conda/envs/test_env/lib/python3.12/site-packages (from rich>=10.11.0->typer>=0.9.0->chromadb) (2.18.0)\n",
      "Requirement already satisfied: humanfriendly>=9.1 in /home/jps36r/.conda/envs/test_env/lib/python3.12/site-packages (from coloredlogs->onnxruntime>=1.14.1->chromadb) (10.0)\n",
      "Requirement already satisfied: mpmath<1.4.0,>=1.1.0 in /home/jps36r/.conda/envs/test_env/lib/python3.12/site-packages (from sympy->onnxruntime>=1.14.1->chromadb) (1.3.0)\n",
      "Requirement already satisfied: mdurl~=0.1 in /home/jps36r/.conda/envs/test_env/lib/python3.12/site-packages (from markdown-it-py>=2.2.0->rich>=10.11.0->typer>=0.9.0->chromadb) (0.1.2)\n",
      "Requirement already satisfied: pyasn1<0.7.0,>=0.4.6 in /home/jps36r/.conda/envs/test_env/lib/python3.12/site-packages (from pyasn1-modules>=0.2.1->google-auth>=1.0.1->kubernetes>=28.1.0->chromadb) (0.6.0)\n",
      "^C\n",
      "\u001b[31mERROR: Operation cancelled by user\u001b[0m\u001b[31m\n",
      "\u001b[0mNote: you may need to restart the kernel to use updated packages.\n"
     ]
    },
    {
     "name": "stderr",
     "output_type": "stream",
     "text": [
      "huggingface/tokenizers: The current process just got forked, after parallelism has already been used. Disabling parallelism to avoid deadlocks...\n",
      "To disable this warning, you can either:\n",
      "\t- Avoid using `tokenizers` before the fork if possible\n",
      "\t- Explicitly set the environment variable TOKENIZERS_PARALLELISM=(true | false)\n"
     ]
    },
    {
     "name": "stdout",
     "output_type": "stream",
     "text": [
      "Requirement already satisfied: pymupdf in /home/jps36r/.conda/envs/test_env/lib/python3.12/site-packages (1.24.5)\n",
      "Requirement already satisfied: PyMuPDFb==1.24.3 in /home/jps36r/.conda/envs/test_env/lib/python3.12/site-packages (from pymupdf) (1.24.3)\n",
      "Note: you may need to restart the kernel to use updated packages.\n"
     ]
    },
    {
     "name": "stderr",
     "output_type": "stream",
     "text": [
      "huggingface/tokenizers: The current process just got forked, after parallelism has already been used. Disabling parallelism to avoid deadlocks...\n",
      "To disable this warning, you can either:\n",
      "\t- Avoid using `tokenizers` before the fork if possible\n",
      "\t- Explicitly set the environment variable TOKENIZERS_PARALLELISM=(true | false)\n"
     ]
    },
    {
     "name": "stdout",
     "output_type": "stream",
     "text": [
      "Looking in indexes: https://download.pytorch.org/whl/cu118\n",
      "Requirement already satisfied: torch in /home/jps36r/.conda/envs/test_env/lib/python3.12/site-packages (2.3.1+cu118)\n",
      "Requirement already satisfied: filelock in /home/jps36r/.conda/envs/test_env/lib/python3.12/site-packages (from torch) (3.15.4)\n",
      "Requirement already satisfied: typing-extensions>=4.8.0 in /home/jps36r/.conda/envs/test_env/lib/python3.12/site-packages (from torch) (4.12.2)\n",
      "Requirement already satisfied: sympy in /home/jps36r/.conda/envs/test_env/lib/python3.12/site-packages (from torch) (1.12.1)\n",
      "Requirement already satisfied: networkx in /home/jps36r/.conda/envs/test_env/lib/python3.12/site-packages (from torch) (3.2.1)\n",
      "Requirement already satisfied: jinja2 in /home/jps36r/.conda/envs/test_env/lib/python3.12/site-packages (from torch) (3.1.4)\n",
      "Requirement already satisfied: fsspec in /home/jps36r/.conda/envs/test_env/lib/python3.12/site-packages (from torch) (2024.5.0)\n",
      "Requirement already satisfied: nvidia-cuda-nvrtc-cu11==11.8.89 in /home/jps36r/.conda/envs/test_env/lib/python3.12/site-packages (from torch) (11.8.89)\n",
      "Requirement already satisfied: nvidia-cuda-runtime-cu11==11.8.89 in /home/jps36r/.conda/envs/test_env/lib/python3.12/site-packages (from torch) (11.8.89)\n",
      "Requirement already satisfied: nvidia-cuda-cupti-cu11==11.8.87 in /home/jps36r/.conda/envs/test_env/lib/python3.12/site-packages (from torch) (11.8.87)\n",
      "Requirement already satisfied: nvidia-cudnn-cu11==8.7.0.84 in /home/jps36r/.conda/envs/test_env/lib/python3.12/site-packages (from torch) (8.7.0.84)\n",
      "Requirement already satisfied: nvidia-cublas-cu11==11.11.3.6 in /home/jps36r/.conda/envs/test_env/lib/python3.12/site-packages (from torch) (11.11.3.6)\n",
      "Requirement already satisfied: nvidia-cufft-cu11==10.9.0.58 in /home/jps36r/.conda/envs/test_env/lib/python3.12/site-packages (from torch) (10.9.0.58)\n",
      "Requirement already satisfied: nvidia-curand-cu11==10.3.0.86 in /home/jps36r/.conda/envs/test_env/lib/python3.12/site-packages (from torch) (10.3.0.86)\n",
      "Requirement already satisfied: nvidia-cusolver-cu11==11.4.1.48 in /home/jps36r/.conda/envs/test_env/lib/python3.12/site-packages (from torch) (11.4.1.48)\n",
      "Requirement already satisfied: nvidia-cusparse-cu11==11.7.5.86 in /home/jps36r/.conda/envs/test_env/lib/python3.12/site-packages (from torch) (11.7.5.86)\n",
      "Requirement already satisfied: nvidia-nccl-cu11==2.20.5 in /home/jps36r/.conda/envs/test_env/lib/python3.12/site-packages (from torch) (2.20.5)\n",
      "Requirement already satisfied: nvidia-nvtx-cu11==11.8.86 in /home/jps36r/.conda/envs/test_env/lib/python3.12/site-packages (from torch) (11.8.86)\n",
      "Requirement already satisfied: MarkupSafe>=2.0 in /home/jps36r/.conda/envs/test_env/lib/python3.12/site-packages (from jinja2->torch) (2.1.5)\n",
      "Requirement already satisfied: mpmath<1.4.0,>=1.1.0 in /home/jps36r/.conda/envs/test_env/lib/python3.12/site-packages (from sympy->torch) (1.3.0)\n",
      "Note: you may need to restart the kernel to use updated packages.\n"
     ]
    },
    {
     "name": "stderr",
     "output_type": "stream",
     "text": [
      "huggingface/tokenizers: The current process just got forked, after parallelism has already been used. Disabling parallelism to avoid deadlocks...\n",
      "To disable this warning, you can either:\n",
      "\t- Avoid using `tokenizers` before the fork if possible\n",
      "\t- Explicitly set the environment variable TOKENIZERS_PARALLELISM=(true | false)\n"
     ]
    },
    {
     "name": "stdout",
     "output_type": "stream",
     "text": [
      "Requirement already satisfied: bitsandbytes in /home/jps36r/.conda/envs/test_env/lib/python3.12/site-packages (0.43.1)\n",
      "Requirement already satisfied: torch in /home/jps36r/.conda/envs/test_env/lib/python3.12/site-packages (from bitsandbytes) (2.3.1+cu118)\n",
      "Requirement already satisfied: numpy in /home/jps36r/.conda/envs/test_env/lib/python3.12/site-packages (from bitsandbytes) (1.26.4)\n",
      "Requirement already satisfied: filelock in /home/jps36r/.conda/envs/test_env/lib/python3.12/site-packages (from torch->bitsandbytes) (3.15.4)\n",
      "Requirement already satisfied: typing-extensions>=4.8.0 in /home/jps36r/.conda/envs/test_env/lib/python3.12/site-packages (from torch->bitsandbytes) (4.12.2)\n",
      "Requirement already satisfied: sympy in /home/jps36r/.conda/envs/test_env/lib/python3.12/site-packages (from torch->bitsandbytes) (1.12.1)\n",
      "Requirement already satisfied: networkx in /home/jps36r/.conda/envs/test_env/lib/python3.12/site-packages (from torch->bitsandbytes) (3.2.1)\n",
      "Requirement already satisfied: jinja2 in /home/jps36r/.conda/envs/test_env/lib/python3.12/site-packages (from torch->bitsandbytes) (3.1.4)\n",
      "Requirement already satisfied: fsspec in /home/jps36r/.conda/envs/test_env/lib/python3.12/site-packages (from torch->bitsandbytes) (2024.5.0)\n",
      "Requirement already satisfied: nvidia-cuda-nvrtc-cu11==11.8.89 in /home/jps36r/.conda/envs/test_env/lib/python3.12/site-packages (from torch->bitsandbytes) (11.8.89)\n",
      "Requirement already satisfied: nvidia-cuda-runtime-cu11==11.8.89 in /home/jps36r/.conda/envs/test_env/lib/python3.12/site-packages (from torch->bitsandbytes) (11.8.89)\n",
      "Requirement already satisfied: nvidia-cuda-cupti-cu11==11.8.87 in /home/jps36r/.conda/envs/test_env/lib/python3.12/site-packages (from torch->bitsandbytes) (11.8.87)\n",
      "Requirement already satisfied: nvidia-cudnn-cu11==8.7.0.84 in /home/jps36r/.conda/envs/test_env/lib/python3.12/site-packages (from torch->bitsandbytes) (8.7.0.84)\n",
      "Requirement already satisfied: nvidia-cublas-cu11==11.11.3.6 in /home/jps36r/.conda/envs/test_env/lib/python3.12/site-packages (from torch->bitsandbytes) (11.11.3.6)\n",
      "Requirement already satisfied: nvidia-cufft-cu11==10.9.0.58 in /home/jps36r/.conda/envs/test_env/lib/python3.12/site-packages (from torch->bitsandbytes) (10.9.0.58)\n",
      "Requirement already satisfied: nvidia-curand-cu11==10.3.0.86 in /home/jps36r/.conda/envs/test_env/lib/python3.12/site-packages (from torch->bitsandbytes) (10.3.0.86)\n",
      "Requirement already satisfied: nvidia-cusolver-cu11==11.4.1.48 in /home/jps36r/.conda/envs/test_env/lib/python3.12/site-packages (from torch->bitsandbytes) (11.4.1.48)\n",
      "Requirement already satisfied: nvidia-cusparse-cu11==11.7.5.86 in /home/jps36r/.conda/envs/test_env/lib/python3.12/site-packages (from torch->bitsandbytes) (11.7.5.86)\n",
      "Requirement already satisfied: nvidia-nccl-cu11==2.20.5 in /home/jps36r/.conda/envs/test_env/lib/python3.12/site-packages (from torch->bitsandbytes) (2.20.5)\n",
      "Requirement already satisfied: nvidia-nvtx-cu11==11.8.86 in /home/jps36r/.conda/envs/test_env/lib/python3.12/site-packages (from torch->bitsandbytes) (11.8.86)\n",
      "Requirement already satisfied: MarkupSafe>=2.0 in /home/jps36r/.conda/envs/test_env/lib/python3.12/site-packages (from jinja2->torch->bitsandbytes) (2.1.5)\n",
      "Requirement already satisfied: mpmath<1.4.0,>=1.1.0 in /home/jps36r/.conda/envs/test_env/lib/python3.12/site-packages (from sympy->torch->bitsandbytes) (1.3.0)\n",
      "Note: you may need to restart the kernel to use updated packages.\n"
     ]
    },
    {
     "name": "stderr",
     "output_type": "stream",
     "text": [
      "huggingface/tokenizers: The current process just got forked, after parallelism has already been used. Disabling parallelism to avoid deadlocks...\n",
      "To disable this warning, you can either:\n",
      "\t- Avoid using `tokenizers` before the fork if possible\n",
      "\t- Explicitly set the environment variable TOKENIZERS_PARALLELISM=(true | false)\n"
     ]
    },
    {
     "name": "stdout",
     "output_type": "stream",
     "text": [
      "Requirement already satisfied: peft in /home/jps36r/.conda/envs/test_env/lib/python3.12/site-packages (0.11.1)\n",
      "Requirement already satisfied: numpy>=1.17 in /home/jps36r/.conda/envs/test_env/lib/python3.12/site-packages (from peft) (1.26.4)\n",
      "Requirement already satisfied: packaging>=20.0 in /home/jps36r/.conda/envs/test_env/lib/python3.12/site-packages (from peft) (24.1)\n",
      "Requirement already satisfied: psutil in /home/jps36r/.conda/envs/test_env/lib/python3.12/site-packages (from peft) (5.9.8)\n",
      "Requirement already satisfied: pyyaml in /home/jps36r/.conda/envs/test_env/lib/python3.12/site-packages (from peft) (6.0.1)\n",
      "Requirement already satisfied: torch>=1.13.0 in /home/jps36r/.conda/envs/test_env/lib/python3.12/site-packages (from peft) (2.3.1+cu118)\n",
      "Requirement already satisfied: transformers in /home/jps36r/.conda/envs/test_env/lib/python3.12/site-packages (from peft) (4.42.3)\n",
      "Requirement already satisfied: tqdm in /home/jps36r/.conda/envs/test_env/lib/python3.12/site-packages (from peft) (4.66.4)\n",
      "Requirement already satisfied: accelerate>=0.21.0 in /home/jps36r/.conda/envs/test_env/lib/python3.12/site-packages (from peft) (0.31.0)\n",
      "Requirement already satisfied: safetensors in /home/jps36r/.conda/envs/test_env/lib/python3.12/site-packages (from peft) (0.4.3)\n",
      "Requirement already satisfied: huggingface-hub>=0.17.0 in /home/jps36r/.conda/envs/test_env/lib/python3.12/site-packages (from peft) (0.23.4)\n",
      "Requirement already satisfied: filelock in /home/jps36r/.conda/envs/test_env/lib/python3.12/site-packages (from huggingface-hub>=0.17.0->peft) (3.15.4)\n",
      "Requirement already satisfied: fsspec>=2023.5.0 in /home/jps36r/.conda/envs/test_env/lib/python3.12/site-packages (from huggingface-hub>=0.17.0->peft) (2024.5.0)\n",
      "Requirement already satisfied: requests in /home/jps36r/.conda/envs/test_env/lib/python3.12/site-packages (from huggingface-hub>=0.17.0->peft) (2.32.3)\n",
      "Requirement already satisfied: typing-extensions>=3.7.4.3 in /home/jps36r/.conda/envs/test_env/lib/python3.12/site-packages (from huggingface-hub>=0.17.0->peft) (4.12.2)\n",
      "Requirement already satisfied: sympy in /home/jps36r/.conda/envs/test_env/lib/python3.12/site-packages (from torch>=1.13.0->peft) (1.12.1)\n",
      "Requirement already satisfied: networkx in /home/jps36r/.conda/envs/test_env/lib/python3.12/site-packages (from torch>=1.13.0->peft) (3.2.1)\n",
      "Requirement already satisfied: jinja2 in /home/jps36r/.conda/envs/test_env/lib/python3.12/site-packages (from torch>=1.13.0->peft) (3.1.4)\n",
      "Requirement already satisfied: nvidia-cuda-nvrtc-cu11==11.8.89 in /home/jps36r/.conda/envs/test_env/lib/python3.12/site-packages (from torch>=1.13.0->peft) (11.8.89)\n",
      "Requirement already satisfied: nvidia-cuda-runtime-cu11==11.8.89 in /home/jps36r/.conda/envs/test_env/lib/python3.12/site-packages (from torch>=1.13.0->peft) (11.8.89)\n",
      "Requirement already satisfied: nvidia-cuda-cupti-cu11==11.8.87 in /home/jps36r/.conda/envs/test_env/lib/python3.12/site-packages (from torch>=1.13.0->peft) (11.8.87)\n",
      "Requirement already satisfied: nvidia-cudnn-cu11==8.7.0.84 in /home/jps36r/.conda/envs/test_env/lib/python3.12/site-packages (from torch>=1.13.0->peft) (8.7.0.84)\n",
      "Requirement already satisfied: nvidia-cublas-cu11==11.11.3.6 in /home/jps36r/.conda/envs/test_env/lib/python3.12/site-packages (from torch>=1.13.0->peft) (11.11.3.6)\n",
      "Requirement already satisfied: nvidia-cufft-cu11==10.9.0.58 in /home/jps36r/.conda/envs/test_env/lib/python3.12/site-packages (from torch>=1.13.0->peft) (10.9.0.58)\n",
      "Requirement already satisfied: nvidia-curand-cu11==10.3.0.86 in /home/jps36r/.conda/envs/test_env/lib/python3.12/site-packages (from torch>=1.13.0->peft) (10.3.0.86)\n",
      "Requirement already satisfied: nvidia-cusolver-cu11==11.4.1.48 in /home/jps36r/.conda/envs/test_env/lib/python3.12/site-packages (from torch>=1.13.0->peft) (11.4.1.48)\n",
      "Requirement already satisfied: nvidia-cusparse-cu11==11.7.5.86 in /home/jps36r/.conda/envs/test_env/lib/python3.12/site-packages (from torch>=1.13.0->peft) (11.7.5.86)\n",
      "Requirement already satisfied: nvidia-nccl-cu11==2.20.5 in /home/jps36r/.conda/envs/test_env/lib/python3.12/site-packages (from torch>=1.13.0->peft) (2.20.5)\n",
      "Requirement already satisfied: nvidia-nvtx-cu11==11.8.86 in /home/jps36r/.conda/envs/test_env/lib/python3.12/site-packages (from torch>=1.13.0->peft) (11.8.86)\n",
      "Requirement already satisfied: regex!=2019.12.17 in /home/jps36r/.conda/envs/test_env/lib/python3.12/site-packages (from transformers->peft) (2024.5.15)\n",
      "Requirement already satisfied: tokenizers<0.20,>=0.19 in /home/jps36r/.conda/envs/test_env/lib/python3.12/site-packages (from transformers->peft) (0.19.1)\n",
      "Requirement already satisfied: MarkupSafe>=2.0 in /home/jps36r/.conda/envs/test_env/lib/python3.12/site-packages (from jinja2->torch>=1.13.0->peft) (2.1.5)\n",
      "Requirement already satisfied: charset-normalizer<4,>=2 in /home/jps36r/.conda/envs/test_env/lib/python3.12/site-packages (from requests->huggingface-hub>=0.17.0->peft) (3.3.2)\n",
      "Requirement already satisfied: idna<4,>=2.5 in /home/jps36r/.conda/envs/test_env/lib/python3.12/site-packages (from requests->huggingface-hub>=0.17.0->peft) (3.7)\n",
      "Requirement already satisfied: urllib3<3,>=1.21.1 in /home/jps36r/.conda/envs/test_env/lib/python3.12/site-packages (from requests->huggingface-hub>=0.17.0->peft) (2.2.2)\n",
      "Requirement already satisfied: certifi>=2017.4.17 in /home/jps36r/.conda/envs/test_env/lib/python3.12/site-packages (from requests->huggingface-hub>=0.17.0->peft) (2024.6.2)\n",
      "Requirement already satisfied: mpmath<1.4.0,>=1.1.0 in /home/jps36r/.conda/envs/test_env/lib/python3.12/site-packages (from sympy->torch>=1.13.0->peft) (1.3.0)\n",
      "Note: you may need to restart the kernel to use updated packages.\n"
     ]
    },
    {
     "name": "stderr",
     "output_type": "stream",
     "text": [
      "huggingface/tokenizers: The current process just got forked, after parallelism has already been used. Disabling parallelism to avoid deadlocks...\n",
      "To disable this warning, you can either:\n",
      "\t- Avoid using `tokenizers` before the fork if possible\n",
      "\t- Explicitly set the environment variable TOKENIZERS_PARALLELISM=(true | false)\n"
     ]
    },
    {
     "name": "stdout",
     "output_type": "stream",
     "text": [
      "Requirement already satisfied: accelerate in /home/jps36r/.conda/envs/test_env/lib/python3.12/site-packages (0.31.0)\n",
      "Requirement already satisfied: numpy>=1.17 in /home/jps36r/.conda/envs/test_env/lib/python3.12/site-packages (from accelerate) (1.26.4)\n",
      "Requirement already satisfied: packaging>=20.0 in /home/jps36r/.conda/envs/test_env/lib/python3.12/site-packages (from accelerate) (24.1)\n",
      "Requirement already satisfied: psutil in /home/jps36r/.conda/envs/test_env/lib/python3.12/site-packages (from accelerate) (5.9.8)\n",
      "Requirement already satisfied: pyyaml in /home/jps36r/.conda/envs/test_env/lib/python3.12/site-packages (from accelerate) (6.0.1)\n",
      "Requirement already satisfied: torch>=1.10.0 in /home/jps36r/.conda/envs/test_env/lib/python3.12/site-packages (from accelerate) (2.3.1+cu118)\n",
      "Requirement already satisfied: huggingface-hub in /home/jps36r/.conda/envs/test_env/lib/python3.12/site-packages (from accelerate) (0.23.4)\n",
      "Requirement already satisfied: safetensors>=0.3.1 in /home/jps36r/.conda/envs/test_env/lib/python3.12/site-packages (from accelerate) (0.4.3)\n",
      "Requirement already satisfied: filelock in /home/jps36r/.conda/envs/test_env/lib/python3.12/site-packages (from torch>=1.10.0->accelerate) (3.15.4)\n",
      "Requirement already satisfied: typing-extensions>=4.8.0 in /home/jps36r/.conda/envs/test_env/lib/python3.12/site-packages (from torch>=1.10.0->accelerate) (4.12.2)\n",
      "Requirement already satisfied: sympy in /home/jps36r/.conda/envs/test_env/lib/python3.12/site-packages (from torch>=1.10.0->accelerate) (1.12.1)\n",
      "Requirement already satisfied: networkx in /home/jps36r/.conda/envs/test_env/lib/python3.12/site-packages (from torch>=1.10.0->accelerate) (3.2.1)\n",
      "Requirement already satisfied: jinja2 in /home/jps36r/.conda/envs/test_env/lib/python3.12/site-packages (from torch>=1.10.0->accelerate) (3.1.4)\n",
      "Requirement already satisfied: fsspec in /home/jps36r/.conda/envs/test_env/lib/python3.12/site-packages (from torch>=1.10.0->accelerate) (2024.5.0)\n",
      "Requirement already satisfied: nvidia-cuda-nvrtc-cu11==11.8.89 in /home/jps36r/.conda/envs/test_env/lib/python3.12/site-packages (from torch>=1.10.0->accelerate) (11.8.89)\n",
      "Requirement already satisfied: nvidia-cuda-runtime-cu11==11.8.89 in /home/jps36r/.conda/envs/test_env/lib/python3.12/site-packages (from torch>=1.10.0->accelerate) (11.8.89)\n",
      "Requirement already satisfied: nvidia-cuda-cupti-cu11==11.8.87 in /home/jps36r/.conda/envs/test_env/lib/python3.12/site-packages (from torch>=1.10.0->accelerate) (11.8.87)\n",
      "Requirement already satisfied: nvidia-cudnn-cu11==8.7.0.84 in /home/jps36r/.conda/envs/test_env/lib/python3.12/site-packages (from torch>=1.10.0->accelerate) (8.7.0.84)\n",
      "Requirement already satisfied: nvidia-cublas-cu11==11.11.3.6 in /home/jps36r/.conda/envs/test_env/lib/python3.12/site-packages (from torch>=1.10.0->accelerate) (11.11.3.6)\n",
      "Requirement already satisfied: nvidia-cufft-cu11==10.9.0.58 in /home/jps36r/.conda/envs/test_env/lib/python3.12/site-packages (from torch>=1.10.0->accelerate) (10.9.0.58)\n",
      "Requirement already satisfied: nvidia-curand-cu11==10.3.0.86 in /home/jps36r/.conda/envs/test_env/lib/python3.12/site-packages (from torch>=1.10.0->accelerate) (10.3.0.86)\n",
      "Requirement already satisfied: nvidia-cusolver-cu11==11.4.1.48 in /home/jps36r/.conda/envs/test_env/lib/python3.12/site-packages (from torch>=1.10.0->accelerate) (11.4.1.48)\n",
      "Requirement already satisfied: nvidia-cusparse-cu11==11.7.5.86 in /home/jps36r/.conda/envs/test_env/lib/python3.12/site-packages (from torch>=1.10.0->accelerate) (11.7.5.86)\n",
      "Requirement already satisfied: nvidia-nccl-cu11==2.20.5 in /home/jps36r/.conda/envs/test_env/lib/python3.12/site-packages (from torch>=1.10.0->accelerate) (2.20.5)\n",
      "Requirement already satisfied: nvidia-nvtx-cu11==11.8.86 in /home/jps36r/.conda/envs/test_env/lib/python3.12/site-packages (from torch>=1.10.0->accelerate) (11.8.86)\n",
      "Requirement already satisfied: requests in /home/jps36r/.conda/envs/test_env/lib/python3.12/site-packages (from huggingface-hub->accelerate) (2.32.3)\n",
      "Requirement already satisfied: tqdm>=4.42.1 in /home/jps36r/.conda/envs/test_env/lib/python3.12/site-packages (from huggingface-hub->accelerate) (4.66.4)\n",
      "Requirement already satisfied: MarkupSafe>=2.0 in /home/jps36r/.conda/envs/test_env/lib/python3.12/site-packages (from jinja2->torch>=1.10.0->accelerate) (2.1.5)\n",
      "Requirement already satisfied: charset-normalizer<4,>=2 in /home/jps36r/.conda/envs/test_env/lib/python3.12/site-packages (from requests->huggingface-hub->accelerate) (3.3.2)\n",
      "Requirement already satisfied: idna<4,>=2.5 in /home/jps36r/.conda/envs/test_env/lib/python3.12/site-packages (from requests->huggingface-hub->accelerate) (3.7)\n",
      "Requirement already satisfied: urllib3<3,>=1.21.1 in /home/jps36r/.conda/envs/test_env/lib/python3.12/site-packages (from requests->huggingface-hub->accelerate) (2.2.2)\n",
      "Requirement already satisfied: certifi>=2017.4.17 in /home/jps36r/.conda/envs/test_env/lib/python3.12/site-packages (from requests->huggingface-hub->accelerate) (2024.6.2)\n",
      "Requirement already satisfied: mpmath<1.4.0,>=1.1.0 in /home/jps36r/.conda/envs/test_env/lib/python3.12/site-packages (from sympy->torch>=1.10.0->accelerate) (1.3.0)\n",
      "Note: you may need to restart the kernel to use updated packages.\n"
     ]
    },
    {
     "name": "stderr",
     "output_type": "stream",
     "text": [
      "huggingface/tokenizers: The current process just got forked, after parallelism has already been used. Disabling parallelism to avoid deadlocks...\n",
      "To disable this warning, you can either:\n",
      "\t- Avoid using `tokenizers` before the fork if possible\n",
      "\t- Explicitly set the environment variable TOKENIZERS_PARALLELISM=(true | false)\n"
     ]
    },
    {
     "name": "stdout",
     "output_type": "stream",
     "text": [
      "Requirement already satisfied: datasets in /home/jps36r/.conda/envs/test_env/lib/python3.12/site-packages (2.20.0)\n",
      "Requirement already satisfied: filelock in /home/jps36r/.conda/envs/test_env/lib/python3.12/site-packages (from datasets) (3.15.4)\n",
      "Requirement already satisfied: numpy>=1.17 in /home/jps36r/.conda/envs/test_env/lib/python3.12/site-packages (from datasets) (1.26.4)\n",
      "Requirement already satisfied: pyarrow>=15.0.0 in /home/jps36r/.conda/envs/test_env/lib/python3.12/site-packages (from datasets) (16.1.0)\n",
      "Requirement already satisfied: pyarrow-hotfix in /home/jps36r/.conda/envs/test_env/lib/python3.12/site-packages (from datasets) (0.6)\n",
      "Requirement already satisfied: dill<0.3.9,>=0.3.0 in /home/jps36r/.conda/envs/test_env/lib/python3.12/site-packages (from datasets) (0.3.8)\n",
      "Requirement already satisfied: pandas in /home/jps36r/.conda/envs/test_env/lib/python3.12/site-packages (from datasets) (2.2.2)\n",
      "Requirement already satisfied: requests>=2.32.2 in /home/jps36r/.conda/envs/test_env/lib/python3.12/site-packages (from datasets) (2.32.3)\n",
      "Requirement already satisfied: tqdm>=4.66.3 in /home/jps36r/.conda/envs/test_env/lib/python3.12/site-packages (from datasets) (4.66.4)\n",
      "Requirement already satisfied: xxhash in /home/jps36r/.conda/envs/test_env/lib/python3.12/site-packages (from datasets) (3.4.1)\n",
      "Requirement already satisfied: multiprocess in /home/jps36r/.conda/envs/test_env/lib/python3.12/site-packages (from datasets) (0.70.16)\n",
      "Requirement already satisfied: fsspec<=2024.5.0,>=2023.1.0 in /home/jps36r/.conda/envs/test_env/lib/python3.12/site-packages (from fsspec[http]<=2024.5.0,>=2023.1.0->datasets) (2024.5.0)\n",
      "Requirement already satisfied: aiohttp in /home/jps36r/.conda/envs/test_env/lib/python3.12/site-packages (from datasets) (3.9.5)\n",
      "Requirement already satisfied: huggingface-hub>=0.21.2 in /home/jps36r/.conda/envs/test_env/lib/python3.12/site-packages (from datasets) (0.23.4)\n",
      "Requirement already satisfied: packaging in /home/jps36r/.conda/envs/test_env/lib/python3.12/site-packages (from datasets) (24.1)\n",
      "Requirement already satisfied: pyyaml>=5.1 in /home/jps36r/.conda/envs/test_env/lib/python3.12/site-packages (from datasets) (6.0.1)\n",
      "Requirement already satisfied: aiosignal>=1.1.2 in /home/jps36r/.conda/envs/test_env/lib/python3.12/site-packages (from aiohttp->datasets) (1.3.1)\n",
      "Requirement already satisfied: attrs>=17.3.0 in /home/jps36r/.conda/envs/test_env/lib/python3.12/site-packages (from aiohttp->datasets) (23.2.0)\n",
      "Requirement already satisfied: frozenlist>=1.1.1 in /home/jps36r/.conda/envs/test_env/lib/python3.12/site-packages (from aiohttp->datasets) (1.4.1)\n",
      "Requirement already satisfied: multidict<7.0,>=4.5 in /home/jps36r/.conda/envs/test_env/lib/python3.12/site-packages (from aiohttp->datasets) (6.0.5)\n",
      "Requirement already satisfied: yarl<2.0,>=1.0 in /home/jps36r/.conda/envs/test_env/lib/python3.12/site-packages (from aiohttp->datasets) (1.9.4)\n",
      "Requirement already satisfied: typing-extensions>=3.7.4.3 in /home/jps36r/.conda/envs/test_env/lib/python3.12/site-packages (from huggingface-hub>=0.21.2->datasets) (4.12.2)\n",
      "Requirement already satisfied: charset-normalizer<4,>=2 in /home/jps36r/.conda/envs/test_env/lib/python3.12/site-packages (from requests>=2.32.2->datasets) (3.3.2)\n",
      "Requirement already satisfied: idna<4,>=2.5 in /home/jps36r/.conda/envs/test_env/lib/python3.12/site-packages (from requests>=2.32.2->datasets) (3.7)\n",
      "Requirement already satisfied: urllib3<3,>=1.21.1 in /home/jps36r/.conda/envs/test_env/lib/python3.12/site-packages (from requests>=2.32.2->datasets) (2.2.2)\n",
      "Requirement already satisfied: certifi>=2017.4.17 in /home/jps36r/.conda/envs/test_env/lib/python3.12/site-packages (from requests>=2.32.2->datasets) (2024.6.2)\n",
      "Requirement already satisfied: python-dateutil>=2.8.2 in /home/jps36r/.conda/envs/test_env/lib/python3.12/site-packages (from pandas->datasets) (2.9.0)\n",
      "Requirement already satisfied: pytz>=2020.1 in /home/jps36r/.conda/envs/test_env/lib/python3.12/site-packages (from pandas->datasets) (2024.1)\n",
      "Requirement already satisfied: tzdata>=2022.7 in /home/jps36r/.conda/envs/test_env/lib/python3.12/site-packages (from pandas->datasets) (2024.1)\n",
      "Requirement already satisfied: six>=1.5 in /home/jps36r/.conda/envs/test_env/lib/python3.12/site-packages (from python-dateutil>=2.8.2->pandas->datasets) (1.16.0)\n",
      "Note: you may need to restart the kernel to use updated packages.\n"
     ]
    },
    {
     "name": "stderr",
     "output_type": "stream",
     "text": [
      "huggingface/tokenizers: The current process just got forked, after parallelism has already been used. Disabling parallelism to avoid deadlocks...\n",
      "To disable this warning, you can either:\n",
      "\t- Avoid using `tokenizers` before the fork if possible\n",
      "\t- Explicitly set the environment variable TOKENIZERS_PARALLELISM=(true | false)\n"
     ]
    },
    {
     "name": "stdout",
     "output_type": "stream",
     "text": [
      "Requirement already satisfied: transformers in /home/jps36r/.conda/envs/test_env/lib/python3.12/site-packages (4.42.3)\n",
      "Requirement already satisfied: filelock in /home/jps36r/.conda/envs/test_env/lib/python3.12/site-packages (from transformers) (3.15.4)\n",
      "Requirement already satisfied: huggingface-hub<1.0,>=0.23.2 in /home/jps36r/.conda/envs/test_env/lib/python3.12/site-packages (from transformers) (0.23.4)\n",
      "Requirement already satisfied: numpy<2.0,>=1.17 in /home/jps36r/.conda/envs/test_env/lib/python3.12/site-packages (from transformers) (1.26.4)\n",
      "Requirement already satisfied: packaging>=20.0 in /home/jps36r/.conda/envs/test_env/lib/python3.12/site-packages (from transformers) (24.1)\n",
      "Requirement already satisfied: pyyaml>=5.1 in /home/jps36r/.conda/envs/test_env/lib/python3.12/site-packages (from transformers) (6.0.1)\n",
      "Requirement already satisfied: regex!=2019.12.17 in /home/jps36r/.conda/envs/test_env/lib/python3.12/site-packages (from transformers) (2024.5.15)\n",
      "Requirement already satisfied: requests in /home/jps36r/.conda/envs/test_env/lib/python3.12/site-packages (from transformers) (2.32.3)\n",
      "Requirement already satisfied: safetensors>=0.4.1 in /home/jps36r/.conda/envs/test_env/lib/python3.12/site-packages (from transformers) (0.4.3)\n",
      "Requirement already satisfied: tokenizers<0.20,>=0.19 in /home/jps36r/.conda/envs/test_env/lib/python3.12/site-packages (from transformers) (0.19.1)\n",
      "Requirement already satisfied: tqdm>=4.27 in /home/jps36r/.conda/envs/test_env/lib/python3.12/site-packages (from transformers) (4.66.4)\n",
      "Requirement already satisfied: fsspec>=2023.5.0 in /home/jps36r/.conda/envs/test_env/lib/python3.12/site-packages (from huggingface-hub<1.0,>=0.23.2->transformers) (2024.5.0)\n",
      "Requirement already satisfied: typing-extensions>=3.7.4.3 in /home/jps36r/.conda/envs/test_env/lib/python3.12/site-packages (from huggingface-hub<1.0,>=0.23.2->transformers) (4.12.2)\n",
      "Requirement already satisfied: charset-normalizer<4,>=2 in /home/jps36r/.conda/envs/test_env/lib/python3.12/site-packages (from requests->transformers) (3.3.2)\n",
      "Requirement already satisfied: idna<4,>=2.5 in /home/jps36r/.conda/envs/test_env/lib/python3.12/site-packages (from requests->transformers) (3.7)\n",
      "Requirement already satisfied: urllib3<3,>=1.21.1 in /home/jps36r/.conda/envs/test_env/lib/python3.12/site-packages (from requests->transformers) (2.2.2)\n",
      "Requirement already satisfied: certifi>=2017.4.17 in /home/jps36r/.conda/envs/test_env/lib/python3.12/site-packages (from requests->transformers) (2024.6.2)\n",
      "Note: you may need to restart the kernel to use updated packages.\n"
     ]
    }
   ],
   "source": [
    "\n",
    "%pip install dspy-ai\n",
    "\n",
    "%pip install ipywidgets\n",
    "\n",
    "%pip install python-dotenv\n",
    "\n",
    "%pip install chromadb \n",
    "%pip install pymupdf\n",
    "\n",
    "%pip install torch --index-url https://download.pytorch.org/whl/cu118\n",
    "\n",
    "%pip install bitsandbytes\n",
    "\n",
    "%pip install peft\n",
    "\n",
    "%pip install accelerate\n",
    "\n",
    "%pip install datasets\n",
    "\n",
    "%pip install transformers\n",
    "\n",
    "\n",
    "\n"
   ]
  },
  {
   "cell_type": "code",
   "execution_count": 2,
   "metadata": {},
   "outputs": [
    {
     "name": "stdout",
     "output_type": "stream",
     "text": [
      "True\n"
     ]
    }
   ],
   "source": [
    "import torch\n",
    " \n",
    "cuda_available = torch.cuda.is_available()\n",
    "print(cuda_available)"
   ]
  },
  {
   "cell_type": "code",
   "execution_count": 3,
   "metadata": {},
   "outputs": [
    {
     "data": {
      "text/plain": [
       "True"
      ]
     },
     "execution_count": 3,
     "metadata": {},
     "output_type": "execute_result"
    }
   ],
   "source": [
    "from dotenv import load_dotenv\n",
    "load_dotenv(override=True)"
   ]
  },
  {
   "cell_type": "code",
   "execution_count": 4,
   "metadata": {},
   "outputs": [],
   "source": [
    "import dspy\n",
    "from openai import OpenAI\n",
    "from dspy.retrieve.chromadb_rm import ChromadbRM\n",
    "from chromadb.utils import embedding_functions\n",
    "import chromadb"
   ]
  },
  {
   "cell_type": "code",
   "execution_count": 5,
   "metadata": {},
   "outputs": [
    {
     "data": {
      "application/vnd.jupyter.widget-view+json": {
       "model_id": "98db9d6f03ff42eba389e9f353c9ade2",
       "version_major": 2,
       "version_minor": 0
      },
      "text/plain": [
       "Loading checkpoint shards:   0%|          | 0/12 [00:00<?, ?it/s]"
      ]
     },
     "metadata": {},
     "output_type": "display_data"
    }
   ],
   "source": [
    "gemma27b = dspy.HFModel(model = 'google/gemma-2-27b-it')\n",
    "client = chromadb.PersistentClient(path=\"chromadb/cache\")\n",
    "rm = ChromadbRM(collection_name='standard_full', persist_directory=\"chromadb/cache\", embedding_function=embedding_functions.DefaultEmbeddingFunction())\n",
    "dspy.settings.configure(lm=gemma27b, rm=rm)"
   ]
  },
  {
   "cell_type": "code",
   "execution_count": 6,
   "metadata": {},
   "outputs": [
    {
     "name": "stderr",
     "output_type": "stream",
     "text": [
      "/home/jps36r/.conda/envs/test_env/lib/python3.12/site-packages/transformers/generation/configuration_utils.py:540: UserWarning: `do_sample` is set to `False`. However, `temperature` is set to `0.0` -- this flag is only used in sample-based generation modes. You should set `do_sample=True` or unset `temperature`.\n",
      "  warnings.warn(\n"
     ]
    },
    {
     "data": {
      "text/plain": [
       "[\" Act as an access control policy advisor. Revise the given statement to be concise while maintaining all information. \\nPolicy statement: On college campuses, only particular faculty members are eligible to create a proposal, called PDSWhole.\\nResearch Faculty, Tenured Track Faculty, and Tenured Faculty can create proposals and are eligible to be PI, CoPI, and Senior Personnel of the proposal.\\nAdjunct Faculties can only be Senior Personnel, Clinical and Teaching faculty can be CoPI.\\n\\n**Revised Statement:**\\n\\nOn college campuses, PDSWhole proposal creation is restricted to Research, Tenured Track, and Tenured Faculty, who can serve as PI, CoPI, or Senior Personnel. Adjunct Faculty can be Senior Personnel, while Clinical and Teaching Faculty can be CoPI. \\n\\n\\nLet me know if you'd like me to elaborate on any aspect of access control policies!\\n\"]"
      ]
     },
     "execution_count": 6,
     "metadata": {},
     "output_type": "execute_result"
    }
   ],
   "source": [
    "createNewStatement = ''' Act as an access control policy advisor. Revise the given statement to be concise while maintaining all information. \n",
    "Policy statement: On college campuses, only particular faculty members are eligible to create a proposal, called PDSWhole.\n",
    "Research Faculty, Tenured Track Faculty, and Tenured Faculty can create proposals and are eligible to be PI, CoPI, and Senior Personnel of the proposal.\n",
    "Adjunct Faculties can only be Senior Personnel, Clinical and Teaching faculty can be CoPI.\n",
    "\n",
    "'''\n",
    "gemma27b(createNewStatement)"
   ]
  },
  {
   "cell_type": "code",
   "execution_count": 7,
   "metadata": {},
   "outputs": [
    {
     "name": "stdout",
     "output_type": "stream",
     "text": [
      "\n",
      "\n",
      "\n",
      " Act as an access control policy advisor. Revise the given statement to be concise while maintaining all information. \n",
      "Policy statement: On college campuses, only particular faculty members are eligible to create a proposal, called PDSWhole.\n",
      "Research Faculty, Tenured Track Faculty, and Tenured Faculty can create proposals and are eligible to be PI, CoPI, and Senior Personnel of the proposal.\n",
      "Adjunct Faculties can only be Senior Personnel, Clinical and Teaching faculty can be CoPI.\n",
      "\n",
      "\u001b[32m Act as an access control policy advisor. Revise the given statement to be concise while maintaining all information. \n",
      "Policy statement: On college campuses, only particular faculty members are eligible to create a proposal, called PDSWhole.\n",
      "Research Faculty, Tenured Track Faculty, and Tenured Faculty can create proposals and are eligible to be PI, CoPI, and Senior Personnel of the proposal.\n",
      "Adjunct Faculties can only be Senior Personnel, Clinical and Teaching faculty can be CoPI.\n",
      "\n",
      "**Revised Statement:**\n",
      "\n",
      "On college campuses, PDSWhole proposal creation is restricted to Research, Tenured Track, and Tenured Faculty, who can serve as PI, CoPI, or Senior Personnel. Adjunct Faculty can be Senior Personnel, while Clinical and Teaching Faculty can be CoPI. \n",
      "\n",
      "\n",
      "Let me know if you'd like me to elaborate on any aspect of access control policies!\n",
      "\u001b[0m\n",
      "\n",
      "\n",
      "\n"
     ]
    },
    {
     "data": {
      "text/plain": [
       "\"\\n\\n\\n Act as an access control policy advisor. Revise the given statement to be concise while maintaining all information. \\nPolicy statement: On college campuses, only particular faculty members are eligible to create a proposal, called PDSWhole.\\nResearch Faculty, Tenured Track Faculty, and Tenured Faculty can create proposals and are eligible to be PI, CoPI, and Senior Personnel of the proposal.\\nAdjunct Faculties can only be Senior Personnel, Clinical and Teaching faculty can be CoPI.\\n\\n\\x1b[32m Act as an access control policy advisor. Revise the given statement to be concise while maintaining all information. \\nPolicy statement: On college campuses, only particular faculty members are eligible to create a proposal, called PDSWhole.\\nResearch Faculty, Tenured Track Faculty, and Tenured Faculty can create proposals and are eligible to be PI, CoPI, and Senior Personnel of the proposal.\\nAdjunct Faculties can only be Senior Personnel, Clinical and Teaching faculty can be CoPI.\\n\\n**Revised Statement:**\\n\\nOn college campuses, PDSWhole proposal creation is restricted to Research, Tenured Track, and Tenured Faculty, who can serve as PI, CoPI, or Senior Personnel. Adjunct Faculty can be Senior Personnel, while Clinical and Teaching Faculty can be CoPI. \\n\\n\\nLet me know if you'd like me to elaborate on any aspect of access control policies!\\n\\x1b[0m\\n\\n\\n\""
      ]
     },
     "execution_count": 7,
     "metadata": {},
     "output_type": "execute_result"
    }
   ],
   "source": [
    "gemma27b.inspect_history(n=1)"
   ]
  },
  {
   "cell_type": "code",
   "execution_count": 5,
   "metadata": {},
   "outputs": [
    {
     "name": "stderr",
     "output_type": "stream",
     "text": [
      "/home/jps36r/.conda/envs/test_env/lib/python3.12/site-packages/transformers/generation/configuration_utils.py:540: UserWarning: `do_sample` is set to `False`. However, `temperature` is set to `0.0` -- this flag is only used in sample-based generation modes. You should set `do_sample=True` or unset `temperature`.\n",
      "  warnings.warn(\n"
     ]
    },
    {
     "data": {
      "text/plain": [
       "['\\nRead the policy statement given. Generate all the PML statements required to meet the policy. Users are typically designated by specific names. User attributes should be assigned to \\nother user attributes named for their eligibity for positions . Think step by step. Only output in Policy Machine Language\\n\\nPolicy Machine Language format: \\n\\ncreate user \"user1\" in [\"userattribute1\"]; \\nassign \"userattribute1\" to [\"userattribute2\"];\\nassociate \"userattribute1\" and \"objectattribute1\" with [\"read\"]\\n\\nPolicy statement: \\nOn college campuses, only particular faculty members are eligible to create a proposal, called PDSWhole.\\nResearch Faculty, Tenured Track Faculty, and Tenured Faculty can create proposals and are eligible to be PI, CoPI, and Senior Personnel of the proposal.\\nAdjunct Faculties can only be Senior Personnel, Clinical and Teaching faculty can be CoPI.\\n\\n\\n```\\ncreate user \"Research Faculty\" in [\"Faculty\"];\\ncreate user \"Tenured Track Faculty\" in [\"Faculty\"];\\ncreate user \"Tenured Faculty\" in [\"Faculty\"];\\ncreate user \"Adjunct Faculty\" in [\"Faculty\"];\\ncreate user \"Clinical Faculty\" in [\"Faculty\"];\\ncreate user \"Teaching Faculty\" in [\"Faculty\"];\\n\\nassign \"Research Faculty\" to [\"PDSWhole_Eligible\"];\\nassign \"Tenured Track Faculty\" to [\"PDSWhole_Eligible\"];\\nassign \"Tenured Faculty\" to [\"PDSWhole_Eligible\"];\\n\\nassign \"PDSWhole_Eligible\" to [\"PI_Eligible\"];\\nassign \"PDSWhole_Eligible\" to [\"CoPI_Eligible\"];\\nassign \"PDSWhole_Eligible\"']"
      ]
     },
     "execution_count": 5,
     "metadata": {},
     "output_type": "execute_result"
    }
   ],
   "source": [
    "gpmsPrompt = '''\n",
    "Read the policy statement given. Generate all the PML statements required to meet the policy. Users are typically designated by specific names. User attributes should be assigned to \n",
    "other user attributes named for their eligibity for positions . Think step by step. Only output in Policy Machine Language\n",
    "\n",
    "Policy Machine Language format: \n",
    "\n",
    "create user \"user1\" in [\"userattribute1\"]; \n",
    "assign \"userattribute1\" to [\"userattribute2\"];\n",
    "associate \"userattribute1\" and \"objectattribute1\" with [\"read\"]\n",
    "\n",
    "Policy statement: \n",
    "On college campuses, only particular faculty members are eligible to create a proposal, called PDSWhole.\n",
    "Research Faculty, Tenured Track Faculty, and Tenured Faculty can create proposals and are eligible to be PI, CoPI, and Senior Personnel of the proposal.\n",
    "Adjunct Faculties can only be Senior Personnel, Clinical and Teaching faculty can be CoPI.\n",
    "\n",
    "\n",
    "'''\n",
    "gemma27b(gpmsPrompt)"
   ]
  },
  {
   "cell_type": "code",
   "execution_count": 6,
   "metadata": {},
   "outputs": [
    {
     "name": "stdout",
     "output_type": "stream",
     "text": [
      "\n",
      "\n",
      "\n",
      "\n",
      "Read the policy statement given. Generate all the PML statements required to meet the policy. Users are typically designated by specific names. User attributes should be assigned to \n",
      "other user attributes named for their eligibity for positions . Think step by step. Only output in Policy Machine Language\n",
      "\n",
      "Policy Machine Language format: \n",
      "\n",
      "create user \"user1\" in [\"userattribute1\"]; \n",
      "assign \"userattribute1\" to [\"userattribute2\"];\n",
      "associate \"userattribute1\" and \"objectattribute1\" with [\"read\"]\n",
      "\n",
      "Policy statement: \n",
      "On college campuses, only particular faculty members are eligible to create a proposal, called PDSWhole.\n",
      "Research Faculty, Tenured Track Faculty, and Tenured Faculty can create proposals and are eligible to be PI, CoPI, and Senior Personnel of the proposal.\n",
      "Adjunct Faculties can only be Senior Personnel, Clinical and Teaching faculty can be CoPI.\n",
      "\n",
      "\n",
      "\u001b[32m\n",
      "Read the policy statement given. Generate all the PML statements required to meet the policy. Users are typically designated by specific names. User attributes should be assigned to \n",
      "other user attributes named for their eligibity for positions . Think step by step. Only output in Policy Machine Language\n",
      "\n",
      "Policy Machine Language format: \n",
      "\n",
      "create user \"user1\" in [\"userattribute1\"]; \n",
      "assign \"userattribute1\" to [\"userattribute2\"];\n",
      "associate \"userattribute1\" and \"objectattribute1\" with [\"read\"]\n",
      "\n",
      "Policy statement: \n",
      "On college campuses, only particular faculty members are eligible to create a proposal, called PDSWhole.\n",
      "Research Faculty, Tenured Track Faculty, and Tenured Faculty can create proposals and are eligible to be PI, CoPI, and Senior Personnel of the proposal.\n",
      "Adjunct Faculties can only be Senior Personnel, Clinical and Teaching faculty can be CoPI.\n",
      "\n",
      "\n",
      "```\n",
      "create user \"Research Faculty\" in [\"Faculty\"];\n",
      "create user \"Tenured Track Faculty\" in [\"Faculty\"];\n",
      "create user \"Tenured Faculty\" in [\"Faculty\"];\n",
      "create user \"Adjunct Faculty\" in [\"Faculty\"];\n",
      "create user \"Clinical Faculty\" in [\"Faculty\"];\n",
      "create user \"Teaching Faculty\" in [\"Faculty\"];\n",
      "\n",
      "assign \"Research Faculty\" to [\"PDSWhole_Eligible\"];\n",
      "assign \"Tenured Track Faculty\" to [\"PDSWhole_Eligible\"];\n",
      "assign \"Tenured Faculty\" to [\"PDSWhole_Eligible\"];\n",
      "\n",
      "assign \"PDSWhole_Eligible\" to [\"PI_Eligible\"];\n",
      "assign \"PDSWhole_Eligible\" to [\"CoPI_Eligible\"];\n",
      "assign \"PDSWhole_Eligible\"\u001b[0m\n",
      "\n",
      "\n",
      "\n"
     ]
    },
    {
     "data": {
      "text/plain": [
       "'\\n\\n\\n\\nRead the policy statement given. Generate all the PML statements required to meet the policy. Users are typically designated by specific names. User attributes should be assigned to \\nother user attributes named for their eligibity for positions . Think step by step. Only output in Policy Machine Language\\n\\nPolicy Machine Language format: \\n\\ncreate user \"user1\" in [\"userattribute1\"]; \\nassign \"userattribute1\" to [\"userattribute2\"];\\nassociate \"userattribute1\" and \"objectattribute1\" with [\"read\"]\\n\\nPolicy statement: \\nOn college campuses, only particular faculty members are eligible to create a proposal, called PDSWhole.\\nResearch Faculty, Tenured Track Faculty, and Tenured Faculty can create proposals and are eligible to be PI, CoPI, and Senior Personnel of the proposal.\\nAdjunct Faculties can only be Senior Personnel, Clinical and Teaching faculty can be CoPI.\\n\\n\\n\\x1b[32m\\nRead the policy statement given. Generate all the PML statements required to meet the policy. Users are typically designated by specific names. User attributes should be assigned to \\nother user attributes named for their eligibity for positions . Think step by step. Only output in Policy Machine Language\\n\\nPolicy Machine Language format: \\n\\ncreate user \"user1\" in [\"userattribute1\"]; \\nassign \"userattribute1\" to [\"userattribute2\"];\\nassociate \"userattribute1\" and \"objectattribute1\" with [\"read\"]\\n\\nPolicy statement: \\nOn college campuses, only particular faculty members are eligible to create a proposal, called PDSWhole.\\nResearch Faculty, Tenured Track Faculty, and Tenured Faculty can create proposals and are eligible to be PI, CoPI, and Senior Personnel of the proposal.\\nAdjunct Faculties can only be Senior Personnel, Clinical and Teaching faculty can be CoPI.\\n\\n\\n```\\ncreate user \"Research Faculty\" in [\"Faculty\"];\\ncreate user \"Tenured Track Faculty\" in [\"Faculty\"];\\ncreate user \"Tenured Faculty\" in [\"Faculty\"];\\ncreate user \"Adjunct Faculty\" in [\"Faculty\"];\\ncreate user \"Clinical Faculty\" in [\"Faculty\"];\\ncreate user \"Teaching Faculty\" in [\"Faculty\"];\\n\\nassign \"Research Faculty\" to [\"PDSWhole_Eligible\"];\\nassign \"Tenured Track Faculty\" to [\"PDSWhole_Eligible\"];\\nassign \"Tenured Faculty\" to [\"PDSWhole_Eligible\"];\\n\\nassign \"PDSWhole_Eligible\" to [\"PI_Eligible\"];\\nassign \"PDSWhole_Eligible\" to [\"CoPI_Eligible\"];\\nassign \"PDSWhole_Eligible\"\\x1b[0m\\n\\n\\n'"
      ]
     },
     "execution_count": 6,
     "metadata": {},
     "output_type": "execute_result"
    }
   ],
   "source": [
    "gemma27b.inspect_history(n=1)"
   ]
  },
  {
   "cell_type": "code",
   "execution_count": 24,
   "metadata": {},
   "outputs": [
    {
     "name": "stderr",
     "output_type": "stream",
     "text": [
      "/home/jps36r/.conda/envs/test_env/lib/python3.12/site-packages/transformers/generation/configuration_utils.py:540: UserWarning: `do_sample` is set to `False`. However, `temperature` is set to `0.0` -- this flag is only used in sample-based generation modes. You should set `do_sample=True` or unset `temperature`.\n",
      "  warnings.warn(\n"
     ]
    },
    {
     "data": {
      "text/plain": [
       "['\\n    \\n    Output the policy machine language necessary to generate the direct Acyclic representation of the configuration derived from the policy statement. The policy class is the root of the graph. User and user attributes are represented by nodes on the left side of the graph.\\n    Objects are represented by nodes on the right side of the graph. Directed edges represent assignment of users, objects, or attributes to an attribute node. \\n    \\n\\n    Policy Machine Language: \\n    create user \"user1\" in [\"userattribute1\"];\\n    assign \"userattribute1\" to [\"userattribute2\"] - \\n    associate \"userattribute1\" and \"objectattribute1\" with [\"read\"]\\n\\n    Policy statement: \\n    On college campuses, eligibity to create a proposal, PDSWhole, is restricted to those who can serve as PI. \\n    Tenured-Tenure-Track Faculty (Research, Tenured Track, and Tenured Faculty) can be a PI. Adjunct Faculty can be Senior Personnel, while Non-Tenure-Track (Clinical and Teaching Faculty) can be CoPI. \\n    All PIs can be a CoPI. All CoPI can be Senior Personnel. Bob is a researcher and Professor Xu is Tenured Faculty.\\n\\n\\n    \\n    Policy Machine Language:\\n    create user \"Bob\" in [\"Tenured-Tenure-Track Faculty\"];\\n    create user \"Professor Xu\" in [\"Tenured Faculty\"];\\n    assign \"Tenured-Tenure-Track Faculty\" to [\"PI\"];\\n    assign \"Tenured Faculty\" to [\"PI\"];\\n    assign \"PI\" to [\"CoPI\"];\\n    assign \"CoPI\" to [\"Senior Personnel\"];\\n    associate \"PI\" and \"PDSWhole\" with [\"create\"];\\n\\n    \\n    \\n    \\n    \\n    \\n    \\n    \\n    \\n    \\n    \\n    \\n    \\n    \\n    \\n    \\n    \\n    \\n    \\n    \\n    \\n    \\n    \\n    \\n    ']"
      ]
     },
     "execution_count": 24,
     "metadata": {},
     "output_type": "execute_result"
    }
   ],
   "source": [
    "DAGprompt = '''\n",
    "    \n",
    "    Output the policy machine language necessary to generate the direct Acyclic representation of the configuration derived from the policy statement. The policy class is the root of the graph. User and user attributes are represented by nodes on the left side of the graph.\n",
    "    Objects are represented by nodes on the right side of the graph. Directed edges represent assignment of users, objects, or attributes to an attribute node. \n",
    "    \n",
    "\n",
    "    Policy Machine Language: \n",
    "    create user \"user1\" in [\"userattribute1\"];\n",
    "    assign \"userattribute1\" to [\"userattribute2\"] - \n",
    "    associate \"userattribute1\" and \"objectattribute1\" with [\"read\"]\n",
    "\n",
    "    Policy statement: \n",
    "    On college campuses, eligibity to create a proposal, PDSWhole, is restricted to those who can serve as PI. \n",
    "    Tenured-Tenure-Track Faculty (Research, Tenured Track, and Tenured Faculty) can be a PI. Adjunct Faculty can be Senior Personnel, while Non-Tenure-Track (Clinical and Teaching Faculty) can be CoPI. \n",
    "    All PIs can be a CoPI. All CoPI can be Senior Personnel. Bob is a researcher and Professor Xu is Tenured Faculty.\n",
    "\n",
    "\n",
    "    \n",
    "'''\n",
    "\n",
    "gemma27b(DAGprompt)"
   ]
  },
  {
   "cell_type": "code",
   "execution_count": 25,
   "metadata": {},
   "outputs": [
    {
     "name": "stdout",
     "output_type": "stream",
     "text": [
      "\n",
      "\n",
      "\n",
      "\n",
      "    \n",
      "    Output the policy machine language necessary to generate the direct Acyclic representation of the configuration derived from the policy statement. The policy class is the root of the graph. User and user attributes are represented by nodes on the left side of the graph.\n",
      "    Objects are represented by nodes on the right side of the graph. Directed edges represent assignment of users, objects, or attributes to an attribute node. \n",
      "    \n",
      "\n",
      "    Policy Machine Language: \n",
      "    create user \"user1\" in [\"userattribute1\"];\n",
      "    assign \"userattribute1\" to [\"userattribute2\"] - \n",
      "    associate \"userattribute1\" and \"objectattribute1\" with [\"read\"]\n",
      "\n",
      "    Policy statement: \n",
      "    On college campuses, eligibity to create a proposal, PDSWhole, is restricted to those who can serve as PI. \n",
      "    Tenured-Tenure-Track Faculty (Research, Tenured Track, and Tenured Faculty) can be a PI. Adjunct Faculty can be Senior Personnel, while Non-Tenure-Track (Clinical and Teaching Faculty) can be CoPI. \n",
      "    All PIs can be a CoPI. All CoPI can be Senior Personnel. Bob is a researcher and Professor Xu is Tenured Faculty.\n",
      "\n",
      "\n",
      "    \n",
      "\u001b[32m\n",
      "    \n",
      "    Output the policy machine language necessary to generate the direct Acyclic representation of the configuration derived from the policy statement. The policy class is the root of the graph. User and user attributes are represented by nodes on the left side of the graph.\n",
      "    Objects are represented by nodes on the right side of the graph. Directed edges represent assignment of users, objects, or attributes to an attribute node. \n",
      "    \n",
      "\n",
      "    Policy Machine Language: \n",
      "    create user \"user1\" in [\"userattribute1\"];\n",
      "    assign \"userattribute1\" to [\"userattribute2\"] - \n",
      "    associate \"userattribute1\" and \"objectattribute1\" with [\"read\"]\n",
      "\n",
      "    Policy statement: \n",
      "    On college campuses, eligibity to create a proposal, PDSWhole, is restricted to those who can serve as PI. \n",
      "    Tenured-Tenure-Track Faculty (Research, Tenured Track, and Tenured Faculty) can be a PI. Adjunct Faculty can be Senior Personnel, while Non-Tenure-Track (Clinical and Teaching Faculty) can be CoPI. \n",
      "    All PIs can be a CoPI. All CoPI can be Senior Personnel. Bob is a researcher and Professor Xu is Tenured Faculty.\n",
      "\n",
      "\n",
      "    \n",
      "    Policy Machine Language:\n",
      "    create user \"Bob\" in [\"Tenured-Tenure-Track Faculty\"];\n",
      "    create user \"Professor Xu\" in [\"Tenured Faculty\"];\n",
      "    assign \"Tenured-Tenure-Track Faculty\" to [\"PI\"];\n",
      "    assign \"Tenured Faculty\" to [\"PI\"];\n",
      "    assign \"PI\" to [\"CoPI\"];\n",
      "    assign \"CoPI\" to [\"Senior Personnel\"];\n",
      "    associate \"PI\" and \"PDSWhole\" with [\"create\"];\n",
      "\n",
      "    \n",
      "    \n",
      "    \n",
      "    \n",
      "    \n",
      "    \n",
      "    \n",
      "    \n",
      "    \n",
      "    \n",
      "    \n",
      "    \n",
      "    \n",
      "    \n",
      "    \n",
      "    \n",
      "    \n",
      "    \n",
      "    \n",
      "    \n",
      "    \n",
      "    \n",
      "    \n",
      "    \u001b[0m\n",
      "\n",
      "\n",
      "\n"
     ]
    },
    {
     "data": {
      "text/plain": [
       "'\\n\\n\\n\\n    \\n    Output the policy machine language necessary to generate the direct Acyclic representation of the configuration derived from the policy statement. The policy class is the root of the graph. User and user attributes are represented by nodes on the left side of the graph.\\n    Objects are represented by nodes on the right side of the graph. Directed edges represent assignment of users, objects, or attributes to an attribute node. \\n    \\n\\n    Policy Machine Language: \\n    create user \"user1\" in [\"userattribute1\"];\\n    assign \"userattribute1\" to [\"userattribute2\"] - \\n    associate \"userattribute1\" and \"objectattribute1\" with [\"read\"]\\n\\n    Policy statement: \\n    On college campuses, eligibity to create a proposal, PDSWhole, is restricted to those who can serve as PI. \\n    Tenured-Tenure-Track Faculty (Research, Tenured Track, and Tenured Faculty) can be a PI. Adjunct Faculty can be Senior Personnel, while Non-Tenure-Track (Clinical and Teaching Faculty) can be CoPI. \\n    All PIs can be a CoPI. All CoPI can be Senior Personnel. Bob is a researcher and Professor Xu is Tenured Faculty.\\n\\n\\n    \\n\\x1b[32m\\n    \\n    Output the policy machine language necessary to generate the direct Acyclic representation of the configuration derived from the policy statement. The policy class is the root of the graph. User and user attributes are represented by nodes on the left side of the graph.\\n    Objects are represented by nodes on the right side of the graph. Directed edges represent assignment of users, objects, or attributes to an attribute node. \\n    \\n\\n    Policy Machine Language: \\n    create user \"user1\" in [\"userattribute1\"];\\n    assign \"userattribute1\" to [\"userattribute2\"] - \\n    associate \"userattribute1\" and \"objectattribute1\" with [\"read\"]\\n\\n    Policy statement: \\n    On college campuses, eligibity to create a proposal, PDSWhole, is restricted to those who can serve as PI. \\n    Tenured-Tenure-Track Faculty (Research, Tenured Track, and Tenured Faculty) can be a PI. Adjunct Faculty can be Senior Personnel, while Non-Tenure-Track (Clinical and Teaching Faculty) can be CoPI. \\n    All PIs can be a CoPI. All CoPI can be Senior Personnel. Bob is a researcher and Professor Xu is Tenured Faculty.\\n\\n\\n    \\n    Policy Machine Language:\\n    create user \"Bob\" in [\"Tenured-Tenure-Track Faculty\"];\\n    create user \"Professor Xu\" in [\"Tenured Faculty\"];\\n    assign \"Tenured-Tenure-Track Faculty\" to [\"PI\"];\\n    assign \"Tenured Faculty\" to [\"PI\"];\\n    assign \"PI\" to [\"CoPI\"];\\n    assign \"CoPI\" to [\"Senior Personnel\"];\\n    associate \"PI\" and \"PDSWhole\" with [\"create\"];\\n\\n    \\n    \\n    \\n    \\n    \\n    \\n    \\n    \\n    \\n    \\n    \\n    \\n    \\n    \\n    \\n    \\n    \\n    \\n    \\n    \\n    \\n    \\n    \\n    \\x1b[0m\\n\\n\\n'"
      ]
     },
     "execution_count": 25,
     "metadata": {},
     "output_type": "execute_result"
    }
   ],
   "source": [
    "gemma27b.inspect_history(n=1)"
   ]
  }
 ],
 "metadata": {
  "kernelspec": {
   "display_name": "test_env",
   "language": "python",
   "name": "python3"
  },
  "language_info": {
   "codemirror_mode": {
    "name": "ipython",
    "version": 3
   },
   "file_extension": ".py",
   "mimetype": "text/x-python",
   "name": "python",
   "nbconvert_exporter": "python",
   "pygments_lexer": "ipython3",
   "version": "3.12.4"
  }
 },
 "nbformat": 4,
 "nbformat_minor": 2
}
