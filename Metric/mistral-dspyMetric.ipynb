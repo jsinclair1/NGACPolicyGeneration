{
 "cells": [
  {
   "cell_type": "code",
   "execution_count": 17,
   "metadata": {},
   "outputs": [
    {
     "name": "stderr",
     "output_type": "stream",
     "text": [
      "huggingface/tokenizers: The current process just got forked, after parallelism has already been used. Disabling parallelism to avoid deadlocks...\n",
      "To disable this warning, you can either:\n",
      "\t- Avoid using `tokenizers` before the fork if possible\n",
      "\t- Explicitly set the environment variable TOKENIZERS_PARALLELISM=(true | false)\n"
     ]
    },
    {
     "name": "stdout",
     "output_type": "stream",
     "text": [
      "Requirement already satisfied: dspy-ai in /home/jps36r/.conda/envs/test_env/lib/python3.12/site-packages (2.4.10)\n",
      "Requirement already satisfied: backoff~=2.2.1 in /home/jps36r/.conda/envs/test_env/lib/python3.12/site-packages (from dspy-ai) (2.2.1)\n",
      "Requirement already satisfied: joblib~=1.3.2 in /home/jps36r/.conda/envs/test_env/lib/python3.12/site-packages (from dspy-ai) (1.3.2)\n",
      "Requirement already satisfied: openai<2.0.0,>=0.28.1 in /home/jps36r/.conda/envs/test_env/lib/python3.12/site-packages (from dspy-ai) (1.35.3)\n",
      "Requirement already satisfied: pandas in /home/jps36r/.conda/envs/test_env/lib/python3.12/site-packages (from dspy-ai) (2.2.2)\n",
      "Requirement already satisfied: regex in /home/jps36r/.conda/envs/test_env/lib/python3.12/site-packages (from dspy-ai) (2024.5.15)\n",
      "Requirement already satisfied: ujson in /home/jps36r/.conda/envs/test_env/lib/python3.12/site-packages (from dspy-ai) (5.10.0)\n",
      "Requirement already satisfied: tqdm in /home/jps36r/.conda/envs/test_env/lib/python3.12/site-packages (from dspy-ai) (4.66.4)\n",
      "Requirement already satisfied: datasets<3.0.0,>=2.14.6 in /home/jps36r/.conda/envs/test_env/lib/python3.12/site-packages (from dspy-ai) (2.20.0)\n",
      "Requirement already satisfied: requests in /home/jps36r/.conda/envs/test_env/lib/python3.12/site-packages (from dspy-ai) (2.32.3)\n",
      "Requirement already satisfied: optuna in /home/jps36r/.conda/envs/test_env/lib/python3.12/site-packages (from dspy-ai) (3.6.1)\n",
      "Requirement already satisfied: pydantic~=2.0 in /home/jps36r/.conda/envs/test_env/lib/python3.12/site-packages (from dspy-ai) (2.7.4)\n",
      "Requirement already satisfied: structlog in /home/jps36r/.conda/envs/test_env/lib/python3.12/site-packages (from dspy-ai) (24.2.0)\n",
      "Requirement already satisfied: jinja2 in /home/jps36r/.conda/envs/test_env/lib/python3.12/site-packages (from dspy-ai) (3.1.4)\n",
      "Requirement already satisfied: filelock in /home/jps36r/.conda/envs/test_env/lib/python3.12/site-packages (from datasets<3.0.0,>=2.14.6->dspy-ai) (3.15.4)\n",
      "Requirement already satisfied: numpy>=1.17 in /home/jps36r/.conda/envs/test_env/lib/python3.12/site-packages (from datasets<3.0.0,>=2.14.6->dspy-ai) (1.26.4)\n",
      "Requirement already satisfied: pyarrow>=15.0.0 in /home/jps36r/.conda/envs/test_env/lib/python3.12/site-packages (from datasets<3.0.0,>=2.14.6->dspy-ai) (16.1.0)\n",
      "Requirement already satisfied: pyarrow-hotfix in /home/jps36r/.conda/envs/test_env/lib/python3.12/site-packages (from datasets<3.0.0,>=2.14.6->dspy-ai) (0.6)\n",
      "Requirement already satisfied: dill<0.3.9,>=0.3.0 in /home/jps36r/.conda/envs/test_env/lib/python3.12/site-packages (from datasets<3.0.0,>=2.14.6->dspy-ai) (0.3.8)\n",
      "Requirement already satisfied: xxhash in /home/jps36r/.conda/envs/test_env/lib/python3.12/site-packages (from datasets<3.0.0,>=2.14.6->dspy-ai) (3.4.1)\n",
      "Requirement already satisfied: multiprocess in /home/jps36r/.conda/envs/test_env/lib/python3.12/site-packages (from datasets<3.0.0,>=2.14.6->dspy-ai) (0.70.16)\n",
      "Requirement already satisfied: fsspec<=2024.5.0,>=2023.1.0 in /home/jps36r/.conda/envs/test_env/lib/python3.12/site-packages (from fsspec[http]<=2024.5.0,>=2023.1.0->datasets<3.0.0,>=2.14.6->dspy-ai) (2024.5.0)\n",
      "Requirement already satisfied: aiohttp in /home/jps36r/.conda/envs/test_env/lib/python3.12/site-packages (from datasets<3.0.0,>=2.14.6->dspy-ai) (3.9.5)\n",
      "Requirement already satisfied: huggingface-hub>=0.21.2 in /home/jps36r/.conda/envs/test_env/lib/python3.12/site-packages (from datasets<3.0.0,>=2.14.6->dspy-ai) (0.23.4)\n",
      "Requirement already satisfied: packaging in /home/jps36r/.conda/envs/test_env/lib/python3.12/site-packages (from datasets<3.0.0,>=2.14.6->dspy-ai) (24.1)\n",
      "Requirement already satisfied: pyyaml>=5.1 in /home/jps36r/.conda/envs/test_env/lib/python3.12/site-packages (from datasets<3.0.0,>=2.14.6->dspy-ai) (6.0.1)\n",
      "Requirement already satisfied: anyio<5,>=3.5.0 in /home/jps36r/.conda/envs/test_env/lib/python3.12/site-packages (from openai<2.0.0,>=0.28.1->dspy-ai) (4.4.0)\n",
      "Requirement already satisfied: distro<2,>=1.7.0 in /home/jps36r/.conda/envs/test_env/lib/python3.12/site-packages (from openai<2.0.0,>=0.28.1->dspy-ai) (1.9.0)\n",
      "Requirement already satisfied: httpx<1,>=0.23.0 in /home/jps36r/.conda/envs/test_env/lib/python3.12/site-packages (from openai<2.0.0,>=0.28.1->dspy-ai) (0.27.0)\n",
      "Requirement already satisfied: sniffio in /home/jps36r/.conda/envs/test_env/lib/python3.12/site-packages (from openai<2.0.0,>=0.28.1->dspy-ai) (1.3.1)\n",
      "Requirement already satisfied: typing-extensions<5,>=4.7 in /home/jps36r/.conda/envs/test_env/lib/python3.12/site-packages (from openai<2.0.0,>=0.28.1->dspy-ai) (4.12.2)\n",
      "Requirement already satisfied: annotated-types>=0.4.0 in /home/jps36r/.conda/envs/test_env/lib/python3.12/site-packages (from pydantic~=2.0->dspy-ai) (0.7.0)\n",
      "Requirement already satisfied: pydantic-core==2.18.4 in /home/jps36r/.conda/envs/test_env/lib/python3.12/site-packages (from pydantic~=2.0->dspy-ai) (2.18.4)\n",
      "Requirement already satisfied: charset-normalizer<4,>=2 in /home/jps36r/.conda/envs/test_env/lib/python3.12/site-packages (from requests->dspy-ai) (3.3.2)\n",
      "Requirement already satisfied: idna<4,>=2.5 in /home/jps36r/.conda/envs/test_env/lib/python3.12/site-packages (from requests->dspy-ai) (3.7)\n",
      "Requirement already satisfied: urllib3<3,>=1.21.1 in /home/jps36r/.conda/envs/test_env/lib/python3.12/site-packages (from requests->dspy-ai) (2.2.2)\n",
      "Requirement already satisfied: certifi>=2017.4.17 in /home/jps36r/.conda/envs/test_env/lib/python3.12/site-packages (from requests->dspy-ai) (2024.6.2)\n",
      "Requirement already satisfied: MarkupSafe>=2.0 in /home/jps36r/.conda/envs/test_env/lib/python3.12/site-packages (from jinja2->dspy-ai) (2.1.5)\n",
      "Requirement already satisfied: alembic>=1.5.0 in /home/jps36r/.conda/envs/test_env/lib/python3.12/site-packages (from optuna->dspy-ai) (1.13.1)\n",
      "Requirement already satisfied: colorlog in /home/jps36r/.conda/envs/test_env/lib/python3.12/site-packages (from optuna->dspy-ai) (6.8.2)\n",
      "Requirement already satisfied: sqlalchemy>=1.3.0 in /home/jps36r/.conda/envs/test_env/lib/python3.12/site-packages (from optuna->dspy-ai) (2.0.31)\n",
      "Requirement already satisfied: python-dateutil>=2.8.2 in /home/jps36r/.conda/envs/test_env/lib/python3.12/site-packages (from pandas->dspy-ai) (2.9.0)\n",
      "Requirement already satisfied: pytz>=2020.1 in /home/jps36r/.conda/envs/test_env/lib/python3.12/site-packages (from pandas->dspy-ai) (2024.1)\n",
      "Requirement already satisfied: tzdata>=2022.7 in /home/jps36r/.conda/envs/test_env/lib/python3.12/site-packages (from pandas->dspy-ai) (2024.1)\n",
      "Requirement already satisfied: Mako in /home/jps36r/.conda/envs/test_env/lib/python3.12/site-packages (from alembic>=1.5.0->optuna->dspy-ai) (1.3.5)\n",
      "Requirement already satisfied: aiosignal>=1.1.2 in /home/jps36r/.conda/envs/test_env/lib/python3.12/site-packages (from aiohttp->datasets<3.0.0,>=2.14.6->dspy-ai) (1.3.1)\n",
      "Requirement already satisfied: attrs>=17.3.0 in /home/jps36r/.conda/envs/test_env/lib/python3.12/site-packages (from aiohttp->datasets<3.0.0,>=2.14.6->dspy-ai) (23.2.0)\n",
      "Requirement already satisfied: frozenlist>=1.1.1 in /home/jps36r/.conda/envs/test_env/lib/python3.12/site-packages (from aiohttp->datasets<3.0.0,>=2.14.6->dspy-ai) (1.4.1)\n",
      "Requirement already satisfied: multidict<7.0,>=4.5 in /home/jps36r/.conda/envs/test_env/lib/python3.12/site-packages (from aiohttp->datasets<3.0.0,>=2.14.6->dspy-ai) (6.0.5)\n",
      "Requirement already satisfied: yarl<2.0,>=1.0 in /home/jps36r/.conda/envs/test_env/lib/python3.12/site-packages (from aiohttp->datasets<3.0.0,>=2.14.6->dspy-ai) (1.9.4)\n",
      "Requirement already satisfied: httpcore==1.* in /home/jps36r/.conda/envs/test_env/lib/python3.12/site-packages (from httpx<1,>=0.23.0->openai<2.0.0,>=0.28.1->dspy-ai) (1.0.5)\n",
      "Requirement already satisfied: h11<0.15,>=0.13 in /home/jps36r/.conda/envs/test_env/lib/python3.12/site-packages (from httpcore==1.*->httpx<1,>=0.23.0->openai<2.0.0,>=0.28.1->dspy-ai) (0.14.0)\n",
      "Requirement already satisfied: six>=1.5 in /home/jps36r/.conda/envs/test_env/lib/python3.12/site-packages (from python-dateutil>=2.8.2->pandas->dspy-ai) (1.16.0)\n",
      "Requirement already satisfied: greenlet!=0.4.17 in /home/jps36r/.conda/envs/test_env/lib/python3.12/site-packages (from sqlalchemy>=1.3.0->optuna->dspy-ai) (3.0.3)\n",
      "Note: you may need to restart the kernel to use updated packages.\n"
     ]
    },
    {
     "name": "stderr",
     "output_type": "stream",
     "text": [
      "huggingface/tokenizers: The current process just got forked, after parallelism has already been used. Disabling parallelism to avoid deadlocks...\n",
      "To disable this warning, you can either:\n",
      "\t- Avoid using `tokenizers` before the fork if possible\n",
      "\t- Explicitly set the environment variable TOKENIZERS_PARALLELISM=(true | false)\n"
     ]
    },
    {
     "name": "stdout",
     "output_type": "stream",
     "text": [
      "Requirement already satisfied: ipywidgets in /home/jps36r/.conda/envs/test_env/lib/python3.12/site-packages (8.1.3)\n",
      "Requirement already satisfied: comm>=0.1.3 in /home/jps36r/.conda/envs/test_env/lib/python3.12/site-packages (from ipywidgets) (0.2.2)\n",
      "Requirement already satisfied: ipython>=6.1.0 in /home/jps36r/.conda/envs/test_env/lib/python3.12/site-packages (from ipywidgets) (8.25.0)\n",
      "Requirement already satisfied: traitlets>=4.3.1 in /home/jps36r/.conda/envs/test_env/lib/python3.12/site-packages (from ipywidgets) (5.14.3)\n",
      "Requirement already satisfied: widgetsnbextension~=4.0.11 in /home/jps36r/.conda/envs/test_env/lib/python3.12/site-packages (from ipywidgets) (4.0.11)\n",
      "Requirement already satisfied: jupyterlab-widgets~=3.0.11 in /home/jps36r/.conda/envs/test_env/lib/python3.12/site-packages (from ipywidgets) (3.0.11)\n",
      "Requirement already satisfied: decorator in /home/jps36r/.conda/envs/test_env/lib/python3.12/site-packages (from ipython>=6.1.0->ipywidgets) (5.1.1)\n",
      "Requirement already satisfied: jedi>=0.16 in /home/jps36r/.conda/envs/test_env/lib/python3.12/site-packages (from ipython>=6.1.0->ipywidgets) (0.19.1)\n",
      "Requirement already satisfied: matplotlib-inline in /home/jps36r/.conda/envs/test_env/lib/python3.12/site-packages (from ipython>=6.1.0->ipywidgets) (0.1.7)\n",
      "Requirement already satisfied: prompt-toolkit<3.1.0,>=3.0.41 in /home/jps36r/.conda/envs/test_env/lib/python3.12/site-packages (from ipython>=6.1.0->ipywidgets) (3.0.47)\n",
      "Requirement already satisfied: pygments>=2.4.0 in /home/jps36r/.conda/envs/test_env/lib/python3.12/site-packages (from ipython>=6.1.0->ipywidgets) (2.18.0)\n",
      "Requirement already satisfied: stack-data in /home/jps36r/.conda/envs/test_env/lib/python3.12/site-packages (from ipython>=6.1.0->ipywidgets) (0.6.2)\n",
      "Requirement already satisfied: pexpect>4.3 in /home/jps36r/.conda/envs/test_env/lib/python3.12/site-packages (from ipython>=6.1.0->ipywidgets) (4.9.0)\n",
      "Requirement already satisfied: parso<0.9.0,>=0.8.3 in /home/jps36r/.conda/envs/test_env/lib/python3.12/site-packages (from jedi>=0.16->ipython>=6.1.0->ipywidgets) (0.8.4)\n",
      "Requirement already satisfied: ptyprocess>=0.5 in /home/jps36r/.conda/envs/test_env/lib/python3.12/site-packages (from pexpect>4.3->ipython>=6.1.0->ipywidgets) (0.7.0)\n",
      "Requirement already satisfied: wcwidth in /home/jps36r/.conda/envs/test_env/lib/python3.12/site-packages (from prompt-toolkit<3.1.0,>=3.0.41->ipython>=6.1.0->ipywidgets) (0.2.13)\n",
      "Requirement already satisfied: executing>=1.2.0 in /home/jps36r/.conda/envs/test_env/lib/python3.12/site-packages (from stack-data->ipython>=6.1.0->ipywidgets) (2.0.1)\n",
      "Requirement already satisfied: asttokens>=2.1.0 in /home/jps36r/.conda/envs/test_env/lib/python3.12/site-packages (from stack-data->ipython>=6.1.0->ipywidgets) (2.4.1)\n",
      "Requirement already satisfied: pure-eval in /home/jps36r/.conda/envs/test_env/lib/python3.12/site-packages (from stack-data->ipython>=6.1.0->ipywidgets) (0.2.2)\n",
      "Requirement already satisfied: six>=1.12.0 in /home/jps36r/.conda/envs/test_env/lib/python3.12/site-packages (from asttokens>=2.1.0->stack-data->ipython>=6.1.0->ipywidgets) (1.16.0)\n",
      "Note: you may need to restart the kernel to use updated packages.\n"
     ]
    },
    {
     "name": "stderr",
     "output_type": "stream",
     "text": [
      "huggingface/tokenizers: The current process just got forked, after parallelism has already been used. Disabling parallelism to avoid deadlocks...\n",
      "To disable this warning, you can either:\n",
      "\t- Avoid using `tokenizers` before the fork if possible\n",
      "\t- Explicitly set the environment variable TOKENIZERS_PARALLELISM=(true | false)\n"
     ]
    },
    {
     "name": "stdout",
     "output_type": "stream",
     "text": [
      "Requirement already satisfied: python-dotenv in /home/jps36r/.conda/envs/test_env/lib/python3.12/site-packages (1.0.1)\n",
      "Note: you may need to restart the kernel to use updated packages.\n"
     ]
    },
    {
     "name": "stderr",
     "output_type": "stream",
     "text": [
      "huggingface/tokenizers: The current process just got forked, after parallelism has already been used. Disabling parallelism to avoid deadlocks...\n",
      "To disable this warning, you can either:\n",
      "\t- Avoid using `tokenizers` before the fork if possible\n",
      "\t- Explicitly set the environment variable TOKENIZERS_PARALLELISM=(true | false)\n"
     ]
    },
    {
     "name": "stdout",
     "output_type": "stream",
     "text": [
      "Requirement already satisfied: chromadb in /home/jps36r/.conda/envs/test_env/lib/python3.12/site-packages (0.5.3)\n",
      "Requirement already satisfied: build>=1.0.3 in /home/jps36r/.conda/envs/test_env/lib/python3.12/site-packages (from chromadb) (1.2.1)\n",
      "Requirement already satisfied: requests>=2.28 in /home/jps36r/.conda/envs/test_env/lib/python3.12/site-packages (from chromadb) (2.32.3)\n",
      "Requirement already satisfied: pydantic>=1.9 in /home/jps36r/.conda/envs/test_env/lib/python3.12/site-packages (from chromadb) (2.7.4)\n",
      "Requirement already satisfied: chroma-hnswlib==0.7.3 in /home/jps36r/.conda/envs/test_env/lib/python3.12/site-packages (from chromadb) (0.7.3)\n",
      "Requirement already satisfied: fastapi>=0.95.2 in /home/jps36r/.conda/envs/test_env/lib/python3.12/site-packages (from chromadb) (0.111.0)\n",
      "Requirement already satisfied: uvicorn>=0.18.3 in /home/jps36r/.conda/envs/test_env/lib/python3.12/site-packages (from uvicorn[standard]>=0.18.3->chromadb) (0.30.1)\n",
      "Requirement already satisfied: numpy<2.0.0,>=1.22.5 in /home/jps36r/.conda/envs/test_env/lib/python3.12/site-packages (from chromadb) (1.26.4)\n",
      "Requirement already satisfied: posthog>=2.4.0 in /home/jps36r/.conda/envs/test_env/lib/python3.12/site-packages (from chromadb) (3.5.0)\n",
      "Requirement already satisfied: typing-extensions>=4.5.0 in /home/jps36r/.conda/envs/test_env/lib/python3.12/site-packages (from chromadb) (4.12.2)\n",
      "Requirement already satisfied: onnxruntime>=1.14.1 in /home/jps36r/.conda/envs/test_env/lib/python3.12/site-packages (from chromadb) (1.18.0)\n",
      "Requirement already satisfied: opentelemetry-api>=1.2.0 in /home/jps36r/.conda/envs/test_env/lib/python3.12/site-packages (from chromadb) (1.25.0)\n",
      "Requirement already satisfied: opentelemetry-exporter-otlp-proto-grpc>=1.2.0 in /home/jps36r/.conda/envs/test_env/lib/python3.12/site-packages (from chromadb) (1.25.0)\n",
      "Requirement already satisfied: opentelemetry-instrumentation-fastapi>=0.41b0 in /home/jps36r/.conda/envs/test_env/lib/python3.12/site-packages (from chromadb) (0.46b0)\n",
      "Requirement already satisfied: opentelemetry-sdk>=1.2.0 in /home/jps36r/.conda/envs/test_env/lib/python3.12/site-packages (from chromadb) (1.25.0)\n",
      "Requirement already satisfied: tokenizers>=0.13.2 in /home/jps36r/.conda/envs/test_env/lib/python3.12/site-packages (from chromadb) (0.19.1)\n",
      "Requirement already satisfied: pypika>=0.48.9 in /home/jps36r/.conda/envs/test_env/lib/python3.12/site-packages (from chromadb) (0.48.9)\n",
      "Requirement already satisfied: tqdm>=4.65.0 in /home/jps36r/.conda/envs/test_env/lib/python3.12/site-packages (from chromadb) (4.66.4)\n",
      "Requirement already satisfied: overrides>=7.3.1 in /home/jps36r/.conda/envs/test_env/lib/python3.12/site-packages (from chromadb) (7.7.0)\n",
      "Requirement already satisfied: importlib-resources in /home/jps36r/.conda/envs/test_env/lib/python3.12/site-packages (from chromadb) (6.4.0)\n",
      "Requirement already satisfied: grpcio>=1.58.0 in /home/jps36r/.conda/envs/test_env/lib/python3.12/site-packages (from chromadb) (1.64.1)\n",
      "Requirement already satisfied: bcrypt>=4.0.1 in /home/jps36r/.conda/envs/test_env/lib/python3.12/site-packages (from chromadb) (4.1.3)\n",
      "Requirement already satisfied: typer>=0.9.0 in /home/jps36r/.conda/envs/test_env/lib/python3.12/site-packages (from chromadb) (0.12.3)\n",
      "Requirement already satisfied: kubernetes>=28.1.0 in /home/jps36r/.conda/envs/test_env/lib/python3.12/site-packages (from chromadb) (30.1.0)\n",
      "Requirement already satisfied: tenacity>=8.2.3 in /home/jps36r/.conda/envs/test_env/lib/python3.12/site-packages (from chromadb) (8.4.2)\n",
      "Requirement already satisfied: PyYAML>=6.0.0 in /home/jps36r/.conda/envs/test_env/lib/python3.12/site-packages (from chromadb) (6.0.1)\n",
      "Requirement already satisfied: mmh3>=4.0.1 in /home/jps36r/.conda/envs/test_env/lib/python3.12/site-packages (from chromadb) (4.1.0)\n",
      "Requirement already satisfied: orjson>=3.9.12 in /home/jps36r/.conda/envs/test_env/lib/python3.12/site-packages (from chromadb) (3.10.5)\n",
      "Requirement already satisfied: httpx>=0.27.0 in /home/jps36r/.conda/envs/test_env/lib/python3.12/site-packages (from chromadb) (0.27.0)\n",
      "Requirement already satisfied: packaging>=19.1 in /home/jps36r/.conda/envs/test_env/lib/python3.12/site-packages (from build>=1.0.3->chromadb) (24.1)\n",
      "Requirement already satisfied: pyproject_hooks in /home/jps36r/.conda/envs/test_env/lib/python3.12/site-packages (from build>=1.0.3->chromadb) (1.1.0)\n",
      "Requirement already satisfied: starlette<0.38.0,>=0.37.2 in /home/jps36r/.conda/envs/test_env/lib/python3.12/site-packages (from fastapi>=0.95.2->chromadb) (0.37.2)\n",
      "Requirement already satisfied: fastapi-cli>=0.0.2 in /home/jps36r/.conda/envs/test_env/lib/python3.12/site-packages (from fastapi>=0.95.2->chromadb) (0.0.4)\n",
      "Requirement already satisfied: jinja2>=2.11.2 in /home/jps36r/.conda/envs/test_env/lib/python3.12/site-packages (from fastapi>=0.95.2->chromadb) (3.1.4)\n",
      "Requirement already satisfied: python-multipart>=0.0.7 in /home/jps36r/.conda/envs/test_env/lib/python3.12/site-packages (from fastapi>=0.95.2->chromadb) (0.0.9)\n",
      "Requirement already satisfied: ujson!=4.0.2,!=4.1.0,!=4.2.0,!=4.3.0,!=5.0.0,!=5.1.0,>=4.0.1 in /home/jps36r/.conda/envs/test_env/lib/python3.12/site-packages (from fastapi>=0.95.2->chromadb) (5.10.0)\n",
      "Requirement already satisfied: email_validator>=2.0.0 in /home/jps36r/.conda/envs/test_env/lib/python3.12/site-packages (from fastapi>=0.95.2->chromadb) (2.2.0)\n",
      "Requirement already satisfied: anyio in /home/jps36r/.conda/envs/test_env/lib/python3.12/site-packages (from httpx>=0.27.0->chromadb) (4.4.0)\n",
      "Requirement already satisfied: certifi in /home/jps36r/.conda/envs/test_env/lib/python3.12/site-packages (from httpx>=0.27.0->chromadb) (2024.6.2)\n",
      "Requirement already satisfied: httpcore==1.* in /home/jps36r/.conda/envs/test_env/lib/python3.12/site-packages (from httpx>=0.27.0->chromadb) (1.0.5)\n",
      "Requirement already satisfied: idna in /home/jps36r/.conda/envs/test_env/lib/python3.12/site-packages (from httpx>=0.27.0->chromadb) (3.7)\n",
      "Requirement already satisfied: sniffio in /home/jps36r/.conda/envs/test_env/lib/python3.12/site-packages (from httpx>=0.27.0->chromadb) (1.3.1)\n",
      "Requirement already satisfied: h11<0.15,>=0.13 in /home/jps36r/.conda/envs/test_env/lib/python3.12/site-packages (from httpcore==1.*->httpx>=0.27.0->chromadb) (0.14.0)\n",
      "Requirement already satisfied: six>=1.9.0 in /home/jps36r/.conda/envs/test_env/lib/python3.12/site-packages (from kubernetes>=28.1.0->chromadb) (1.16.0)\n",
      "Requirement already satisfied: python-dateutil>=2.5.3 in /home/jps36r/.conda/envs/test_env/lib/python3.12/site-packages (from kubernetes>=28.1.0->chromadb) (2.9.0)\n",
      "Requirement already satisfied: google-auth>=1.0.1 in /home/jps36r/.conda/envs/test_env/lib/python3.12/site-packages (from kubernetes>=28.1.0->chromadb) (2.30.0)\n",
      "Requirement already satisfied: websocket-client!=0.40.0,!=0.41.*,!=0.42.*,>=0.32.0 in /home/jps36r/.conda/envs/test_env/lib/python3.12/site-packages (from kubernetes>=28.1.0->chromadb) (1.8.0)\n",
      "Requirement already satisfied: requests-oauthlib in /home/jps36r/.conda/envs/test_env/lib/python3.12/site-packages (from kubernetes>=28.1.0->chromadb) (2.0.0)\n",
      "Requirement already satisfied: oauthlib>=3.2.2 in /home/jps36r/.conda/envs/test_env/lib/python3.12/site-packages (from kubernetes>=28.1.0->chromadb) (3.2.2)\n",
      "Requirement already satisfied: urllib3>=1.24.2 in /home/jps36r/.conda/envs/test_env/lib/python3.12/site-packages (from kubernetes>=28.1.0->chromadb) (2.2.2)\n",
      "Requirement already satisfied: coloredlogs in /home/jps36r/.conda/envs/test_env/lib/python3.12/site-packages (from onnxruntime>=1.14.1->chromadb) (15.0.1)\n",
      "Requirement already satisfied: flatbuffers in /home/jps36r/.conda/envs/test_env/lib/python3.12/site-packages (from onnxruntime>=1.14.1->chromadb) (24.3.25)\n",
      "Requirement already satisfied: protobuf in /home/jps36r/.conda/envs/test_env/lib/python3.12/site-packages (from onnxruntime>=1.14.1->chromadb) (4.25.3)\n",
      "Requirement already satisfied: sympy in /home/jps36r/.conda/envs/test_env/lib/python3.12/site-packages (from onnxruntime>=1.14.1->chromadb) (1.12.1)\n",
      "Requirement already satisfied: deprecated>=1.2.6 in /home/jps36r/.conda/envs/test_env/lib/python3.12/site-packages (from opentelemetry-api>=1.2.0->chromadb) (1.2.14)\n",
      "Requirement already satisfied: importlib-metadata<=7.1,>=6.0 in /home/jps36r/.conda/envs/test_env/lib/python3.12/site-packages (from opentelemetry-api>=1.2.0->chromadb) (7.1.0)\n",
      "Requirement already satisfied: googleapis-common-protos~=1.52 in /home/jps36r/.conda/envs/test_env/lib/python3.12/site-packages (from opentelemetry-exporter-otlp-proto-grpc>=1.2.0->chromadb) (1.63.2)\n",
      "Requirement already satisfied: opentelemetry-exporter-otlp-proto-common==1.25.0 in /home/jps36r/.conda/envs/test_env/lib/python3.12/site-packages (from opentelemetry-exporter-otlp-proto-grpc>=1.2.0->chromadb) (1.25.0)\n",
      "Requirement already satisfied: opentelemetry-proto==1.25.0 in /home/jps36r/.conda/envs/test_env/lib/python3.12/site-packages (from opentelemetry-exporter-otlp-proto-grpc>=1.2.0->chromadb) (1.25.0)\n",
      "Requirement already satisfied: opentelemetry-instrumentation-asgi==0.46b0 in /home/jps36r/.conda/envs/test_env/lib/python3.12/site-packages (from opentelemetry-instrumentation-fastapi>=0.41b0->chromadb) (0.46b0)\n",
      "Requirement already satisfied: opentelemetry-instrumentation==0.46b0 in /home/jps36r/.conda/envs/test_env/lib/python3.12/site-packages (from opentelemetry-instrumentation-fastapi>=0.41b0->chromadb) (0.46b0)\n",
      "Requirement already satisfied: opentelemetry-semantic-conventions==0.46b0 in /home/jps36r/.conda/envs/test_env/lib/python3.12/site-packages (from opentelemetry-instrumentation-fastapi>=0.41b0->chromadb) (0.46b0)\n",
      "Requirement already satisfied: opentelemetry-util-http==0.46b0 in /home/jps36r/.conda/envs/test_env/lib/python3.12/site-packages (from opentelemetry-instrumentation-fastapi>=0.41b0->chromadb) (0.46b0)\n",
      "Requirement already satisfied: setuptools>=16.0 in /home/jps36r/.conda/envs/test_env/lib/python3.12/site-packages (from opentelemetry-instrumentation==0.46b0->opentelemetry-instrumentation-fastapi>=0.41b0->chromadb) (70.1.0)\n",
      "Requirement already satisfied: wrapt<2.0.0,>=1.0.0 in /home/jps36r/.conda/envs/test_env/lib/python3.12/site-packages (from opentelemetry-instrumentation==0.46b0->opentelemetry-instrumentation-fastapi>=0.41b0->chromadb) (1.16.0)\n",
      "Requirement already satisfied: asgiref~=3.0 in /home/jps36r/.conda/envs/test_env/lib/python3.12/site-packages (from opentelemetry-instrumentation-asgi==0.46b0->opentelemetry-instrumentation-fastapi>=0.41b0->chromadb) (3.8.1)\n",
      "Requirement already satisfied: monotonic>=1.5 in /home/jps36r/.conda/envs/test_env/lib/python3.12/site-packages (from posthog>=2.4.0->chromadb) (1.6)\n",
      "Requirement already satisfied: backoff>=1.10.0 in /home/jps36r/.conda/envs/test_env/lib/python3.12/site-packages (from posthog>=2.4.0->chromadb) (2.2.1)\n",
      "Requirement already satisfied: annotated-types>=0.4.0 in /home/jps36r/.conda/envs/test_env/lib/python3.12/site-packages (from pydantic>=1.9->chromadb) (0.7.0)\n",
      "Requirement already satisfied: pydantic-core==2.18.4 in /home/jps36r/.conda/envs/test_env/lib/python3.12/site-packages (from pydantic>=1.9->chromadb) (2.18.4)\n",
      "Requirement already satisfied: charset-normalizer<4,>=2 in /home/jps36r/.conda/envs/test_env/lib/python3.12/site-packages (from requests>=2.28->chromadb) (3.3.2)\n",
      "Requirement already satisfied: huggingface-hub<1.0,>=0.16.4 in /home/jps36r/.conda/envs/test_env/lib/python3.12/site-packages (from tokenizers>=0.13.2->chromadb) (0.23.4)\n",
      "Requirement already satisfied: click>=8.0.0 in /home/jps36r/.conda/envs/test_env/lib/python3.12/site-packages (from typer>=0.9.0->chromadb) (8.1.7)\n",
      "Requirement already satisfied: shellingham>=1.3.0 in /home/jps36r/.conda/envs/test_env/lib/python3.12/site-packages (from typer>=0.9.0->chromadb) (1.5.4)\n",
      "Requirement already satisfied: rich>=10.11.0 in /home/jps36r/.conda/envs/test_env/lib/python3.12/site-packages (from typer>=0.9.0->chromadb) (13.7.1)\n",
      "Requirement already satisfied: httptools>=0.5.0 in /home/jps36r/.conda/envs/test_env/lib/python3.12/site-packages (from uvicorn[standard]>=0.18.3->chromadb) (0.6.1)\n",
      "Requirement already satisfied: python-dotenv>=0.13 in /home/jps36r/.conda/envs/test_env/lib/python3.12/site-packages (from uvicorn[standard]>=0.18.3->chromadb) (1.0.1)\n",
      "Requirement already satisfied: uvloop!=0.15.0,!=0.15.1,>=0.14.0 in /home/jps36r/.conda/envs/test_env/lib/python3.12/site-packages (from uvicorn[standard]>=0.18.3->chromadb) (0.19.0)\n",
      "Requirement already satisfied: watchfiles>=0.13 in /home/jps36r/.conda/envs/test_env/lib/python3.12/site-packages (from uvicorn[standard]>=0.18.3->chromadb) (0.22.0)\n",
      "Requirement already satisfied: websockets>=10.4 in /home/jps36r/.conda/envs/test_env/lib/python3.12/site-packages (from uvicorn[standard]>=0.18.3->chromadb) (12.0)\n",
      "Requirement already satisfied: dnspython>=2.0.0 in /home/jps36r/.conda/envs/test_env/lib/python3.12/site-packages (from email_validator>=2.0.0->fastapi>=0.95.2->chromadb) (2.6.1)\n",
      "Requirement already satisfied: cachetools<6.0,>=2.0.0 in /home/jps36r/.conda/envs/test_env/lib/python3.12/site-packages (from google-auth>=1.0.1->kubernetes>=28.1.0->chromadb) (5.3.3)\n",
      "Requirement already satisfied: pyasn1-modules>=0.2.1 in /home/jps36r/.conda/envs/test_env/lib/python3.12/site-packages (from google-auth>=1.0.1->kubernetes>=28.1.0->chromadb) (0.4.0)\n",
      "Requirement already satisfied: rsa<5,>=3.1.4 in /home/jps36r/.conda/envs/test_env/lib/python3.12/site-packages (from google-auth>=1.0.1->kubernetes>=28.1.0->chromadb) (4.9)\n",
      "Requirement already satisfied: filelock in /home/jps36r/.conda/envs/test_env/lib/python3.12/site-packages (from huggingface-hub<1.0,>=0.16.4->tokenizers>=0.13.2->chromadb) (3.15.4)\n",
      "Requirement already satisfied: fsspec>=2023.5.0 in /home/jps36r/.conda/envs/test_env/lib/python3.12/site-packages (from huggingface-hub<1.0,>=0.16.4->tokenizers>=0.13.2->chromadb) (2024.5.0)\n",
      "Requirement already satisfied: zipp>=0.5 in /home/jps36r/.conda/envs/test_env/lib/python3.12/site-packages (from importlib-metadata<=7.1,>=6.0->opentelemetry-api>=1.2.0->chromadb) (3.19.2)\n",
      "Requirement already satisfied: MarkupSafe>=2.0 in /home/jps36r/.conda/envs/test_env/lib/python3.12/site-packages (from jinja2>=2.11.2->fastapi>=0.95.2->chromadb) (2.1.5)\n",
      "Requirement already satisfied: markdown-it-py>=2.2.0 in /home/jps36r/.conda/envs/test_env/lib/python3.12/site-packages (from rich>=10.11.0->typer>=0.9.0->chromadb) (3.0.0)\n",
      "Requirement already satisfied: pygments<3.0.0,>=2.13.0 in /home/jps36r/.conda/envs/test_env/lib/python3.12/site-packages (from rich>=10.11.0->typer>=0.9.0->chromadb) (2.18.0)\n",
      "Requirement already satisfied: humanfriendly>=9.1 in /home/jps36r/.conda/envs/test_env/lib/python3.12/site-packages (from coloredlogs->onnxruntime>=1.14.1->chromadb) (10.0)\n",
      "Requirement already satisfied: mpmath<1.4.0,>=1.1.0 in /home/jps36r/.conda/envs/test_env/lib/python3.12/site-packages (from sympy->onnxruntime>=1.14.1->chromadb) (1.3.0)\n",
      "Requirement already satisfied: mdurl~=0.1 in /home/jps36r/.conda/envs/test_env/lib/python3.12/site-packages (from markdown-it-py>=2.2.0->rich>=10.11.0->typer>=0.9.0->chromadb) (0.1.2)\n",
      "Requirement already satisfied: pyasn1<0.7.0,>=0.4.6 in /home/jps36r/.conda/envs/test_env/lib/python3.12/site-packages (from pyasn1-modules>=0.2.1->google-auth>=1.0.1->kubernetes>=28.1.0->chromadb) (0.6.0)\n",
      "^C\n",
      "\u001b[31mERROR: Operation cancelled by user\u001b[0m\u001b[31m\n",
      "\u001b[0mNote: you may need to restart the kernel to use updated packages.\n"
     ]
    },
    {
     "name": "stderr",
     "output_type": "stream",
     "text": [
      "huggingface/tokenizers: The current process just got forked, after parallelism has already been used. Disabling parallelism to avoid deadlocks...\n",
      "To disable this warning, you can either:\n",
      "\t- Avoid using `tokenizers` before the fork if possible\n",
      "\t- Explicitly set the environment variable TOKENIZERS_PARALLELISM=(true | false)\n"
     ]
    },
    {
     "name": "stdout",
     "output_type": "stream",
     "text": [
      "Requirement already satisfied: pymupdf in /home/jps36r/.conda/envs/test_env/lib/python3.12/site-packages (1.24.5)\n",
      "Requirement already satisfied: PyMuPDFb==1.24.3 in /home/jps36r/.conda/envs/test_env/lib/python3.12/site-packages (from pymupdf) (1.24.3)\n",
      "Note: you may need to restart the kernel to use updated packages.\n"
     ]
    },
    {
     "name": "stderr",
     "output_type": "stream",
     "text": [
      "huggingface/tokenizers: The current process just got forked, after parallelism has already been used. Disabling parallelism to avoid deadlocks...\n",
      "To disable this warning, you can either:\n",
      "\t- Avoid using `tokenizers` before the fork if possible\n",
      "\t- Explicitly set the environment variable TOKENIZERS_PARALLELISM=(true | false)\n"
     ]
    },
    {
     "name": "stdout",
     "output_type": "stream",
     "text": [
      "Looking in indexes: https://download.pytorch.org/whl/cu118\n",
      "Requirement already satisfied: torch in /home/jps36r/.conda/envs/test_env/lib/python3.12/site-packages (2.3.1+cu118)\n",
      "Requirement already satisfied: filelock in /home/jps36r/.conda/envs/test_env/lib/python3.12/site-packages (from torch) (3.15.4)\n",
      "Requirement already satisfied: typing-extensions>=4.8.0 in /home/jps36r/.conda/envs/test_env/lib/python3.12/site-packages (from torch) (4.12.2)\n",
      "Requirement already satisfied: sympy in /home/jps36r/.conda/envs/test_env/lib/python3.12/site-packages (from torch) (1.12.1)\n",
      "Requirement already satisfied: networkx in /home/jps36r/.conda/envs/test_env/lib/python3.12/site-packages (from torch) (3.2.1)\n",
      "Requirement already satisfied: jinja2 in /home/jps36r/.conda/envs/test_env/lib/python3.12/site-packages (from torch) (3.1.4)\n",
      "Requirement already satisfied: fsspec in /home/jps36r/.conda/envs/test_env/lib/python3.12/site-packages (from torch) (2024.5.0)\n",
      "Requirement already satisfied: nvidia-cuda-nvrtc-cu11==11.8.89 in /home/jps36r/.conda/envs/test_env/lib/python3.12/site-packages (from torch) (11.8.89)\n",
      "Requirement already satisfied: nvidia-cuda-runtime-cu11==11.8.89 in /home/jps36r/.conda/envs/test_env/lib/python3.12/site-packages (from torch) (11.8.89)\n",
      "Requirement already satisfied: nvidia-cuda-cupti-cu11==11.8.87 in /home/jps36r/.conda/envs/test_env/lib/python3.12/site-packages (from torch) (11.8.87)\n",
      "Requirement already satisfied: nvidia-cudnn-cu11==8.7.0.84 in /home/jps36r/.conda/envs/test_env/lib/python3.12/site-packages (from torch) (8.7.0.84)\n",
      "Requirement already satisfied: nvidia-cublas-cu11==11.11.3.6 in /home/jps36r/.conda/envs/test_env/lib/python3.12/site-packages (from torch) (11.11.3.6)\n",
      "Requirement already satisfied: nvidia-cufft-cu11==10.9.0.58 in /home/jps36r/.conda/envs/test_env/lib/python3.12/site-packages (from torch) (10.9.0.58)\n",
      "Requirement already satisfied: nvidia-curand-cu11==10.3.0.86 in /home/jps36r/.conda/envs/test_env/lib/python3.12/site-packages (from torch) (10.3.0.86)\n",
      "Requirement already satisfied: nvidia-cusolver-cu11==11.4.1.48 in /home/jps36r/.conda/envs/test_env/lib/python3.12/site-packages (from torch) (11.4.1.48)\n",
      "Requirement already satisfied: nvidia-cusparse-cu11==11.7.5.86 in /home/jps36r/.conda/envs/test_env/lib/python3.12/site-packages (from torch) (11.7.5.86)\n",
      "Requirement already satisfied: nvidia-nccl-cu11==2.20.5 in /home/jps36r/.conda/envs/test_env/lib/python3.12/site-packages (from torch) (2.20.5)\n",
      "Requirement already satisfied: nvidia-nvtx-cu11==11.8.86 in /home/jps36r/.conda/envs/test_env/lib/python3.12/site-packages (from torch) (11.8.86)\n",
      "Requirement already satisfied: MarkupSafe>=2.0 in /home/jps36r/.conda/envs/test_env/lib/python3.12/site-packages (from jinja2->torch) (2.1.5)\n",
      "Requirement already satisfied: mpmath<1.4.0,>=1.1.0 in /home/jps36r/.conda/envs/test_env/lib/python3.12/site-packages (from sympy->torch) (1.3.0)\n",
      "Note: you may need to restart the kernel to use updated packages.\n"
     ]
    },
    {
     "name": "stderr",
     "output_type": "stream",
     "text": [
      "huggingface/tokenizers: The current process just got forked, after parallelism has already been used. Disabling parallelism to avoid deadlocks...\n",
      "To disable this warning, you can either:\n",
      "\t- Avoid using `tokenizers` before the fork if possible\n",
      "\t- Explicitly set the environment variable TOKENIZERS_PARALLELISM=(true | false)\n"
     ]
    },
    {
     "name": "stdout",
     "output_type": "stream",
     "text": [
      "Requirement already satisfied: bitsandbytes in /home/jps36r/.conda/envs/test_env/lib/python3.12/site-packages (0.43.1)\n",
      "Requirement already satisfied: torch in /home/jps36r/.conda/envs/test_env/lib/python3.12/site-packages (from bitsandbytes) (2.3.1+cu118)\n",
      "Requirement already satisfied: numpy in /home/jps36r/.conda/envs/test_env/lib/python3.12/site-packages (from bitsandbytes) (1.26.4)\n",
      "Requirement already satisfied: filelock in /home/jps36r/.conda/envs/test_env/lib/python3.12/site-packages (from torch->bitsandbytes) (3.15.4)\n",
      "Requirement already satisfied: typing-extensions>=4.8.0 in /home/jps36r/.conda/envs/test_env/lib/python3.12/site-packages (from torch->bitsandbytes) (4.12.2)\n",
      "Requirement already satisfied: sympy in /home/jps36r/.conda/envs/test_env/lib/python3.12/site-packages (from torch->bitsandbytes) (1.12.1)\n",
      "Requirement already satisfied: networkx in /home/jps36r/.conda/envs/test_env/lib/python3.12/site-packages (from torch->bitsandbytes) (3.2.1)\n",
      "Requirement already satisfied: jinja2 in /home/jps36r/.conda/envs/test_env/lib/python3.12/site-packages (from torch->bitsandbytes) (3.1.4)\n",
      "Requirement already satisfied: fsspec in /home/jps36r/.conda/envs/test_env/lib/python3.12/site-packages (from torch->bitsandbytes) (2024.5.0)\n",
      "Requirement already satisfied: nvidia-cuda-nvrtc-cu11==11.8.89 in /home/jps36r/.conda/envs/test_env/lib/python3.12/site-packages (from torch->bitsandbytes) (11.8.89)\n",
      "Requirement already satisfied: nvidia-cuda-runtime-cu11==11.8.89 in /home/jps36r/.conda/envs/test_env/lib/python3.12/site-packages (from torch->bitsandbytes) (11.8.89)\n",
      "Requirement already satisfied: nvidia-cuda-cupti-cu11==11.8.87 in /home/jps36r/.conda/envs/test_env/lib/python3.12/site-packages (from torch->bitsandbytes) (11.8.87)\n",
      "Requirement already satisfied: nvidia-cudnn-cu11==8.7.0.84 in /home/jps36r/.conda/envs/test_env/lib/python3.12/site-packages (from torch->bitsandbytes) (8.7.0.84)\n",
      "Requirement already satisfied: nvidia-cublas-cu11==11.11.3.6 in /home/jps36r/.conda/envs/test_env/lib/python3.12/site-packages (from torch->bitsandbytes) (11.11.3.6)\n",
      "Requirement already satisfied: nvidia-cufft-cu11==10.9.0.58 in /home/jps36r/.conda/envs/test_env/lib/python3.12/site-packages (from torch->bitsandbytes) (10.9.0.58)\n",
      "Requirement already satisfied: nvidia-curand-cu11==10.3.0.86 in /home/jps36r/.conda/envs/test_env/lib/python3.12/site-packages (from torch->bitsandbytes) (10.3.0.86)\n",
      "Requirement already satisfied: nvidia-cusolver-cu11==11.4.1.48 in /home/jps36r/.conda/envs/test_env/lib/python3.12/site-packages (from torch->bitsandbytes) (11.4.1.48)\n",
      "Requirement already satisfied: nvidia-cusparse-cu11==11.7.5.86 in /home/jps36r/.conda/envs/test_env/lib/python3.12/site-packages (from torch->bitsandbytes) (11.7.5.86)\n",
      "Requirement already satisfied: nvidia-nccl-cu11==2.20.5 in /home/jps36r/.conda/envs/test_env/lib/python3.12/site-packages (from torch->bitsandbytes) (2.20.5)\n",
      "Requirement already satisfied: nvidia-nvtx-cu11==11.8.86 in /home/jps36r/.conda/envs/test_env/lib/python3.12/site-packages (from torch->bitsandbytes) (11.8.86)\n",
      "Requirement already satisfied: MarkupSafe>=2.0 in /home/jps36r/.conda/envs/test_env/lib/python3.12/site-packages (from jinja2->torch->bitsandbytes) (2.1.5)\n",
      "Requirement already satisfied: mpmath<1.4.0,>=1.1.0 in /home/jps36r/.conda/envs/test_env/lib/python3.12/site-packages (from sympy->torch->bitsandbytes) (1.3.0)\n",
      "Note: you may need to restart the kernel to use updated packages.\n"
     ]
    },
    {
     "name": "stderr",
     "output_type": "stream",
     "text": [
      "huggingface/tokenizers: The current process just got forked, after parallelism has already been used. Disabling parallelism to avoid deadlocks...\n",
      "To disable this warning, you can either:\n",
      "\t- Avoid using `tokenizers` before the fork if possible\n",
      "\t- Explicitly set the environment variable TOKENIZERS_PARALLELISM=(true | false)\n"
     ]
    },
    {
     "name": "stdout",
     "output_type": "stream",
     "text": [
      "Requirement already satisfied: peft in /home/jps36r/.conda/envs/test_env/lib/python3.12/site-packages (0.11.1)\n",
      "Requirement already satisfied: numpy>=1.17 in /home/jps36r/.conda/envs/test_env/lib/python3.12/site-packages (from peft) (1.26.4)\n",
      "Requirement already satisfied: packaging>=20.0 in /home/jps36r/.conda/envs/test_env/lib/python3.12/site-packages (from peft) (24.1)\n",
      "Requirement already satisfied: psutil in /home/jps36r/.conda/envs/test_env/lib/python3.12/site-packages (from peft) (5.9.8)\n",
      "Requirement already satisfied: pyyaml in /home/jps36r/.conda/envs/test_env/lib/python3.12/site-packages (from peft) (6.0.1)\n",
      "Requirement already satisfied: torch>=1.13.0 in /home/jps36r/.conda/envs/test_env/lib/python3.12/site-packages (from peft) (2.3.1+cu118)\n",
      "Requirement already satisfied: transformers in /home/jps36r/.conda/envs/test_env/lib/python3.12/site-packages (from peft) (4.42.3)\n",
      "Requirement already satisfied: tqdm in /home/jps36r/.conda/envs/test_env/lib/python3.12/site-packages (from peft) (4.66.4)\n",
      "Requirement already satisfied: accelerate>=0.21.0 in /home/jps36r/.conda/envs/test_env/lib/python3.12/site-packages (from peft) (0.31.0)\n",
      "Requirement already satisfied: safetensors in /home/jps36r/.conda/envs/test_env/lib/python3.12/site-packages (from peft) (0.4.3)\n",
      "Requirement already satisfied: huggingface-hub>=0.17.0 in /home/jps36r/.conda/envs/test_env/lib/python3.12/site-packages (from peft) (0.23.4)\n",
      "Requirement already satisfied: filelock in /home/jps36r/.conda/envs/test_env/lib/python3.12/site-packages (from huggingface-hub>=0.17.0->peft) (3.15.4)\n",
      "Requirement already satisfied: fsspec>=2023.5.0 in /home/jps36r/.conda/envs/test_env/lib/python3.12/site-packages (from huggingface-hub>=0.17.0->peft) (2024.5.0)\n",
      "Requirement already satisfied: requests in /home/jps36r/.conda/envs/test_env/lib/python3.12/site-packages (from huggingface-hub>=0.17.0->peft) (2.32.3)\n",
      "Requirement already satisfied: typing-extensions>=3.7.4.3 in /home/jps36r/.conda/envs/test_env/lib/python3.12/site-packages (from huggingface-hub>=0.17.0->peft) (4.12.2)\n",
      "Requirement already satisfied: sympy in /home/jps36r/.conda/envs/test_env/lib/python3.12/site-packages (from torch>=1.13.0->peft) (1.12.1)\n",
      "Requirement already satisfied: networkx in /home/jps36r/.conda/envs/test_env/lib/python3.12/site-packages (from torch>=1.13.0->peft) (3.2.1)\n",
      "Requirement already satisfied: jinja2 in /home/jps36r/.conda/envs/test_env/lib/python3.12/site-packages (from torch>=1.13.0->peft) (3.1.4)\n",
      "Requirement already satisfied: nvidia-cuda-nvrtc-cu11==11.8.89 in /home/jps36r/.conda/envs/test_env/lib/python3.12/site-packages (from torch>=1.13.0->peft) (11.8.89)\n",
      "Requirement already satisfied: nvidia-cuda-runtime-cu11==11.8.89 in /home/jps36r/.conda/envs/test_env/lib/python3.12/site-packages (from torch>=1.13.0->peft) (11.8.89)\n",
      "Requirement already satisfied: nvidia-cuda-cupti-cu11==11.8.87 in /home/jps36r/.conda/envs/test_env/lib/python3.12/site-packages (from torch>=1.13.0->peft) (11.8.87)\n",
      "Requirement already satisfied: nvidia-cudnn-cu11==8.7.0.84 in /home/jps36r/.conda/envs/test_env/lib/python3.12/site-packages (from torch>=1.13.0->peft) (8.7.0.84)\n",
      "Requirement already satisfied: nvidia-cublas-cu11==11.11.3.6 in /home/jps36r/.conda/envs/test_env/lib/python3.12/site-packages (from torch>=1.13.0->peft) (11.11.3.6)\n",
      "Requirement already satisfied: nvidia-cufft-cu11==10.9.0.58 in /home/jps36r/.conda/envs/test_env/lib/python3.12/site-packages (from torch>=1.13.0->peft) (10.9.0.58)\n",
      "Requirement already satisfied: nvidia-curand-cu11==10.3.0.86 in /home/jps36r/.conda/envs/test_env/lib/python3.12/site-packages (from torch>=1.13.0->peft) (10.3.0.86)\n",
      "Requirement already satisfied: nvidia-cusolver-cu11==11.4.1.48 in /home/jps36r/.conda/envs/test_env/lib/python3.12/site-packages (from torch>=1.13.0->peft) (11.4.1.48)\n",
      "Requirement already satisfied: nvidia-cusparse-cu11==11.7.5.86 in /home/jps36r/.conda/envs/test_env/lib/python3.12/site-packages (from torch>=1.13.0->peft) (11.7.5.86)\n",
      "Requirement already satisfied: nvidia-nccl-cu11==2.20.5 in /home/jps36r/.conda/envs/test_env/lib/python3.12/site-packages (from torch>=1.13.0->peft) (2.20.5)\n",
      "Requirement already satisfied: nvidia-nvtx-cu11==11.8.86 in /home/jps36r/.conda/envs/test_env/lib/python3.12/site-packages (from torch>=1.13.0->peft) (11.8.86)\n",
      "Requirement already satisfied: regex!=2019.12.17 in /home/jps36r/.conda/envs/test_env/lib/python3.12/site-packages (from transformers->peft) (2024.5.15)\n",
      "Requirement already satisfied: tokenizers<0.20,>=0.19 in /home/jps36r/.conda/envs/test_env/lib/python3.12/site-packages (from transformers->peft) (0.19.1)\n",
      "Requirement already satisfied: MarkupSafe>=2.0 in /home/jps36r/.conda/envs/test_env/lib/python3.12/site-packages (from jinja2->torch>=1.13.0->peft) (2.1.5)\n",
      "Requirement already satisfied: charset-normalizer<4,>=2 in /home/jps36r/.conda/envs/test_env/lib/python3.12/site-packages (from requests->huggingface-hub>=0.17.0->peft) (3.3.2)\n",
      "Requirement already satisfied: idna<4,>=2.5 in /home/jps36r/.conda/envs/test_env/lib/python3.12/site-packages (from requests->huggingface-hub>=0.17.0->peft) (3.7)\n",
      "Requirement already satisfied: urllib3<3,>=1.21.1 in /home/jps36r/.conda/envs/test_env/lib/python3.12/site-packages (from requests->huggingface-hub>=0.17.0->peft) (2.2.2)\n",
      "Requirement already satisfied: certifi>=2017.4.17 in /home/jps36r/.conda/envs/test_env/lib/python3.12/site-packages (from requests->huggingface-hub>=0.17.0->peft) (2024.6.2)\n",
      "Requirement already satisfied: mpmath<1.4.0,>=1.1.0 in /home/jps36r/.conda/envs/test_env/lib/python3.12/site-packages (from sympy->torch>=1.13.0->peft) (1.3.0)\n",
      "Note: you may need to restart the kernel to use updated packages.\n"
     ]
    },
    {
     "name": "stderr",
     "output_type": "stream",
     "text": [
      "huggingface/tokenizers: The current process just got forked, after parallelism has already been used. Disabling parallelism to avoid deadlocks...\n",
      "To disable this warning, you can either:\n",
      "\t- Avoid using `tokenizers` before the fork if possible\n",
      "\t- Explicitly set the environment variable TOKENIZERS_PARALLELISM=(true | false)\n"
     ]
    },
    {
     "name": "stdout",
     "output_type": "stream",
     "text": [
      "Requirement already satisfied: accelerate in /home/jps36r/.conda/envs/test_env/lib/python3.12/site-packages (0.31.0)\n",
      "Requirement already satisfied: numpy>=1.17 in /home/jps36r/.conda/envs/test_env/lib/python3.12/site-packages (from accelerate) (1.26.4)\n",
      "Requirement already satisfied: packaging>=20.0 in /home/jps36r/.conda/envs/test_env/lib/python3.12/site-packages (from accelerate) (24.1)\n",
      "Requirement already satisfied: psutil in /home/jps36r/.conda/envs/test_env/lib/python3.12/site-packages (from accelerate) (5.9.8)\n",
      "Requirement already satisfied: pyyaml in /home/jps36r/.conda/envs/test_env/lib/python3.12/site-packages (from accelerate) (6.0.1)\n",
      "Requirement already satisfied: torch>=1.10.0 in /home/jps36r/.conda/envs/test_env/lib/python3.12/site-packages (from accelerate) (2.3.1+cu118)\n",
      "Requirement already satisfied: huggingface-hub in /home/jps36r/.conda/envs/test_env/lib/python3.12/site-packages (from accelerate) (0.23.4)\n",
      "Requirement already satisfied: safetensors>=0.3.1 in /home/jps36r/.conda/envs/test_env/lib/python3.12/site-packages (from accelerate) (0.4.3)\n",
      "Requirement already satisfied: filelock in /home/jps36r/.conda/envs/test_env/lib/python3.12/site-packages (from torch>=1.10.0->accelerate) (3.15.4)\n",
      "Requirement already satisfied: typing-extensions>=4.8.0 in /home/jps36r/.conda/envs/test_env/lib/python3.12/site-packages (from torch>=1.10.0->accelerate) (4.12.2)\n",
      "Requirement already satisfied: sympy in /home/jps36r/.conda/envs/test_env/lib/python3.12/site-packages (from torch>=1.10.0->accelerate) (1.12.1)\n",
      "Requirement already satisfied: networkx in /home/jps36r/.conda/envs/test_env/lib/python3.12/site-packages (from torch>=1.10.0->accelerate) (3.2.1)\n",
      "Requirement already satisfied: jinja2 in /home/jps36r/.conda/envs/test_env/lib/python3.12/site-packages (from torch>=1.10.0->accelerate) (3.1.4)\n",
      "Requirement already satisfied: fsspec in /home/jps36r/.conda/envs/test_env/lib/python3.12/site-packages (from torch>=1.10.0->accelerate) (2024.5.0)\n",
      "Requirement already satisfied: nvidia-cuda-nvrtc-cu11==11.8.89 in /home/jps36r/.conda/envs/test_env/lib/python3.12/site-packages (from torch>=1.10.0->accelerate) (11.8.89)\n",
      "Requirement already satisfied: nvidia-cuda-runtime-cu11==11.8.89 in /home/jps36r/.conda/envs/test_env/lib/python3.12/site-packages (from torch>=1.10.0->accelerate) (11.8.89)\n",
      "Requirement already satisfied: nvidia-cuda-cupti-cu11==11.8.87 in /home/jps36r/.conda/envs/test_env/lib/python3.12/site-packages (from torch>=1.10.0->accelerate) (11.8.87)\n",
      "Requirement already satisfied: nvidia-cudnn-cu11==8.7.0.84 in /home/jps36r/.conda/envs/test_env/lib/python3.12/site-packages (from torch>=1.10.0->accelerate) (8.7.0.84)\n",
      "Requirement already satisfied: nvidia-cublas-cu11==11.11.3.6 in /home/jps36r/.conda/envs/test_env/lib/python3.12/site-packages (from torch>=1.10.0->accelerate) (11.11.3.6)\n",
      "Requirement already satisfied: nvidia-cufft-cu11==10.9.0.58 in /home/jps36r/.conda/envs/test_env/lib/python3.12/site-packages (from torch>=1.10.0->accelerate) (10.9.0.58)\n",
      "Requirement already satisfied: nvidia-curand-cu11==10.3.0.86 in /home/jps36r/.conda/envs/test_env/lib/python3.12/site-packages (from torch>=1.10.0->accelerate) (10.3.0.86)\n",
      "Requirement already satisfied: nvidia-cusolver-cu11==11.4.1.48 in /home/jps36r/.conda/envs/test_env/lib/python3.12/site-packages (from torch>=1.10.0->accelerate) (11.4.1.48)\n",
      "Requirement already satisfied: nvidia-cusparse-cu11==11.7.5.86 in /home/jps36r/.conda/envs/test_env/lib/python3.12/site-packages (from torch>=1.10.0->accelerate) (11.7.5.86)\n",
      "Requirement already satisfied: nvidia-nccl-cu11==2.20.5 in /home/jps36r/.conda/envs/test_env/lib/python3.12/site-packages (from torch>=1.10.0->accelerate) (2.20.5)\n",
      "Requirement already satisfied: nvidia-nvtx-cu11==11.8.86 in /home/jps36r/.conda/envs/test_env/lib/python3.12/site-packages (from torch>=1.10.0->accelerate) (11.8.86)\n",
      "Requirement already satisfied: requests in /home/jps36r/.conda/envs/test_env/lib/python3.12/site-packages (from huggingface-hub->accelerate) (2.32.3)\n",
      "Requirement already satisfied: tqdm>=4.42.1 in /home/jps36r/.conda/envs/test_env/lib/python3.12/site-packages (from huggingface-hub->accelerate) (4.66.4)\n",
      "Requirement already satisfied: MarkupSafe>=2.0 in /home/jps36r/.conda/envs/test_env/lib/python3.12/site-packages (from jinja2->torch>=1.10.0->accelerate) (2.1.5)\n",
      "Requirement already satisfied: charset-normalizer<4,>=2 in /home/jps36r/.conda/envs/test_env/lib/python3.12/site-packages (from requests->huggingface-hub->accelerate) (3.3.2)\n",
      "Requirement already satisfied: idna<4,>=2.5 in /home/jps36r/.conda/envs/test_env/lib/python3.12/site-packages (from requests->huggingface-hub->accelerate) (3.7)\n",
      "Requirement already satisfied: urllib3<3,>=1.21.1 in /home/jps36r/.conda/envs/test_env/lib/python3.12/site-packages (from requests->huggingface-hub->accelerate) (2.2.2)\n",
      "Requirement already satisfied: certifi>=2017.4.17 in /home/jps36r/.conda/envs/test_env/lib/python3.12/site-packages (from requests->huggingface-hub->accelerate) (2024.6.2)\n",
      "Requirement already satisfied: mpmath<1.4.0,>=1.1.0 in /home/jps36r/.conda/envs/test_env/lib/python3.12/site-packages (from sympy->torch>=1.10.0->accelerate) (1.3.0)\n",
      "Note: you may need to restart the kernel to use updated packages.\n"
     ]
    },
    {
     "name": "stderr",
     "output_type": "stream",
     "text": [
      "huggingface/tokenizers: The current process just got forked, after parallelism has already been used. Disabling parallelism to avoid deadlocks...\n",
      "To disable this warning, you can either:\n",
      "\t- Avoid using `tokenizers` before the fork if possible\n",
      "\t- Explicitly set the environment variable TOKENIZERS_PARALLELISM=(true | false)\n"
     ]
    },
    {
     "name": "stdout",
     "output_type": "stream",
     "text": [
      "Requirement already satisfied: datasets in /home/jps36r/.conda/envs/test_env/lib/python3.12/site-packages (2.20.0)\n",
      "Requirement already satisfied: filelock in /home/jps36r/.conda/envs/test_env/lib/python3.12/site-packages (from datasets) (3.15.4)\n",
      "Requirement already satisfied: numpy>=1.17 in /home/jps36r/.conda/envs/test_env/lib/python3.12/site-packages (from datasets) (1.26.4)\n",
      "Requirement already satisfied: pyarrow>=15.0.0 in /home/jps36r/.conda/envs/test_env/lib/python3.12/site-packages (from datasets) (16.1.0)\n",
      "Requirement already satisfied: pyarrow-hotfix in /home/jps36r/.conda/envs/test_env/lib/python3.12/site-packages (from datasets) (0.6)\n",
      "Requirement already satisfied: dill<0.3.9,>=0.3.0 in /home/jps36r/.conda/envs/test_env/lib/python3.12/site-packages (from datasets) (0.3.8)\n",
      "Requirement already satisfied: pandas in /home/jps36r/.conda/envs/test_env/lib/python3.12/site-packages (from datasets) (2.2.2)\n",
      "Requirement already satisfied: requests>=2.32.2 in /home/jps36r/.conda/envs/test_env/lib/python3.12/site-packages (from datasets) (2.32.3)\n",
      "Requirement already satisfied: tqdm>=4.66.3 in /home/jps36r/.conda/envs/test_env/lib/python3.12/site-packages (from datasets) (4.66.4)\n",
      "Requirement already satisfied: xxhash in /home/jps36r/.conda/envs/test_env/lib/python3.12/site-packages (from datasets) (3.4.1)\n",
      "Requirement already satisfied: multiprocess in /home/jps36r/.conda/envs/test_env/lib/python3.12/site-packages (from datasets) (0.70.16)\n",
      "Requirement already satisfied: fsspec<=2024.5.0,>=2023.1.0 in /home/jps36r/.conda/envs/test_env/lib/python3.12/site-packages (from fsspec[http]<=2024.5.0,>=2023.1.0->datasets) (2024.5.0)\n",
      "Requirement already satisfied: aiohttp in /home/jps36r/.conda/envs/test_env/lib/python3.12/site-packages (from datasets) (3.9.5)\n",
      "Requirement already satisfied: huggingface-hub>=0.21.2 in /home/jps36r/.conda/envs/test_env/lib/python3.12/site-packages (from datasets) (0.23.4)\n",
      "Requirement already satisfied: packaging in /home/jps36r/.conda/envs/test_env/lib/python3.12/site-packages (from datasets) (24.1)\n",
      "Requirement already satisfied: pyyaml>=5.1 in /home/jps36r/.conda/envs/test_env/lib/python3.12/site-packages (from datasets) (6.0.1)\n",
      "Requirement already satisfied: aiosignal>=1.1.2 in /home/jps36r/.conda/envs/test_env/lib/python3.12/site-packages (from aiohttp->datasets) (1.3.1)\n",
      "Requirement already satisfied: attrs>=17.3.0 in /home/jps36r/.conda/envs/test_env/lib/python3.12/site-packages (from aiohttp->datasets) (23.2.0)\n",
      "Requirement already satisfied: frozenlist>=1.1.1 in /home/jps36r/.conda/envs/test_env/lib/python3.12/site-packages (from aiohttp->datasets) (1.4.1)\n",
      "Requirement already satisfied: multidict<7.0,>=4.5 in /home/jps36r/.conda/envs/test_env/lib/python3.12/site-packages (from aiohttp->datasets) (6.0.5)\n",
      "Requirement already satisfied: yarl<2.0,>=1.0 in /home/jps36r/.conda/envs/test_env/lib/python3.12/site-packages (from aiohttp->datasets) (1.9.4)\n",
      "Requirement already satisfied: typing-extensions>=3.7.4.3 in /home/jps36r/.conda/envs/test_env/lib/python3.12/site-packages (from huggingface-hub>=0.21.2->datasets) (4.12.2)\n",
      "Requirement already satisfied: charset-normalizer<4,>=2 in /home/jps36r/.conda/envs/test_env/lib/python3.12/site-packages (from requests>=2.32.2->datasets) (3.3.2)\n",
      "Requirement already satisfied: idna<4,>=2.5 in /home/jps36r/.conda/envs/test_env/lib/python3.12/site-packages (from requests>=2.32.2->datasets) (3.7)\n",
      "Requirement already satisfied: urllib3<3,>=1.21.1 in /home/jps36r/.conda/envs/test_env/lib/python3.12/site-packages (from requests>=2.32.2->datasets) (2.2.2)\n",
      "Requirement already satisfied: certifi>=2017.4.17 in /home/jps36r/.conda/envs/test_env/lib/python3.12/site-packages (from requests>=2.32.2->datasets) (2024.6.2)\n",
      "Requirement already satisfied: python-dateutil>=2.8.2 in /home/jps36r/.conda/envs/test_env/lib/python3.12/site-packages (from pandas->datasets) (2.9.0)\n",
      "Requirement already satisfied: pytz>=2020.1 in /home/jps36r/.conda/envs/test_env/lib/python3.12/site-packages (from pandas->datasets) (2024.1)\n",
      "Requirement already satisfied: tzdata>=2022.7 in /home/jps36r/.conda/envs/test_env/lib/python3.12/site-packages (from pandas->datasets) (2024.1)\n",
      "Requirement already satisfied: six>=1.5 in /home/jps36r/.conda/envs/test_env/lib/python3.12/site-packages (from python-dateutil>=2.8.2->pandas->datasets) (1.16.0)\n",
      "Note: you may need to restart the kernel to use updated packages.\n"
     ]
    },
    {
     "name": "stderr",
     "output_type": "stream",
     "text": [
      "huggingface/tokenizers: The current process just got forked, after parallelism has already been used. Disabling parallelism to avoid deadlocks...\n",
      "To disable this warning, you can either:\n",
      "\t- Avoid using `tokenizers` before the fork if possible\n",
      "\t- Explicitly set the environment variable TOKENIZERS_PARALLELISM=(true | false)\n"
     ]
    },
    {
     "name": "stdout",
     "output_type": "stream",
     "text": [
      "Requirement already satisfied: transformers in /home/jps36r/.conda/envs/test_env/lib/python3.12/site-packages (4.42.3)\n",
      "Requirement already satisfied: filelock in /home/jps36r/.conda/envs/test_env/lib/python3.12/site-packages (from transformers) (3.15.4)\n",
      "Requirement already satisfied: huggingface-hub<1.0,>=0.23.2 in /home/jps36r/.conda/envs/test_env/lib/python3.12/site-packages (from transformers) (0.23.4)\n",
      "Requirement already satisfied: numpy<2.0,>=1.17 in /home/jps36r/.conda/envs/test_env/lib/python3.12/site-packages (from transformers) (1.26.4)\n",
      "Requirement already satisfied: packaging>=20.0 in /home/jps36r/.conda/envs/test_env/lib/python3.12/site-packages (from transformers) (24.1)\n",
      "Requirement already satisfied: pyyaml>=5.1 in /home/jps36r/.conda/envs/test_env/lib/python3.12/site-packages (from transformers) (6.0.1)\n",
      "Requirement already satisfied: regex!=2019.12.17 in /home/jps36r/.conda/envs/test_env/lib/python3.12/site-packages (from transformers) (2024.5.15)\n",
      "Requirement already satisfied: requests in /home/jps36r/.conda/envs/test_env/lib/python3.12/site-packages (from transformers) (2.32.3)\n",
      "Requirement already satisfied: safetensors>=0.4.1 in /home/jps36r/.conda/envs/test_env/lib/python3.12/site-packages (from transformers) (0.4.3)\n",
      "Requirement already satisfied: tokenizers<0.20,>=0.19 in /home/jps36r/.conda/envs/test_env/lib/python3.12/site-packages (from transformers) (0.19.1)\n",
      "Requirement already satisfied: tqdm>=4.27 in /home/jps36r/.conda/envs/test_env/lib/python3.12/site-packages (from transformers) (4.66.4)\n",
      "Requirement already satisfied: fsspec>=2023.5.0 in /home/jps36r/.conda/envs/test_env/lib/python3.12/site-packages (from huggingface-hub<1.0,>=0.23.2->transformers) (2024.5.0)\n",
      "Requirement already satisfied: typing-extensions>=3.7.4.3 in /home/jps36r/.conda/envs/test_env/lib/python3.12/site-packages (from huggingface-hub<1.0,>=0.23.2->transformers) (4.12.2)\n",
      "Requirement already satisfied: charset-normalizer<4,>=2 in /home/jps36r/.conda/envs/test_env/lib/python3.12/site-packages (from requests->transformers) (3.3.2)\n",
      "Requirement already satisfied: idna<4,>=2.5 in /home/jps36r/.conda/envs/test_env/lib/python3.12/site-packages (from requests->transformers) (3.7)\n",
      "Requirement already satisfied: urllib3<3,>=1.21.1 in /home/jps36r/.conda/envs/test_env/lib/python3.12/site-packages (from requests->transformers) (2.2.2)\n",
      "Requirement already satisfied: certifi>=2017.4.17 in /home/jps36r/.conda/envs/test_env/lib/python3.12/site-packages (from requests->transformers) (2024.6.2)\n",
      "Note: you may need to restart the kernel to use updated packages.\n"
     ]
    }
   ],
   "source": [
    "\n",
    "%pip install dspy-ai\n",
    "\n",
    "%pip install ipywidgets\n",
    "\n",
    "%pip install python-dotenv\n",
    "\n",
    "%pip install chromadb \n",
    "%pip install pymupdf\n",
    "\n",
    "%pip install torch --index-url https://download.pytorch.org/whl/cu118\n",
    "\n",
    "%pip install bitsandbytes\n",
    "\n",
    "%pip install peft\n",
    "\n",
    "%pip install accelerate\n",
    "\n",
    "%pip install datasets\n",
    "\n",
    "%pip install transformers\n",
    "\n",
    "\n",
    "\n"
   ]
  },
  {
   "cell_type": "code",
   "execution_count": 1,
   "metadata": {},
   "outputs": [
    {
     "name": "stdout",
     "output_type": "stream",
     "text": [
      "True\n"
     ]
    }
   ],
   "source": [
    "import torch\n",
    " \n",
    "cuda_available = torch.cuda.is_available()\n",
    "print(cuda_available)"
   ]
  },
  {
   "cell_type": "code",
   "execution_count": 2,
   "metadata": {},
   "outputs": [
    {
     "data": {
      "text/plain": [
       "True"
      ]
     },
     "execution_count": 2,
     "metadata": {},
     "output_type": "execute_result"
    }
   ],
   "source": [
    "from dotenv import load_dotenv\n",
    "load_dotenv(override=True)"
   ]
  },
  {
   "cell_type": "code",
   "execution_count": 3,
   "metadata": {},
   "outputs": [],
   "source": [
    "import dspy\n",
    "from openai import OpenAI\n",
    "from dspy.retrieve.chromadb_rm import ChromadbRM\n",
    "from chromadb.utils import embedding_functions\n",
    "import chromadb"
   ]
  },
  {
   "cell_type": "code",
   "execution_count": 4,
   "metadata": {},
   "outputs": [
    {
     "data": {
      "application/vnd.jupyter.widget-view+json": {
       "model_id": "cc115a5bfd13495d9d126a56de713b5d",
       "version_major": 2,
       "version_minor": 0
      },
      "text/plain": [
       "Fetching 3 files:   0%|          | 0/3 [00:00<?, ?it/s]"
      ]
     },
     "metadata": {},
     "output_type": "display_data"
    },
    {
     "data": {
      "application/vnd.jupyter.widget-view+json": {
       "model_id": "5081e4d974f74afa8382316c84c3b706",
       "version_major": 2,
       "version_minor": 0
      },
      "text/plain": [
       "params.json:   0%|          | 0.00/204 [00:00<?, ?B/s]"
      ]
     },
     "metadata": {},
     "output_type": "display_data"
    },
    {
     "data": {
      "application/vnd.jupyter.widget-view+json": {
       "model_id": "87a84c04e33347a2b4c4002b04f0b813",
       "version_major": 2,
       "version_minor": 0
      },
      "text/plain": [
       "consolidated.safetensors:   0%|          | 0.00/24.5G [00:00<?, ?B/s]"
      ]
     },
     "metadata": {},
     "output_type": "display_data"
    },
    {
     "data": {
      "application/vnd.jupyter.widget-view+json": {
       "model_id": "9db7435aeeb54e7e9ba28b917c95f73b",
       "version_major": 2,
       "version_minor": 0
      },
      "text/plain": [
       "tekken.json:   0%|          | 0.00/14.8M [00:00<?, ?B/s]"
      ]
     },
     "metadata": {},
     "output_type": "display_data"
    },
    {
     "data": {
      "text/plain": [
       "'/home/jps36r/mistral_models/Nemo-Instruct'"
      ]
     },
     "execution_count": 4,
     "metadata": {},
     "output_type": "execute_result"
    }
   ],
   "source": [
    "from huggingface_hub import snapshot_download\n",
    "from pathlib import Path\n",
    "\n",
    "mistral_models_path = Path.home().joinpath('mistral_models', 'Nemo-Instruct')\n",
    "mistral_models_path.mkdir(parents=True, exist_ok=True)\n",
    "\n",
    "snapshot_download(repo_id=\"mistralai/Mistral-Nemo-Instruct-2407\", allow_patterns=[\"params.json\", \"consolidated.safetensors\", \"tekken.json\"], local_dir=mistral_models_path)\n"
   ]
  },
  {
   "cell_type": "code",
   "execution_count": 33,
   "metadata": {},
   "outputs": [],
   "source": [
    "client = chromadb.PersistentClient(path=\"chromadb/cache\")\n",
    "collection = client.delete_collection(\"standard_full\")\n",
    "collection = client.get_or_create_collection(name=\"standard_full\")"
   ]
  },
  {
   "cell_type": "code",
   "execution_count": 34,
   "metadata": {},
   "outputs": [],
   "source": [
    "mistral = dspy.Mistral(model = 'mistral-nemo-instruct-2047')\n",
    "rm = ChromadbRM(collection_name='standard_full', persist_directory=\"chromadb/cache\", embedding_function=embedding_functions.DefaultEmbeddingFunction())\n",
    "dspy.settings.configure(lm=gpt4o, rm=rm)"
   ]
  },
  {
   "cell_type": "code",
   "execution_count": 35,
   "metadata": {},
   "outputs": [
    {
     "name": "stdout",
     "output_type": "stream",
     "text": [
      "['\\nThe NGAC security model defines the conceptual framework for the specification of a wide range of access control policies. The security model is intended to facilitate the understanding and analysis of the properties afforded to protect resources. The security model is defined formally in terms of the mathematics of set theory and predicate calculus in consonance with the Z notation (see ZNOT). The formal specification allows the essential properties for the composition and working of NGAC to be statedfree from constraints on how the properties are achieved.', '\\nThe abstractions specified by the security model govern the operation of the NGAC Functional Architecture. The abstractions involve the elements, relations, and commands that are used to represent\\nsecurity policies and provide the basis for rendering access decisions. The types of abstractions that are defined herein are as follows:\\na) basic elements;\\nb) relations;\\nc) administrative commands; and\\nd) access adjudication.', '\\nUsers need to be authenticated by an authentication service before they are activated. Details of user authentication are outside of the scope of this standard. A unique identifier (user ID) distinguishes each user within the system environment. NGAC users shall be represented by a finite set of user identifiers.', '\\nObjects represent resources to which access is controlled. Resources can be logical or physical assets, such as files, messages, database records, printers, or network devices. A unique identifier (object ID) distinguishes each object within the system environment. NGAC objects shall be represented by a finite set of object identifiers.When an object is created, it is regarded as both an object and an object attribute by NGAC. That is, the identifier of the object may not only be treated as an object within NGAC relations but may also be treated as an object attribute based on its context within a relation.', 'An access right denotes an authorizable unit or measure of authority in a defined security policy. One or more access rights are required to perform an operation. Each access right is represented by a unique\\nidentifier. Access rights shall be represented by a finite set of access right identifiers. One or more access rights are required to enable an operation to be carried out.', '\\nA user attribute denotes an abstract user characteristic or property that is significant in determining authorization, such as organizational membership, geographic location, job function, or clearance level.\\nEach user attribute is identified by a unique identifier. User attributes shall be represented by a finite set of user attribute identifiers.', '\\nAn object attribute denotes an abstract object characteristic or property that is significant in determining authorization, such as relative importance, sensitivity, geographic location, or resource type. Each object attribute is identified by a unique identifier. Object attributes shall be represented by a finite set of object attribute identifiers. Every member of the set O is, by definition, also a member of OA.', '\\nA policy class denotes an affiliation of certain users, user attributes, objects, and object attributes to an access control policy. A policy class is identified by a unique identifier. Policy classes shall be represented by a finite set of policy class identifiers.', '\\nNGAC relations fall into one of two categories: configured relations or derived relations. Configured relations represent relationships among basic elements, including sets of basic elements. Configured relations are persisted at the PIP and managed through administrative actions. Derived relations are calculated from configured relations and used to render an access control decision or conduct an administrative review of the authorization state. Since they are refinements of existing information already present in configured relations, derived relations are not treated as part of the authorization state. ', '\\nThe assignment relation defines linkages among policy elements which establish the attributes of users and objects. NGAC policy elements comprise all users, user attributes, object attributes (including all objects), and policy classes. The policy element set is defined as follows: PE = U ⋃ UA ⋃ OA ⋃ PC', 'Policy element linkages denoted by assignments are directional. The first policy element of each assignment tuple is the direct ascendant of the second policy element, and the second policy element is the direct descendant of the first. A path is a sequence of policy elements in which each pair of consecutive policy elements in the sequence constitutes an assignment. Assignments between certain policy elements are also precluded, essentially distinguishing user and user attribute linkages from object and object attribute linkages.', '\\nAn object can be said to be “contained by” an object attribute if a path exists between the object and the object attribute. The Objects function represents the mapping from an object attribute to the set of objects that are contained by or denote that object attribute. Intuitively, the function Objects(oa) returns the set of objects that are contained by or possess the characteristics of the object attribute oa.', '\\nThe association relation defines an allocation of access rights among certain policy elements. Each association consists of an ordered triple of a user attribute, an access right set, and a user or object attribute. Members of an access right set are related for the purposes of access control. An access right set is identified by a unique identifier.', 'The privilege relation is derived from the association and assignment relations. Each privilege is a triple of the form user, access right, and policy element whereby an association exists for each policy class containing the policy element, such that the following is true:\\na) The user is contained by the user attribute of the association;\\nb) The policy element is contained by the attribute of the association;\\nc) The attribute of the association is contained by the policy class; and\\nd) The access right is a member of the access right set of the association.\\nThe privilege relation is a ternary relation from U to AR to PE\\\\PC. ', '\\nThis standard specifies the architecture, security model, and interfaces of the NGAC framework at a level of detail necessary to ensure its realization in different types of implementation environments at a range\\nof scalability levels. The standard also specifies key implementation aspects that enable functional entities within the architecture to operate in a correct, effective, cooperative, and accordant manner. Next Generation Access Control (NGAC) is a fundamental reworking of traditional access control into a form suited to the needs of the modern, distributed, interconnected enterprise. NGAC is based on a flexible infrastructure that can provide access control services for different types of resources, accessed by different types of applications and users. NGAC is designed to be scalable, support multiple policies simultaneously, and remain tractable in the face of changing technology, organizational restructuring, and increasing data volumes. Functional components of the reference architecture can be supported by products from different manufacturers. NGAC diverges from traditional approaches to access control in that it defines a generic architecture separate from any particular type of policy. NGAC is not an extension or adaption of any existing access control model, but rather a redefinition of access control in terms of a fundamental and reusable set of data abstractions and functions. NGAC provides a unifying framework capable of supporting not only current access control approaches but also novel types of policy that have been conceived yet never implemented due to the lack of a suitable means of expression and enforcement.', '\\nNGAC follows an attribute-based construction in which characteristics or properties are used to control access to resources and to describe and manage policy. NGAC accommodates combinations of different policies and can support several types of policies concurrently in a manner that is both deterministic and manageable. NGAC is also suitable for applications in which some information is stored locally and some is stored in a grid or cloud, since different policies can be asserted in each context. Even more generally, NGAC supports situations in which policy determined by a central organization is able to operate concurrently with a local, specific, and more ad hoc policy.', '\\nLeast privilege is an established administrative practice of assigning users and processes the minimal authorization necessary for the performance of their job function. NGAC supports the concept of least privilege by allowing different authorizations for a user or its processes to become available at different times for the performance of different tasks. Processes acting for a user within the user’s session can be restricted to a subset of the user’s authorization, allowing them to be attenuated at a granularity below that of the user.', 'This standard specifies the architecture, security model, and interfaces of the NGAC framework at a level of detail necessary to ensure its realization in different types of implementation environments at a range of scalability levels.', 'Next Generation Access Control (NGAC) is a fundamental reworking of traditional access controls to meet the needs of the modern, distributed, and interconnected enterprise. NGAC provides a unifying framework\\ncapable of supporting both current and novel types of access control policies simultaneously. It also defines access control in terms of a fundamental and reusable set of data abstractions and functions,\\nfollowing an attribute-based access control model in which authorizations are defined in terms of attributes. Security-relevant properties of users, processes, and objects (e.g., role, sensitivity, affiliation, and class), and also of the computational environment (e.g., time of day and threat level) can be expressed as attributes.', 'Next Generation Access Control (NGAC) is a reinvention of traditional access control into a form that suits the needs of the modern, distributed, interconnected enterprise. NGAC is designed to be scalable, support a wide range of access control policies, enforce different types of policies simultaneously, provide access control services for different types of resources, and remain manageable in the face change.', 'NGAC follows an attribute-based construction in which characteristics or properties are used to control access to resources and to describe and manage policy. This standard specifies the architecture, security model, and interfaces of the NGAC framework necessary to ensure its realization in different types of implementation environments at a range of scalability levels and to obtain the requisite level of cohesion and functionality to operate correctly and effectively at the system level.', '\\nDefinitions', 'Foundational terms:', 'Real system - A set of one or more computers, associated software, peripheral equipment, terminals, human operators,\\nphysical processes, and means of communication that form an autonomous whole capable of performing\\ninformation processing or information transfer or both.', '\\nResource - An accessible unit of data, services, components, or other logical or physical assets of a real system.', 'Access control - The prevention of the unsanctioned use of resources, including their use in an unwarranted manner.', 'System environment - An abstraction of the real system.', 'Entity - Something that exists and can be identified within a system environment.', 'Identifier - A descriptor that unambiguously distinguishes an entity from other entities.', 'Policy - A set of criteria that governs the behavior of entities within a system environment.', 'Security model - A formal description of the properties required of a system environment to mediate access as dictated by\\npolicy.', 'Policy information - A distinct, distinguishable aspect of policy.', 'Authorization - An allocation of authority to entities by way of policy which enables one or more modes of access.', 'Authorization state - The current authorization based on the prevailing policy.', 'Authorized - Explicitly allowed through authorization.', '', 'Basic policy-oriented terms', 'Policy entity - An entity that is used to depict an item or detail of policy.', 'User - A policy entity that represents a distinct functional capacity in a real system, which is customarily ascribed to a human being.', 'Object - A policy entity that represents a resource.', 'User attribute - A policy entity that represents a characteristic or property of a user.', 'Object attribute - A policy entity that represents a characteristic or property of an object.', 'Policy class - A policy entity that characterizes the users, objects, user attributes, and object attributes associated with a policy or some aspect of a policy.', 'Attribute - A designator that represents either a user attribute or an object attribute.', 'Container - A designator that represents either an attribute or a policy class.', 'Policy element - A designator that represents any of the following policy entities: user, object, user attribute, object attribute, or policy class.', 'Access right - A policy entity that denotes a unit or measure of authority suitable for authorization.', 'Access right set - A policy entity that represents a group of selected access rights.', 'Operation - A policy entity that denotes a mode of access to an object or policy information.', '\\nAdvanced policy-oriented terms', 'Configured relation - A component of policy that describes a significant relationship among policy entities.', 'Assignment relation - A configured relation that defines a structural ordering of policy elements.', 'Assignment - A member of the assignment relation, which denotes an ordering or directional link between two policy elements, from the first policy element to the second.', 'Path - A sequence of policy elements in which every pair of consecutive policy elements in the sequence constitutes an assignment.', 'Path length - The number of policy elements in the path minus one.', 'Containment - A relationship between two policy elements in which a path exists from the first policy element\\nto the second.', 'Ascendant - A policy element that is on a path leading to another policy element.', 'Immediate ascendant - An ascendant whose path length is one.', 'Descendant - A policy element that is on a path originating from another policy element.', 'Immediate descendant - A descendant whose path length is one.', 'Referent - An attribute that is used in a configured relation as a designator for itself and all of its ascendants.', 'Attribute set - A policy entity that represents a group of like referents (i.e., all object attributes or user attributes.', '', 'A representation of the assignment relation as a directed graph in which each policy element is a node of the graph, and each assignment is a directed edge between policy elements.', '\\nAssociation relation - A configured relation that defines an allocation of access rights among policy elements that enables certain modes of access.', 'Association - A member of the association relation, which represents a specific aspect of the access rights asserted among policy elements.', 'Prohibition relation - A configured relation that defines an allocation of access rights among policy elements that disables certain modes of access.', 'Prohibition - A member of the prohibition relation, which represents a specific aspect of the access rights suppressed among policy elements.', 'Obligation relation - A configured relation that defines conditions under which policy needs to be dynamically altered on behalf of a user due to an event occurrence.', 'Event response - A policy entity that specifies preconceived adjustments to policy.', 'Event pattern - A policy entity that specifies the conditions under which an associated event response needs to be carried out.', 'Obligation - A member of the obligation relation, which associates an event pattern and event response with the\\ndefining user ', 'Derived relation - A relationship that is defined in terms of one or more configured relations.', 'Privilege relation - A derived relation in which each member denotes an access right (3.1.2.10) that a policy element holds for a policy element.', 'Restriction relation - A derived relation in which each member denotes an access right that a policy element may hold for a policy element but cannot utilize.', '\\nFunctionally oriented terms\\nTrusted entity - An entity in which confidence exists that it can be relied upon to behave as expected.', 'Functional entity - A trusted entity that participates in enabling, maintaining, and upholding policy.', 'Functional architecture - A reference model that specifies the way in which functional entities regard one another and act jointly toward a common purpose (viz., access control.', 'Access attempt - A mode of access initiated by a process, which pertains to an object or policy information.', 'Access request - Detailed information about a pending access attempt.', 'Access decision - A determination of whether the modes of access of an access request or an event response comply with the authorization state.', 'Event context - Detailed information about a successfully completed access request.', '\\nKeywords\\nMandatory: A keyword indicating an item that is required to be implemented as defined in this standard to claim compliance with this standard.', 'May: A keyword that indicates flexibility of choice with no implied preference.', 'Optional: A keyword that describes features that are not required to be implemented by this standard. However, if any optional feature defined by this standard is implemented, it shall be implemented as defined in this standard.', 'Shall: A keyword indicating a mandatory requirement. All such requirements are required to be implemented to ensure conformance with this standard.', 'Should: A keyword indicating flexibility of choice with a preferred alternative; equivalent to the phrase “it is recommended”.', 'Certain words and terms used in this American National Standard have a specific meaning beyond the common English meaning. These words and terms are defined either in clause 3 or in the text where they first appear. A numeric list of items (e.g., 1, 2, 3) indicates the items in the list are ordered (i.e., item 1 shall occur or complete before item 2).', '\\nIn the event of conflicting information, the precedence for requirements defined in this standard is as\\nfollows:\\n1) mathematical notation;\\n2) text;\\n3) tables; and\\n4) figures.\\nThe NGAC Functional Architecture (FA) can be viewed as a conceptual model of the basic processing functionality and interactions for access control. It identifies key functional components and their relationships to each other and serves as a template for the characteristics required of a conformant implementation. The functional architecture can be implemented in a number of ways, and it allows different types of access control schemes to be realized using a common set of services.', '', 'The first two information flows listed above correspond respectively to the two kinds of accesses supported by NGAC: resource access and administration access. A resource access is the only means by which users may gain access to resources governed by NGAC. Similarly, an administration access is the only means by which users may gain access to policy information. The third information flow, an event context flow, applies only to a system for which an EPP is present and is a concomitant of a successful resource or administration access.', 'A resource access is the only way by which users shall gain access to resources. An administration access is the only way by which users shall gain access to policy information. A user may be associated with one or more processes, while a process shall be associated with just one user. Requests from a user’s process to access resources or policy information need to be submitted under an established session. A user shall not have more than one session active at any time. An authenticated user shall establish a session with a PEP prior to any of its processes submitting an access request. All of a user’s processes shall use the PEP to which the user has formed a session to access resources or policy information.', '\\nTo determine whether an access request can be granted, the access decision function requires a mapping from the operation to the sequence of possible access right sets that the process’s user needs to hold over the arguments of the operation.', 'The NGAC security model is specified utilizing a single data store in which the policy is maintained, and modifications to the policy take immediate effect. While the model captures the required behavior of\\napplied policy updates, it does not address the more general issue of ensuring that the updates are of high-caliber. Because updates have a direct impact on the results of the access decision function, it\\nwould be useful to provide one or more means to vet intended updates before they are applied to the active policy.', 'A policy management application can be an important tool in understanding policy abstractions and the impact that policy settings have on controlling behavior. A policy management tool should be able to\\nscreen proposed changes before they are applied to verify that they are well-formed and do not produce inconstancies in the policy. Graphical renditions are an effective aid in comprehending and administering\\npolicy for which NGAC is well-suited.', 'Establishing separate, distinct spaces for creating and testing policy revisions before they are activated can also prove useful in practice. For example, two policy stores could be maintained: one for the test policy and one for the active policy. The active policy store is used to compute runtime access decisions, while the test policy store is used to apply revisions to a copy of the active policy for vetting. Once vetting\\nof a test policy is complete, it can replace the active policy. Some means would also need to be established to transition the test policy to the active policy in a synchronized fashion that avoids disrupting operations.', '', 'User specification: If the user specification is present, it denotes the processes of a specific user, any user, or any user from a set of users and/or user attributes, or a specific process specified through its identifier. If the user specification is omitted, then any event matches this component of the pattern by default.', '\\nPolicy element specification: If the policy element specification is present, it can specify a policy element by its name, any policy element, any policy elements contained in other policy elements, or any policy element from a set of enumerated policy elements.', '\\nPolicy class specification: The policy class specification, if present, can specify a particular policy class by name, any policy class, any policy class from a set, all policy classes, or all policy classes from a set. The current event matches the policy class specification if the user is contained in the designated policy classes. If the policy class is omitted, any event matches this component of the pattern.', '\\nOperation specification: The mandatory operation specification specifies the event operation by its name, as any operation, or as any operation from a set of operations.\\n']\n",
      "101\n"
     ]
    }
   ],
   "source": [
    "def add_paragraphs_to_chromadb(paragraphs):\n",
    "    documents = paragraphs\n",
    "    ids = [f\"id{i}\" for i in range(len(paragraphs))]\n",
    "    collection.add(documents=documents, ids=ids)\n",
    "\n",
    "def read_txt_paragraphs(txt_file):\n",
    "    paragraphs = []\n",
    "    with open(txt_file) as info:\n",
    "        lines = info.read()\n",
    "        paragraphs = lines.split('\\n\\n')\n",
    "    return paragraphs\n",
    "\n",
    "txt_path = \"chromadb/ngac_config_notes(updated).txt\" \n",
    "txt_paragraphs = read_txt_paragraphs(txt_path)\n",
    "\n",
    "paragraphs = txt_paragraphs \n",
    "\n",
    "print(paragraphs)\n",
    "print(len(paragraphs))\n",
    "add_paragraphs_to_chromadb(paragraphs)    "
   ]
  },
  {
   "cell_type": "code",
   "execution_count": 36,
   "metadata": {},
   "outputs": [],
   "source": [
    "import csv\n",
    "\n",
    "example_dataset = \"chromadb/NGACdata.csv\"\n",
    "\n",
    "with open(example_dataset, 'r') as file:\n",
    "    dataset=csv.reader(file)\n",
    "\n",
    "    ex_policies =[]\n",
    "    gold_config = []\n",
    "\n",
    "    for row in dataset:\n",
    "        ex_policies.append(row[0])\n",
    "        gold_config.append(row[1])\n"
   ]
  },
  {
   "cell_type": "code",
   "execution_count": 37,
   "metadata": {},
   "outputs": [],
   "source": [
    "data = []\n",
    "\n",
    "for i in range(len(ex_policies)):\n",
    "    data.append(dspy.Example(gold_policy = ex_policies[i], configurations = gold_config[i]).with_inputs(\"policy\"))\n",
    "\n",
    "trainset = data[1:3]\n",
    "devset = data[3:6]\n",
    "testset = data[6:]"
   ]
  },
  {
   "cell_type": "code",
   "execution_count": 13,
   "metadata": {},
   "outputs": [
    {
     "data": {
      "text/plain": [
       "'create policy class \"EligibilityPolicyClass”;create user attribute \"ResearchFaculty\" in\\n[\"EligibilityPolicyClass \"];create user attribute \" TenuredTrackFaculty \" in\\n[\"EligibilityPolicyClass \"];create user attribute \" TenuredFaculty \" in [\"EligibilityPolicyClass\\n\"];create user attribute \" AdjunctFaculty \" in [\"EligibilityPolicyClass \"];create user attribute \"\\nClinicalFaculty \" in [\"EligibilityPolicyClass \"];create user attribute \" TeachingFaculty \" in\\n[\"EligibilityPolicyClass \"]; create object attribute \"PDSWhole\" in [\"UniversityPolicy\"];\\nassociate \"ResearchFaculty\" and \"PDSWhole\" with [\"submit\"];associate\\n\"TenuredTrackFaculty\" and \"PDSWhole\" with [\"submit\"]; associate \"TenuredFaculty\" and\\n\"PDSWhole\" with [\"submit\"];create user \"Bob\" in [\"AdjunctFaculties\"];create user \"Bob\" in\\n[\"AdjunctFaculties\"];create user \"Michelle\" in [\"AdjunctFaculties\"]; create user \"Ashley\" in\\n[\"ResearchFaculty\"];create user \"David\" in [\"TenuredTrackFaculty\"]; create user \"Dorothy\"\\nin [\"TenuredTrackFaculty\"]; create user \"Jessica\" in [\"TenuredFaculty\"];'"
      ]
     },
     "execution_count": 13,
     "metadata": {},
     "output_type": "execute_result"
    }
   ],
   "source": [
    "trainset[1].configurations"
   ]
  },
  {
   "cell_type": "code",
   "execution_count": 38,
   "metadata": {},
   "outputs": [],
   "source": [
    "class PromptOptimzer(dspy.Signature):\n",
    "    ''' Rewrite the given access control policy paragraph to be concise  while maintaining all information and logic. '''\n",
    "    policy_statements = dspy.InputField(desc=''' Information regarding organizational levels of access control that must strictly followed. \n",
    "                                        Note possible sets of individual users/objects and their levels of access/membership of groups. ''')                           \n",
    "    \n",
    "    optimized_paragraph  = dspy.OutputField()\n",
    "                            #    ,prefix = \"PML: \"\n",
    "                               "
   ]
  },
  {
   "cell_type": "code",
   "execution_count": 39,
   "metadata": {},
   "outputs": [],
   "source": [
    "class PML_Generator(dspy.Signature):\n",
    "  '''Create the Access Control configuration for the Policy Class. \n",
    "  Policy Machine Language(PML): \n",
    "                            create policy class \"policyclass1\"; - creates policy class \"policyclass1\" for all elements to be contained in - usually incapsulates all the elements of the policy;\n",
    "                            create user attribute \"userattribute1\" in [\"pc1\"]; - creates user attribute \"userattribute1\" in policy class \"pc1\";\n",
    "                            create object attribute \"objectattribute1\" in [\"pc1\"]; - creates object attribute \"objectattribute1\" in policy class \"pc1\";\n",
    "                            assign \"userattribute1\" to [\"userattribute2\"]; - assigns \"userattribute1\" to \"userattribute2\". The permissions of \"userattribute2\" are inherited by \"userattribute1\";\n",
    "                            create user \"user1\" in [\"userattribute1\" \"userattribute2\"]; - creates user \"user1\" with attributes \"userattribute1\" and \"userattribute2\";\n",
    "                            associate \"userattribute1\" and \"objectattribute1\" with [\"accessright1\" \"accessright2\"]; - permits any user with \"userattribute1\" access \"accessright1\" and \"accessright2\" on \"objectattribute1\";\n",
    "                                        '''\n",
    "\n",
    "  policy = dspy.InputField(desc=\"Access control policy\")\n",
    "  context = dspy.InputField(desc=\"Contains information relevant to the configuration\")\n",
    "  PML_statements = dspy.OutputField(desc = \"Policy Machine Language (PML)\")\n",
    "    "
   ]
  },
  {
   "cell_type": "code",
   "execution_count": 40,
   "metadata": {},
   "outputs": [],
   "source": [
    "gpmsPrompt = '''\n",
    "Policy statement: \n",
    "On college campuses, only particular faculty members are eligible to create a proposal, called PDSWhole.\n",
    "Research Faculty, Tenured Track Faculty, and Tenured Faculty can create proposals and are eligible to be PI, CoPI, and Senior Personnel of the proposal.\n",
    "Adjunct Faculties can only be Senior Personnel, Clinical and Teaching faculty can be CoPI.\n",
    "\n",
    "\n",
    "'''"
   ]
  },
  {
   "cell_type": "code",
   "execution_count": 41,
   "metadata": {},
   "outputs": [],
   "source": [
    "from dsp.utils import deduplicate\n",
    "\n",
    "class NLPEngine(dspy.Module):\n",
    "    def __init__(self):\n",
    "        super().__init__()\n",
    "        self.refine_prompt = dspy.ChainOfThought(PromptOptimzer)\n",
    "        self.generate_answer = dspy.Predict(PML_Generator)\n",
    "        self.retrieve = dspy.Retrieve(k=3)\n",
    "        #self.max_hops=max_hops\n",
    "\n",
    "    def forward(self, statements):\n",
    "        context_history = []\n",
    "\n",
    "        refined_prompt = self.refine_prompt(policy_statements=statements) #Refines prompt\n",
    "\n",
    "        #Insert Loop\n",
    "        context = self.retrieve(statements).passages\n",
    "        context_history.append(context)\n",
    "        configurationPML = self.generate_answer(policy=refined_prompt.optimized_paragraph, context=context) #Generates PML\n",
    "        \n",
    "        \n",
    "        return dspy.Prediction(configuration = configurationPML.PML_statements) \n",
    "    "
   ]
  },
  {
   "cell_type": "code",
   "execution_count": 42,
   "metadata": {},
   "outputs": [],
   "source": [
    "test = ''' On college campuses, only particular faculty members are eligible to create a proposal, called PDSWhole.\n",
    "Research Faculty, Tenured Track Faculty, and Tenured Faculty can create proposals and are eligible to be PI, CoPI, and Senior Personnel of the proposal.\n",
    "Adjunct Faculties can only be Senior Personnel, Clinical and Teaching faculty can be CoPI.\n",
    "'''\n",
    "uncomp_system = NLPEngine()\n",
    "config = uncomp_system(test)"
   ]
  },
  {
   "cell_type": "code",
   "execution_count": 44,
   "metadata": {},
   "outputs": [
    {
     "name": "stdout",
     "output_type": "stream",
     "text": [
      "Prediction(\n",
      "    configuration='Policy: Access control policy  \\nContext:  \\n[1] «Shall: A keyword indicating a mandatory requirement. All such requirements are required to be implemented to ensure conformance with this standard.»  \\n[2] «Optional: A keyword that describes features that are not required to be implemented by this standard. However, if any optional feature defined by this standard is implemented, it shall be implemented as defined in this standard.»  \\n[3] «Prohibition relation - A configured relation that defines an allocation of access rights among policy elements that disables certain modes of access.»  \\n\\nPML Statements:  \\n```\\ncreate policy class \"PDSWhole\";  \\ncreate user attribute \"ResearchFaculty\" in [\"PDSWhole\"];  \\ncreate user attribute \"Ten'\n",
      ")\n"
     ]
    }
   ],
   "source": [
    "print(config)"
   ]
  },
  {
   "cell_type": "code",
   "execution_count": 45,
   "metadata": {},
   "outputs": [
    {
     "name": "stdout",
     "output_type": "stream",
     "text": [
      "\n",
      "\n",
      "\n",
      "Create the Access Control configuration for the Policy Class. \n",
      "Policy Machine Language(PML): \n",
      "                          create policy class \"policyclass1\"; - creates policy class \"policyclass1\" for all elements to be contained in - usually incapsulates all the elements of the policy;\n",
      "                          create user attribute \"userattribute1\" in [\"pc1\"]; - creates user attribute \"userattribute1\" in policy class \"pc1\";\n",
      "                          create object attribute \"objectattribute1\" in [\"pc1\"]; - creates object attribute \"objectattribute1\" in policy class \"pc1\";\n",
      "                          assign \"userattribute1\" to [\"userattribute2\"]; - assigns \"userattribute1\" to \"userattribute2\". The permissions of \"userattribute2\" are inherited by \"userattribute1\";\n",
      "                          create user \"user1\" in [\"userattribute1\" \"userattribute2\"]; - creates user \"user1\" with attributes \"userattribute1\" and \"userattribute2\";\n",
      "                          associate \"userattribute1\" and \"objectattribute1\" with [\"accessright1\" \"accessright2\"]; - permits any user with \"userattribute1\" access \"accessright1\" and \"accessright2\" on \"objectattribute1\";\n",
      "\n",
      "---\n",
      "\n",
      "Follow the following format.\n",
      "\n",
      "Policy: Access control policy\n",
      "Context: Contains information relevant to the configuration\n",
      "PML Statements: Policy Machine Language (PML)\n",
      "\n",
      "---\n",
      "\n",
      "Policy: On college campuses, only Research Faculty, Tenured Track Faculty, and Tenured Faculty can create proposals (PDSWhole) and serve as PI, CoPI, or Senior Personnel. Adjunct Faculty may only serve as Senior Personnel, while Clinical and Teaching Faculty can act as CoPI.\n",
      "Context:\n",
      "[1] «Shall: A keyword indicating a mandatory requirement. All such requirements are required to be implemented to ensure conformance with this standard.»\n",
      "[2] «Optional: A keyword that describes features that are not required to be implemented by this standard. However, if any optional feature defined by this standard is implemented, it shall be implemented as defined in this standard.»\n",
      "[3] «Prohibition relation - A configured relation that defines an allocation of access rights among policy elements that disables certain modes of access.»\n",
      "PML Statements:\u001b[32m Policy: Access control policy  \n",
      "Context:  \n",
      "[1] «Shall: A keyword indicating a mandatory requirement. All such requirements are required to be implemented to ensure conformance with this standard.»  \n",
      "[2] «Optional: A keyword that describes features that are not required to be implemented by this standard. However, if any optional feature defined by this standard is implemented, it shall be implemented as defined in this standard.»  \n",
      "[3] «Prohibition relation - A configured relation that defines an allocation of access rights among policy elements that disables certain modes of access.»  \n",
      "\n",
      "PML Statements:  \n",
      "```\n",
      "create policy class \"PDSWhole\";  \n",
      "create user attribute \"ResearchFaculty\" in [\"PDSWhole\"];  \n",
      "create user attribute \"Ten\u001b[0m\n",
      "\n",
      "\n",
      "\n"
     ]
    },
    {
     "data": {
      "text/plain": [
       "'\\n\\n\\nCreate the Access Control configuration for the Policy Class. \\nPolicy Machine Language(PML): \\n                          create policy class \"policyclass1\"; - creates policy class \"policyclass1\" for all elements to be contained in - usually incapsulates all the elements of the policy;\\n                          create user attribute \"userattribute1\" in [\"pc1\"]; - creates user attribute \"userattribute1\" in policy class \"pc1\";\\n                          create object attribute \"objectattribute1\" in [\"pc1\"]; - creates object attribute \"objectattribute1\" in policy class \"pc1\";\\n                          assign \"userattribute1\" to [\"userattribute2\"]; - assigns \"userattribute1\" to \"userattribute2\". The permissions of \"userattribute2\" are inherited by \"userattribute1\";\\n                          create user \"user1\" in [\"userattribute1\" \"userattribute2\"]; - creates user \"user1\" with attributes \"userattribute1\" and \"userattribute2\";\\n                          associate \"userattribute1\" and \"objectattribute1\" with [\"accessright1\" \"accessright2\"]; - permits any user with \"userattribute1\" access \"accessright1\" and \"accessright2\" on \"objectattribute1\";\\n\\n---\\n\\nFollow the following format.\\n\\nPolicy: Access control policy\\nContext: Contains information relevant to the configuration\\nPML Statements: Policy Machine Language (PML)\\n\\n---\\n\\nPolicy: On college campuses, only Research Faculty, Tenured Track Faculty, and Tenured Faculty can create proposals (PDSWhole) and serve as PI, CoPI, or Senior Personnel. Adjunct Faculty may only serve as Senior Personnel, while Clinical and Teaching Faculty can act as CoPI.\\nContext:\\n[1] «Shall: A keyword indicating a mandatory requirement. All such requirements are required to be implemented to ensure conformance with this standard.»\\n[2] «Optional: A keyword that describes features that are not required to be implemented by this standard. However, if any optional feature defined by this standard is implemented, it shall be implemented as defined in this standard.»\\n[3] «Prohibition relation - A configured relation that defines an allocation of access rights among policy elements that disables certain modes of access.»\\nPML Statements:\\x1b[32m Policy: Access control policy  \\nContext:  \\n[1] «Shall: A keyword indicating a mandatory requirement. All such requirements are required to be implemented to ensure conformance with this standard.»  \\n[2] «Optional: A keyword that describes features that are not required to be implemented by this standard. However, if any optional feature defined by this standard is implemented, it shall be implemented as defined in this standard.»  \\n[3] «Prohibition relation - A configured relation that defines an allocation of access rights among policy elements that disables certain modes of access.»  \\n\\nPML Statements:  \\n```\\ncreate policy class \"PDSWhole\";  \\ncreate user attribute \"ResearchFaculty\" in [\"PDSWhole\"];  \\ncreate user attribute \"Ten\\x1b[0m\\n\\n\\n'"
      ]
     },
     "execution_count": 45,
     "metadata": {},
     "output_type": "execute_result"
    }
   ],
   "source": [
    "gpt4o.inspect_history(n=1)"
   ]
  },
  {
   "cell_type": "code",
   "execution_count": 22,
   "metadata": {},
   "outputs": [
    {
     "data": {
      "text/plain": [
       "Prediction(\n",
       "    configuration='Policy: Access control policy  \\nContext:  \\n[1] «Shall: A keyword indicating a mandatory requirement. All such requirements are required to be implemented to ensure conformance with this standard.»  \\n[2] «Authorized - Explicitly allowed through authorization.»  \\n[3] «Association relation - A configured relation that defines an allocation of access rights among policy elements that enables certain modes of access.»  \\n\\nPML Statements:  \\n```\\ncreate policy class \"policyclass1\";  \\ncreate user attribute \"ResearchFaculty\" in [\"policyclass1\"];  \\ncreate user attribute \"TenuredTrackFaculty\" in [\"policyclass1\"];  \\ncreate user attribute \"TenuredFaculty\" in [\"policyclass1\"];  \\ncreate user attribute \"AdjunctFaculty\"'\n",
       ")"
      ]
     },
     "execution_count": 22,
     "metadata": {},
     "output_type": "execute_result"
    }
   ],
   "source": [
    "test_users = ''' On college campuses, several only particular faculty members are eligible to create a\n",
    "proposal, called PDSWhole. Only Research Faculty, Tenured Track Faculty, and Tenured\n",
    "Faculty can create proposals and are eligible to be PI, CoPI, and SP of the proposal.\n",
    "Adjunct Faculties can only be SP, Clinical and Teaching faculty can be CoPI. Bob and\n",
    "Michelle are Adjunct Faculties, Ashley is Research Faculty, David and Dorothy are Tenured\n",
    "Track Faculty, Jessica is Tenured faculty\n",
    " '''\n",
    "uncomp_system(test_users)"
   ]
  },
  {
   "cell_type": "code",
   "execution_count": 23,
   "metadata": {},
   "outputs": [],
   "source": [
    "class Evaluator(dspy.Signature):\n",
    "    '''Evaluate the quality of an access control policy configuration according to a given criterion. Give a numbered rating.'''\n",
    "    criterion =dspy.InputField(desc=\"The evaluation criterion\")\n",
    "    policy = dspy.InputField(desc=\"The provided access control policy that should be adhered to.\")\n",
    "    gold_configuration = dspy.InputField(desc=\"An expert written Ground Truth configuration generated in accordance to the policy\")\n",
    "    generated_configuration = dspy.InputField(desc=\"The system's generated configuration in accordance to the policy.\")\n",
    "    \n",
    "    feedback = dspy.OutputField(desc=\"A rating between 1 and 5. IMPORTANT!! Only output the rating as an `int` and nothing else.\")\n"
   ]
  },
  {
   "cell_type": "code",
   "execution_count": 24,
   "metadata": {},
   "outputs": [],
   "source": [
    "class RatingParser(dspy.Signature):\n",
    "    \"\"\"Parse the rating from a string. Return an integer only\"\"\"\n",
    "\n",
    "    raw_rating_response = dspy.InputField(desc=\"The string that contains the rating in it.\")\n",
    "    rating = dspy.OutputField(desc=\"An integer valued rating.\")"
   ]
  },
  {
   "cell_type": "code",
   "execution_count": 25,
   "metadata": {},
   "outputs": [],
   "source": [
    "class RAGMetric(dspy.Module):\n",
    "    def __init__(self):\n",
    "        self.evaluator = dspy.ChainOfThought(Evaluator)\n",
    "        self.rating_parser = dspy.Predict(RatingParser)\n",
    "\n",
    "\n",
    "    def forward(self, gold, pred, trace=None):\n",
    "        policy, gold_config, gen_config = gold.gold_policy, gold.configurations, pred\n",
    "\n",
    "        users = \"Does the generated configuration include all users and objects?\"\n",
    "        ground_truth = f\"The Ground Truth configuration in accordance to the policy: {policy} is given as: \\n \\n {gold_config} \\n \\n How aligned is this Predicted Answer? {gen_config}\"\n",
    "        access_level = f\"Are all users/users attributes in {pred} granted proper access rights derived from the access control policy given?\"\n",
    "\n",
    "        with dspy.context(lm=gpt4o): #Test w GPT3.5\n",
    "            context = ''\n",
    "            raw_users_response = self.evaluator(criterion= users,\n",
    "                                            policy = policy, \n",
    "                                            gold_configuration = gold_config,\n",
    "                                            generated_configuration=gen_config)\n",
    "            raw_ground_truth_response = self.evaluator(criterion= ground_truth,\n",
    "                                            policy = policy, \n",
    "                                        gold_configuration = gold_config,\n",
    "                                        generated_configuration=gen_config)\n",
    "            raw_access_response = self.evaluator(criterion= access_level,\n",
    "                                        policy = policy, \n",
    "                                        gold_configuration = gold_config,\n",
    "                                        generated_configuration=gen_config)\n",
    "        \n",
    "        with dspy.context(lm=gpt4o):\n",
    "                user_rating = self.rating_parser(raw_rating_response=str(raw_users_response.feedback)).rating\n",
    "                access_rating = self.rating_parser(raw_rating_response=str(raw_access_response.feedback)).rating\n",
    "                ground_truth_rating = self.rating_parser(raw_rating_response=str(raw_ground_truth_response.feedback)).rating\n",
    "\n",
    "        total = float(user_rating[-1:]) + float(access_rating[-1:])*2 + float(ground_truth_rating[-1:])\n",
    "\n",
    "        return (total / 20) * 100\n",
    "\n"
   ]
  },
  {
   "cell_type": "code",
   "execution_count": 27,
   "metadata": {},
   "outputs": [
    {
     "data": {
      "text/plain": [
       "'In an IT company, different users have different permissions on several objects. Quality\\nAssurance workers can print objects from UserDatabase; Cloud Specialists can move\\nobjects in User Database. Cyber Security Experts can archive System Log objects.'"
      ]
     },
     "execution_count": 27,
     "metadata": {},
     "output_type": "execute_result"
    }
   ],
   "source": [
    "test_run_prompt = str(devset[0].gold_policy)\n",
    "test_run_config = str(devset[0].configurations)\n",
    "test_run_prompt"
   ]
  },
  {
   "cell_type": "code",
   "execution_count": 28,
   "metadata": {},
   "outputs": [
    {
     "name": "stdout",
     "output_type": "stream",
     "text": [
      "20.0\n"
     ]
    }
   ],
   "source": [
    "llm_metric = RAGMetric()\n",
    "test_example = devset[0]\n",
    "predicted = uncomp_system(test_run_prompt)\n",
    "predicted = str(predicted.configuration)\n",
    "llm_metric_rating = llm_metric(test_example, predicted)\n",
    "print(llm_metric_rating)"
   ]
  },
  {
   "cell_type": "code",
   "execution_count": 29,
   "metadata": {},
   "outputs": [
    {
     "name": "stdout",
     "output_type": "stream",
     "text": [
      "Policy: In an IT company, different users have different permissions on several objects. Quality\n",
      "Assurance workers can print objects from UserDatabase; Cloud Specialists can move\n",
      "objects in User Database. Cyber Security Experts can archive System Log objects.\n",
      "\n",
      "Uncompiled RAG answer: Policy: Access control policy  \n",
      "Context:  \n",
      "[1] «A resource access is the only way by which users shall gain access to resources. An administration access is the only way by which users shall gain access to policy information. A user may be associated with one or more processes, while a process shall be associated with just one user. Requests from a user’s process to access resources or policy information need to be submitted under an established session. A user shall not have more than one session active at any time. An authenticated user shall establish a session with a PEP prior to any of its processes submitting an access request. All of a user’s processes shall use the PEP to which the user has formed a session to access resources or policy information\n",
      "Compiled RAG answer: 20.0\n"
     ]
    }
   ],
   "source": [
    "print(f\"Policy: {test_run_prompt}\\n\")\n",
    "rag_output = str(uncomp_system(test_run_prompt).configuration)\n",
    "print(f\"Uncompiled RAG answer: {rag_output}\")\n",
    "print(f\"Compiled RAG answer: {llm_metric(test_example, rag_output)}\")\n",
    "\n",
    "\n"
   ]
  },
  {
   "cell_type": "code",
   "execution_count": 27,
   "metadata": {},
   "outputs": [
    {
     "name": "stderr",
     "output_type": "stream",
     "text": [
      "  0%|          | 0/2 [00:00<?, ?it/s]ERROR:dspy.teleprompt.bootstrap:\u001b[2m2024-07-22T21:26:13.727375Z\u001b[0m [\u001b[31m\u001b[1merror    \u001b[0m] \u001b[1mFailed to run or to evaluate example Example({'gold_policy': 'On college campuses, several only particular faculty members are eligible to create a\\nproposal, called PDSWhole. Only Research Faculty, Tenured Track Faculty, and Tenured\\nFaculty can create proposals and are eligible to be PI, CoPI, and SP of the proposal.\\nAdjunct Faculties can only be SP, Clinical and Teaching faculty can be CoPI.', 'configurations': 'create policy class \"EligibilityPolicyClass”;create user attribute \"ResearchFaculty\" in\\n[\"EligibilityPolicyClass \"];create user attribute \" TenuredTrackFaculty \" in\\n[\"EligibilityPolicyClass \"];create user attribute \" TenuredFaculty \" in [\"EligibilityPolicyClass\\n\"];create user attribute \" AdjunctFaculty \" in [\"EligibilityPolicyClass \"];create user attribute \"\\nClinicalFaculty \" in [\"EligibilityPolicyClass \"];create user attribute \" TeachingFaculty \" in\\n[\"EligibilityPolicyClass \"]; create object attribute \"PDSWhole\" in [\"UniversityPolicy\"];\\nassociate \"ResearchFaculty\" and \"PDSWhole\" with [\"submit\"];associate\\n\"TenuredTrackFaculty\" and \"PDSWhole\" with [\"submit\"]; associate \"TenuredFaculty\" and\\n\"PDSWhole\" with [\"submit\"];'}) (input_keys={'policy'}) with evaluator = ChainOfThought(Evaluator(criterion, policy, gold_configuration, generated_configuration -> feedback\n",
      "    instructions='Evaluate the quality of an access control policy configuration according to a given criterion. Give a numbered rating.'\n",
      "    criterion = Field(annotation=str required=True json_schema_extra={'desc': 'The evaluation criterion', '__dspy_field_type': 'input', 'prefix': 'Criterion:'})\n",
      "    policy = Field(annotation=str required=True json_schema_extra={'desc': 'The provided access control policy that should be adhered to.', '__dspy_field_type': 'input', 'prefix': 'Policy:'})\n",
      "    gold_configuration = Field(annotation=str required=True json_schema_extra={'desc': 'An expert written Ground Truth configuration generated in accordance to the policy', '__dspy_field_type': 'input', 'prefix': 'Gold Configuration:'})\n",
      "    generated_configuration = Field(annotation=str required=True json_schema_extra={'desc': \"The system's generated configuration in accordance to the policy.\", '__dspy_field_type': 'input', 'prefix': 'Generated Configuration:'})\n",
      "    feedback = Field(annotation=str required=True json_schema_extra={'desc': 'A rating between 1 and 5. IMPORTANT!! Only output the rating as an `int` and nothing else.', '__dspy_field_type': 'output', 'prefix': 'Feedback:'})\n",
      "))\n",
      "rating_parser = Predict(RatingParser(raw_rating_response -> rating\n",
      "    instructions='Parse the rating from a string. Return an integer only'\n",
      "    raw_rating_response = Field(annotation=str required=True json_schema_extra={'desc': 'The string that contains the rating in it.', '__dspy_field_type': 'input', 'prefix': 'Raw Rating Response:'})\n",
      "    rating = Field(annotation=str required=True json_schema_extra={'desc': 'An integer valued rating.', '__dspy_field_type': 'output', 'prefix': 'Rating:'})\n",
      ")) due to NLPEngine.forward() missing 1 required positional argument: 'statements'.\u001b[0m [\u001b[0m\u001b[1m\u001b[34mdspy.teleprompt.bootstrap\u001b[0m]\u001b[0m \u001b[36mfilename\u001b[0m=\u001b[35mbootstrap.py\u001b[0m \u001b[36mlineno\u001b[0m=\u001b[35m211\u001b[0m\n",
      "ERROR:dspy.teleprompt.bootstrap:\u001b[2m2024-07-22T21:26:13.729346Z\u001b[0m [\u001b[31m\u001b[1merror    \u001b[0m] \u001b[1mFailed to run or to evaluate example Example({'gold_policy': 'On college campuses, several only particular faculty members are eligible to create a\\nproposal, called PDSWhole. Only Research Faculty, Tenured Track Faculty, and Tenured\\nFaculty can create proposals and are eligible to be PI, CoPI, and SP of the proposal.\\nAdjunct Faculties can only be SP, Clinical and Teaching faculty can be CoPI. Bob and\\nMichelle are Adjunct Faculties, Ashley is Research Faculty, David and Dorothy are Tenured\\nTrack Faculty, Jessica is Tenured faculty', 'configurations': 'create policy class \"EligibilityPolicyClass”;create user attribute \"ResearchFaculty\" in\\n[\"EligibilityPolicyClass \"];create user attribute \" TenuredTrackFaculty \" in\\n[\"EligibilityPolicyClass \"];create user attribute \" TenuredFaculty \" in [\"EligibilityPolicyClass\\n\"];create user attribute \" AdjunctFaculty \" in [\"EligibilityPolicyClass \"];create user attribute \"\\nClinicalFaculty \" in [\"EligibilityPolicyClass \"];create user attribute \" TeachingFaculty \" in\\n[\"EligibilityPolicyClass \"]; create object attribute \"PDSWhole\" in [\"UniversityPolicy\"];\\nassociate \"ResearchFaculty\" and \"PDSWhole\" with [\"submit\"];associate\\n\"TenuredTrackFaculty\" and \"PDSWhole\" with [\"submit\"]; associate \"TenuredFaculty\" and\\n\"PDSWhole\" with [\"submit\"];create user \"Bob\" in [\"AdjunctFaculties\"];create user \"Bob\" in\\n[\"AdjunctFaculties\"];create user \"Michelle\" in [\"AdjunctFaculties\"]; create user \"Ashley\" in\\n[\"ResearchFaculty\"];create user \"David\" in [\"TenuredTrackFaculty\"]; create user \"Dorothy\"\\nin [\"TenuredTrackFaculty\"]; create user \"Jessica\" in [\"TenuredFaculty\"];'}) (input_keys={'policy'}) with evaluator = ChainOfThought(Evaluator(criterion, policy, gold_configuration, generated_configuration -> feedback\n",
      "    instructions='Evaluate the quality of an access control policy configuration according to a given criterion. Give a numbered rating.'\n",
      "    criterion = Field(annotation=str required=True json_schema_extra={'desc': 'The evaluation criterion', '__dspy_field_type': 'input', 'prefix': 'Criterion:'})\n",
      "    policy = Field(annotation=str required=True json_schema_extra={'desc': 'The provided access control policy that should be adhered to.', '__dspy_field_type': 'input', 'prefix': 'Policy:'})\n",
      "    gold_configuration = Field(annotation=str required=True json_schema_extra={'desc': 'An expert written Ground Truth configuration generated in accordance to the policy', '__dspy_field_type': 'input', 'prefix': 'Gold Configuration:'})\n",
      "    generated_configuration = Field(annotation=str required=True json_schema_extra={'desc': \"The system's generated configuration in accordance to the policy.\", '__dspy_field_type': 'input', 'prefix': 'Generated Configuration:'})\n",
      "    feedback = Field(annotation=str required=True json_schema_extra={'desc': 'A rating between 1 and 5. IMPORTANT!! Only output the rating as an `int` and nothing else.', '__dspy_field_type': 'output', 'prefix': 'Feedback:'})\n",
      "))\n",
      "rating_parser = Predict(RatingParser(raw_rating_response -> rating\n",
      "    instructions='Parse the rating from a string. Return an integer only'\n",
      "    raw_rating_response = Field(annotation=str required=True json_schema_extra={'desc': 'The string that contains the rating in it.', '__dspy_field_type': 'input', 'prefix': 'Raw Rating Response:'})\n",
      "    rating = Field(annotation=str required=True json_schema_extra={'desc': 'An integer valued rating.', '__dspy_field_type': 'output', 'prefix': 'Rating:'})\n",
      ")) due to NLPEngine.forward() missing 1 required positional argument: 'statements'.\u001b[0m [\u001b[0m\u001b[1m\u001b[34mdspy.teleprompt.bootstrap\u001b[0m]\u001b[0m \u001b[36mfilename\u001b[0m=\u001b[35mbootstrap.py\u001b[0m \u001b[36mlineno\u001b[0m=\u001b[35m211\u001b[0m\n",
      "100%|██████████| 2/2 [00:00<00:00, 426.16it/s]\n"
     ]
    }
   ],
   "source": [
    "from dspy.teleprompt import BootstrapFewShot\n",
    "\n",
    "fs_config = dict(max_bootstrapped_demos = 2, max_labeled_demos = 3, num_candidate_programs = 2, num_threads = 1)\n",
    "teleprompter = BootstrapFewShot(metric=llm_metric)\n",
    "compiled_RAG = teleprompter.compile(NLPEngine(),teacher=NLPEngine(), trainset=trainset)"
   ]
  }
 ],
 "metadata": {
  "kernelspec": {
   "display_name": "test_env",
   "language": "python",
   "name": "python3"
  },
  "language_info": {
   "codemirror_mode": {
    "name": "ipython",
    "version": 3
   },
   "file_extension": ".py",
   "mimetype": "text/x-python",
   "name": "python",
   "nbconvert_exporter": "python",
   "pygments_lexer": "ipython3",
   "version": "3.12.4"
  }
 },
 "nbformat": 4,
 "nbformat_minor": 2
}
