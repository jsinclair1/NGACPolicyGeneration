{
 "cells": [
  {
   "cell_type": "code",
   "execution_count": 17,
   "metadata": {},
   "outputs": [
    {
     "name": "stderr",
     "output_type": "stream",
     "text": [
      "huggingface/tokenizers: The current process just got forked, after parallelism has already been used. Disabling parallelism to avoid deadlocks...\n",
      "To disable this warning, you can either:\n",
      "\t- Avoid using `tokenizers` before the fork if possible\n",
      "\t- Explicitly set the environment variable TOKENIZERS_PARALLELISM=(true | false)\n"
     ]
    },
    {
     "name": "stdout",
     "output_type": "stream",
     "text": [
      "Requirement already satisfied: dspy-ai in /home/jps36r/.conda/envs/test_env/lib/python3.12/site-packages (2.4.10)\n",
      "Requirement already satisfied: backoff~=2.2.1 in /home/jps36r/.conda/envs/test_env/lib/python3.12/site-packages (from dspy-ai) (2.2.1)\n",
      "Requirement already satisfied: joblib~=1.3.2 in /home/jps36r/.conda/envs/test_env/lib/python3.12/site-packages (from dspy-ai) (1.3.2)\n",
      "Requirement already satisfied: openai<2.0.0,>=0.28.1 in /home/jps36r/.conda/envs/test_env/lib/python3.12/site-packages (from dspy-ai) (1.35.3)\n",
      "Requirement already satisfied: pandas in /home/jps36r/.conda/envs/test_env/lib/python3.12/site-packages (from dspy-ai) (2.2.2)\n",
      "Requirement already satisfied: regex in /home/jps36r/.conda/envs/test_env/lib/python3.12/site-packages (from dspy-ai) (2024.5.15)\n",
      "Requirement already satisfied: ujson in /home/jps36r/.conda/envs/test_env/lib/python3.12/site-packages (from dspy-ai) (5.10.0)\n",
      "Requirement already satisfied: tqdm in /home/jps36r/.conda/envs/test_env/lib/python3.12/site-packages (from dspy-ai) (4.66.4)\n",
      "Requirement already satisfied: datasets<3.0.0,>=2.14.6 in /home/jps36r/.conda/envs/test_env/lib/python3.12/site-packages (from dspy-ai) (2.20.0)\n",
      "Requirement already satisfied: requests in /home/jps36r/.conda/envs/test_env/lib/python3.12/site-packages (from dspy-ai) (2.32.3)\n",
      "Requirement already satisfied: optuna in /home/jps36r/.conda/envs/test_env/lib/python3.12/site-packages (from dspy-ai) (3.6.1)\n",
      "Requirement already satisfied: pydantic~=2.0 in /home/jps36r/.conda/envs/test_env/lib/python3.12/site-packages (from dspy-ai) (2.7.4)\n",
      "Requirement already satisfied: structlog in /home/jps36r/.conda/envs/test_env/lib/python3.12/site-packages (from dspy-ai) (24.2.0)\n",
      "Requirement already satisfied: jinja2 in /home/jps36r/.conda/envs/test_env/lib/python3.12/site-packages (from dspy-ai) (3.1.4)\n",
      "Requirement already satisfied: filelock in /home/jps36r/.conda/envs/test_env/lib/python3.12/site-packages (from datasets<3.0.0,>=2.14.6->dspy-ai) (3.15.4)\n",
      "Requirement already satisfied: numpy>=1.17 in /home/jps36r/.conda/envs/test_env/lib/python3.12/site-packages (from datasets<3.0.0,>=2.14.6->dspy-ai) (1.26.4)\n",
      "Requirement already satisfied: pyarrow>=15.0.0 in /home/jps36r/.conda/envs/test_env/lib/python3.12/site-packages (from datasets<3.0.0,>=2.14.6->dspy-ai) (16.1.0)\n",
      "Requirement already satisfied: pyarrow-hotfix in /home/jps36r/.conda/envs/test_env/lib/python3.12/site-packages (from datasets<3.0.0,>=2.14.6->dspy-ai) (0.6)\n",
      "Requirement already satisfied: dill<0.3.9,>=0.3.0 in /home/jps36r/.conda/envs/test_env/lib/python3.12/site-packages (from datasets<3.0.0,>=2.14.6->dspy-ai) (0.3.8)\n",
      "Requirement already satisfied: xxhash in /home/jps36r/.conda/envs/test_env/lib/python3.12/site-packages (from datasets<3.0.0,>=2.14.6->dspy-ai) (3.4.1)\n",
      "Requirement already satisfied: multiprocess in /home/jps36r/.conda/envs/test_env/lib/python3.12/site-packages (from datasets<3.0.0,>=2.14.6->dspy-ai) (0.70.16)\n",
      "Requirement already satisfied: fsspec<=2024.5.0,>=2023.1.0 in /home/jps36r/.conda/envs/test_env/lib/python3.12/site-packages (from fsspec[http]<=2024.5.0,>=2023.1.0->datasets<3.0.0,>=2.14.6->dspy-ai) (2024.5.0)\n",
      "Requirement already satisfied: aiohttp in /home/jps36r/.conda/envs/test_env/lib/python3.12/site-packages (from datasets<3.0.0,>=2.14.6->dspy-ai) (3.9.5)\n",
      "Requirement already satisfied: huggingface-hub>=0.21.2 in /home/jps36r/.conda/envs/test_env/lib/python3.12/site-packages (from datasets<3.0.0,>=2.14.6->dspy-ai) (0.23.4)\n",
      "Requirement already satisfied: packaging in /home/jps36r/.conda/envs/test_env/lib/python3.12/site-packages (from datasets<3.0.0,>=2.14.6->dspy-ai) (24.1)\n",
      "Requirement already satisfied: pyyaml>=5.1 in /home/jps36r/.conda/envs/test_env/lib/python3.12/site-packages (from datasets<3.0.0,>=2.14.6->dspy-ai) (6.0.1)\n",
      "Requirement already satisfied: anyio<5,>=3.5.0 in /home/jps36r/.conda/envs/test_env/lib/python3.12/site-packages (from openai<2.0.0,>=0.28.1->dspy-ai) (4.4.0)\n",
      "Requirement already satisfied: distro<2,>=1.7.0 in /home/jps36r/.conda/envs/test_env/lib/python3.12/site-packages (from openai<2.0.0,>=0.28.1->dspy-ai) (1.9.0)\n",
      "Requirement already satisfied: httpx<1,>=0.23.0 in /home/jps36r/.conda/envs/test_env/lib/python3.12/site-packages (from openai<2.0.0,>=0.28.1->dspy-ai) (0.27.0)\n",
      "Requirement already satisfied: sniffio in /home/jps36r/.conda/envs/test_env/lib/python3.12/site-packages (from openai<2.0.0,>=0.28.1->dspy-ai) (1.3.1)\n",
      "Requirement already satisfied: typing-extensions<5,>=4.7 in /home/jps36r/.conda/envs/test_env/lib/python3.12/site-packages (from openai<2.0.0,>=0.28.1->dspy-ai) (4.12.2)\n",
      "Requirement already satisfied: annotated-types>=0.4.0 in /home/jps36r/.conda/envs/test_env/lib/python3.12/site-packages (from pydantic~=2.0->dspy-ai) (0.7.0)\n",
      "Requirement already satisfied: pydantic-core==2.18.4 in /home/jps36r/.conda/envs/test_env/lib/python3.12/site-packages (from pydantic~=2.0->dspy-ai) (2.18.4)\n",
      "Requirement already satisfied: charset-normalizer<4,>=2 in /home/jps36r/.conda/envs/test_env/lib/python3.12/site-packages (from requests->dspy-ai) (3.3.2)\n",
      "Requirement already satisfied: idna<4,>=2.5 in /home/jps36r/.conda/envs/test_env/lib/python3.12/site-packages (from requests->dspy-ai) (3.7)\n",
      "Requirement already satisfied: urllib3<3,>=1.21.1 in /home/jps36r/.conda/envs/test_env/lib/python3.12/site-packages (from requests->dspy-ai) (2.2.2)\n",
      "Requirement already satisfied: certifi>=2017.4.17 in /home/jps36r/.conda/envs/test_env/lib/python3.12/site-packages (from requests->dspy-ai) (2024.6.2)\n",
      "Requirement already satisfied: MarkupSafe>=2.0 in /home/jps36r/.conda/envs/test_env/lib/python3.12/site-packages (from jinja2->dspy-ai) (2.1.5)\n",
      "Requirement already satisfied: alembic>=1.5.0 in /home/jps36r/.conda/envs/test_env/lib/python3.12/site-packages (from optuna->dspy-ai) (1.13.1)\n",
      "Requirement already satisfied: colorlog in /home/jps36r/.conda/envs/test_env/lib/python3.12/site-packages (from optuna->dspy-ai) (6.8.2)\n",
      "Requirement already satisfied: sqlalchemy>=1.3.0 in /home/jps36r/.conda/envs/test_env/lib/python3.12/site-packages (from optuna->dspy-ai) (2.0.31)\n",
      "Requirement already satisfied: python-dateutil>=2.8.2 in /home/jps36r/.conda/envs/test_env/lib/python3.12/site-packages (from pandas->dspy-ai) (2.9.0)\n",
      "Requirement already satisfied: pytz>=2020.1 in /home/jps36r/.conda/envs/test_env/lib/python3.12/site-packages (from pandas->dspy-ai) (2024.1)\n",
      "Requirement already satisfied: tzdata>=2022.7 in /home/jps36r/.conda/envs/test_env/lib/python3.12/site-packages (from pandas->dspy-ai) (2024.1)\n",
      "Requirement already satisfied: Mako in /home/jps36r/.conda/envs/test_env/lib/python3.12/site-packages (from alembic>=1.5.0->optuna->dspy-ai) (1.3.5)\n",
      "Requirement already satisfied: aiosignal>=1.1.2 in /home/jps36r/.conda/envs/test_env/lib/python3.12/site-packages (from aiohttp->datasets<3.0.0,>=2.14.6->dspy-ai) (1.3.1)\n",
      "Requirement already satisfied: attrs>=17.3.0 in /home/jps36r/.conda/envs/test_env/lib/python3.12/site-packages (from aiohttp->datasets<3.0.0,>=2.14.6->dspy-ai) (23.2.0)\n",
      "Requirement already satisfied: frozenlist>=1.1.1 in /home/jps36r/.conda/envs/test_env/lib/python3.12/site-packages (from aiohttp->datasets<3.0.0,>=2.14.6->dspy-ai) (1.4.1)\n",
      "Requirement already satisfied: multidict<7.0,>=4.5 in /home/jps36r/.conda/envs/test_env/lib/python3.12/site-packages (from aiohttp->datasets<3.0.0,>=2.14.6->dspy-ai) (6.0.5)\n",
      "Requirement already satisfied: yarl<2.0,>=1.0 in /home/jps36r/.conda/envs/test_env/lib/python3.12/site-packages (from aiohttp->datasets<3.0.0,>=2.14.6->dspy-ai) (1.9.4)\n",
      "Requirement already satisfied: httpcore==1.* in /home/jps36r/.conda/envs/test_env/lib/python3.12/site-packages (from httpx<1,>=0.23.0->openai<2.0.0,>=0.28.1->dspy-ai) (1.0.5)\n",
      "Requirement already satisfied: h11<0.15,>=0.13 in /home/jps36r/.conda/envs/test_env/lib/python3.12/site-packages (from httpcore==1.*->httpx<1,>=0.23.0->openai<2.0.0,>=0.28.1->dspy-ai) (0.14.0)\n",
      "Requirement already satisfied: six>=1.5 in /home/jps36r/.conda/envs/test_env/lib/python3.12/site-packages (from python-dateutil>=2.8.2->pandas->dspy-ai) (1.16.0)\n",
      "Requirement already satisfied: greenlet!=0.4.17 in /home/jps36r/.conda/envs/test_env/lib/python3.12/site-packages (from sqlalchemy>=1.3.0->optuna->dspy-ai) (3.0.3)\n",
      "Note: you may need to restart the kernel to use updated packages.\n"
     ]
    },
    {
     "name": "stderr",
     "output_type": "stream",
     "text": [
      "huggingface/tokenizers: The current process just got forked, after parallelism has already been used. Disabling parallelism to avoid deadlocks...\n",
      "To disable this warning, you can either:\n",
      "\t- Avoid using `tokenizers` before the fork if possible\n",
      "\t- Explicitly set the environment variable TOKENIZERS_PARALLELISM=(true | false)\n"
     ]
    },
    {
     "name": "stdout",
     "output_type": "stream",
     "text": [
      "Requirement already satisfied: ipywidgets in /home/jps36r/.conda/envs/test_env/lib/python3.12/site-packages (8.1.3)\n",
      "Requirement already satisfied: comm>=0.1.3 in /home/jps36r/.conda/envs/test_env/lib/python3.12/site-packages (from ipywidgets) (0.2.2)\n",
      "Requirement already satisfied: ipython>=6.1.0 in /home/jps36r/.conda/envs/test_env/lib/python3.12/site-packages (from ipywidgets) (8.25.0)\n",
      "Requirement already satisfied: traitlets>=4.3.1 in /home/jps36r/.conda/envs/test_env/lib/python3.12/site-packages (from ipywidgets) (5.14.3)\n",
      "Requirement already satisfied: widgetsnbextension~=4.0.11 in /home/jps36r/.conda/envs/test_env/lib/python3.12/site-packages (from ipywidgets) (4.0.11)\n",
      "Requirement already satisfied: jupyterlab-widgets~=3.0.11 in /home/jps36r/.conda/envs/test_env/lib/python3.12/site-packages (from ipywidgets) (3.0.11)\n",
      "Requirement already satisfied: decorator in /home/jps36r/.conda/envs/test_env/lib/python3.12/site-packages (from ipython>=6.1.0->ipywidgets) (5.1.1)\n",
      "Requirement already satisfied: jedi>=0.16 in /home/jps36r/.conda/envs/test_env/lib/python3.12/site-packages (from ipython>=6.1.0->ipywidgets) (0.19.1)\n",
      "Requirement already satisfied: matplotlib-inline in /home/jps36r/.conda/envs/test_env/lib/python3.12/site-packages (from ipython>=6.1.0->ipywidgets) (0.1.7)\n",
      "Requirement already satisfied: prompt-toolkit<3.1.0,>=3.0.41 in /home/jps36r/.conda/envs/test_env/lib/python3.12/site-packages (from ipython>=6.1.0->ipywidgets) (3.0.47)\n",
      "Requirement already satisfied: pygments>=2.4.0 in /home/jps36r/.conda/envs/test_env/lib/python3.12/site-packages (from ipython>=6.1.0->ipywidgets) (2.18.0)\n",
      "Requirement already satisfied: stack-data in /home/jps36r/.conda/envs/test_env/lib/python3.12/site-packages (from ipython>=6.1.0->ipywidgets) (0.6.2)\n",
      "Requirement already satisfied: pexpect>4.3 in /home/jps36r/.conda/envs/test_env/lib/python3.12/site-packages (from ipython>=6.1.0->ipywidgets) (4.9.0)\n",
      "Requirement already satisfied: parso<0.9.0,>=0.8.3 in /home/jps36r/.conda/envs/test_env/lib/python3.12/site-packages (from jedi>=0.16->ipython>=6.1.0->ipywidgets) (0.8.4)\n",
      "Requirement already satisfied: ptyprocess>=0.5 in /home/jps36r/.conda/envs/test_env/lib/python3.12/site-packages (from pexpect>4.3->ipython>=6.1.0->ipywidgets) (0.7.0)\n",
      "Requirement already satisfied: wcwidth in /home/jps36r/.conda/envs/test_env/lib/python3.12/site-packages (from prompt-toolkit<3.1.0,>=3.0.41->ipython>=6.1.0->ipywidgets) (0.2.13)\n",
      "Requirement already satisfied: executing>=1.2.0 in /home/jps36r/.conda/envs/test_env/lib/python3.12/site-packages (from stack-data->ipython>=6.1.0->ipywidgets) (2.0.1)\n",
      "Requirement already satisfied: asttokens>=2.1.0 in /home/jps36r/.conda/envs/test_env/lib/python3.12/site-packages (from stack-data->ipython>=6.1.0->ipywidgets) (2.4.1)\n",
      "Requirement already satisfied: pure-eval in /home/jps36r/.conda/envs/test_env/lib/python3.12/site-packages (from stack-data->ipython>=6.1.0->ipywidgets) (0.2.2)\n",
      "Requirement already satisfied: six>=1.12.0 in /home/jps36r/.conda/envs/test_env/lib/python3.12/site-packages (from asttokens>=2.1.0->stack-data->ipython>=6.1.0->ipywidgets) (1.16.0)\n",
      "Note: you may need to restart the kernel to use updated packages.\n"
     ]
    },
    {
     "name": "stderr",
     "output_type": "stream",
     "text": [
      "huggingface/tokenizers: The current process just got forked, after parallelism has already been used. Disabling parallelism to avoid deadlocks...\n",
      "To disable this warning, you can either:\n",
      "\t- Avoid using `tokenizers` before the fork if possible\n",
      "\t- Explicitly set the environment variable TOKENIZERS_PARALLELISM=(true | false)\n"
     ]
    },
    {
     "name": "stdout",
     "output_type": "stream",
     "text": [
      "Requirement already satisfied: python-dotenv in /home/jps36r/.conda/envs/test_env/lib/python3.12/site-packages (1.0.1)\n",
      "Note: you may need to restart the kernel to use updated packages.\n"
     ]
    },
    {
     "name": "stderr",
     "output_type": "stream",
     "text": [
      "huggingface/tokenizers: The current process just got forked, after parallelism has already been used. Disabling parallelism to avoid deadlocks...\n",
      "To disable this warning, you can either:\n",
      "\t- Avoid using `tokenizers` before the fork if possible\n",
      "\t- Explicitly set the environment variable TOKENIZERS_PARALLELISM=(true | false)\n"
     ]
    },
    {
     "name": "stdout",
     "output_type": "stream",
     "text": [
      "Requirement already satisfied: chromadb in /home/jps36r/.conda/envs/test_env/lib/python3.12/site-packages (0.5.3)\n",
      "Requirement already satisfied: build>=1.0.3 in /home/jps36r/.conda/envs/test_env/lib/python3.12/site-packages (from chromadb) (1.2.1)\n",
      "Requirement already satisfied: requests>=2.28 in /home/jps36r/.conda/envs/test_env/lib/python3.12/site-packages (from chromadb) (2.32.3)\n",
      "Requirement already satisfied: pydantic>=1.9 in /home/jps36r/.conda/envs/test_env/lib/python3.12/site-packages (from chromadb) (2.7.4)\n",
      "Requirement already satisfied: chroma-hnswlib==0.7.3 in /home/jps36r/.conda/envs/test_env/lib/python3.12/site-packages (from chromadb) (0.7.3)\n",
      "Requirement already satisfied: fastapi>=0.95.2 in /home/jps36r/.conda/envs/test_env/lib/python3.12/site-packages (from chromadb) (0.111.0)\n",
      "Requirement already satisfied: uvicorn>=0.18.3 in /home/jps36r/.conda/envs/test_env/lib/python3.12/site-packages (from uvicorn[standard]>=0.18.3->chromadb) (0.30.1)\n",
      "Requirement already satisfied: numpy<2.0.0,>=1.22.5 in /home/jps36r/.conda/envs/test_env/lib/python3.12/site-packages (from chromadb) (1.26.4)\n",
      "Requirement already satisfied: posthog>=2.4.0 in /home/jps36r/.conda/envs/test_env/lib/python3.12/site-packages (from chromadb) (3.5.0)\n",
      "Requirement already satisfied: typing-extensions>=4.5.0 in /home/jps36r/.conda/envs/test_env/lib/python3.12/site-packages (from chromadb) (4.12.2)\n",
      "Requirement already satisfied: onnxruntime>=1.14.1 in /home/jps36r/.conda/envs/test_env/lib/python3.12/site-packages (from chromadb) (1.18.0)\n",
      "Requirement already satisfied: opentelemetry-api>=1.2.0 in /home/jps36r/.conda/envs/test_env/lib/python3.12/site-packages (from chromadb) (1.25.0)\n",
      "Requirement already satisfied: opentelemetry-exporter-otlp-proto-grpc>=1.2.0 in /home/jps36r/.conda/envs/test_env/lib/python3.12/site-packages (from chromadb) (1.25.0)\n",
      "Requirement already satisfied: opentelemetry-instrumentation-fastapi>=0.41b0 in /home/jps36r/.conda/envs/test_env/lib/python3.12/site-packages (from chromadb) (0.46b0)\n",
      "Requirement already satisfied: opentelemetry-sdk>=1.2.0 in /home/jps36r/.conda/envs/test_env/lib/python3.12/site-packages (from chromadb) (1.25.0)\n",
      "Requirement already satisfied: tokenizers>=0.13.2 in /home/jps36r/.conda/envs/test_env/lib/python3.12/site-packages (from chromadb) (0.19.1)\n",
      "Requirement already satisfied: pypika>=0.48.9 in /home/jps36r/.conda/envs/test_env/lib/python3.12/site-packages (from chromadb) (0.48.9)\n",
      "Requirement already satisfied: tqdm>=4.65.0 in /home/jps36r/.conda/envs/test_env/lib/python3.12/site-packages (from chromadb) (4.66.4)\n",
      "Requirement already satisfied: overrides>=7.3.1 in /home/jps36r/.conda/envs/test_env/lib/python3.12/site-packages (from chromadb) (7.7.0)\n",
      "Requirement already satisfied: importlib-resources in /home/jps36r/.conda/envs/test_env/lib/python3.12/site-packages (from chromadb) (6.4.0)\n",
      "Requirement already satisfied: grpcio>=1.58.0 in /home/jps36r/.conda/envs/test_env/lib/python3.12/site-packages (from chromadb) (1.64.1)\n",
      "Requirement already satisfied: bcrypt>=4.0.1 in /home/jps36r/.conda/envs/test_env/lib/python3.12/site-packages (from chromadb) (4.1.3)\n",
      "Requirement already satisfied: typer>=0.9.0 in /home/jps36r/.conda/envs/test_env/lib/python3.12/site-packages (from chromadb) (0.12.3)\n",
      "Requirement already satisfied: kubernetes>=28.1.0 in /home/jps36r/.conda/envs/test_env/lib/python3.12/site-packages (from chromadb) (30.1.0)\n",
      "Requirement already satisfied: tenacity>=8.2.3 in /home/jps36r/.conda/envs/test_env/lib/python3.12/site-packages (from chromadb) (8.4.2)\n",
      "Requirement already satisfied: PyYAML>=6.0.0 in /home/jps36r/.conda/envs/test_env/lib/python3.12/site-packages (from chromadb) (6.0.1)\n",
      "Requirement already satisfied: mmh3>=4.0.1 in /home/jps36r/.conda/envs/test_env/lib/python3.12/site-packages (from chromadb) (4.1.0)\n",
      "Requirement already satisfied: orjson>=3.9.12 in /home/jps36r/.conda/envs/test_env/lib/python3.12/site-packages (from chromadb) (3.10.5)\n",
      "Requirement already satisfied: httpx>=0.27.0 in /home/jps36r/.conda/envs/test_env/lib/python3.12/site-packages (from chromadb) (0.27.0)\n",
      "Requirement already satisfied: packaging>=19.1 in /home/jps36r/.conda/envs/test_env/lib/python3.12/site-packages (from build>=1.0.3->chromadb) (24.1)\n",
      "Requirement already satisfied: pyproject_hooks in /home/jps36r/.conda/envs/test_env/lib/python3.12/site-packages (from build>=1.0.3->chromadb) (1.1.0)\n",
      "Requirement already satisfied: starlette<0.38.0,>=0.37.2 in /home/jps36r/.conda/envs/test_env/lib/python3.12/site-packages (from fastapi>=0.95.2->chromadb) (0.37.2)\n",
      "Requirement already satisfied: fastapi-cli>=0.0.2 in /home/jps36r/.conda/envs/test_env/lib/python3.12/site-packages (from fastapi>=0.95.2->chromadb) (0.0.4)\n",
      "Requirement already satisfied: jinja2>=2.11.2 in /home/jps36r/.conda/envs/test_env/lib/python3.12/site-packages (from fastapi>=0.95.2->chromadb) (3.1.4)\n",
      "Requirement already satisfied: python-multipart>=0.0.7 in /home/jps36r/.conda/envs/test_env/lib/python3.12/site-packages (from fastapi>=0.95.2->chromadb) (0.0.9)\n",
      "Requirement already satisfied: ujson!=4.0.2,!=4.1.0,!=4.2.0,!=4.3.0,!=5.0.0,!=5.1.0,>=4.0.1 in /home/jps36r/.conda/envs/test_env/lib/python3.12/site-packages (from fastapi>=0.95.2->chromadb) (5.10.0)\n",
      "Requirement already satisfied: email_validator>=2.0.0 in /home/jps36r/.conda/envs/test_env/lib/python3.12/site-packages (from fastapi>=0.95.2->chromadb) (2.2.0)\n",
      "Requirement already satisfied: anyio in /home/jps36r/.conda/envs/test_env/lib/python3.12/site-packages (from httpx>=0.27.0->chromadb) (4.4.0)\n",
      "Requirement already satisfied: certifi in /home/jps36r/.conda/envs/test_env/lib/python3.12/site-packages (from httpx>=0.27.0->chromadb) (2024.6.2)\n",
      "Requirement already satisfied: httpcore==1.* in /home/jps36r/.conda/envs/test_env/lib/python3.12/site-packages (from httpx>=0.27.0->chromadb) (1.0.5)\n",
      "Requirement already satisfied: idna in /home/jps36r/.conda/envs/test_env/lib/python3.12/site-packages (from httpx>=0.27.0->chromadb) (3.7)\n",
      "Requirement already satisfied: sniffio in /home/jps36r/.conda/envs/test_env/lib/python3.12/site-packages (from httpx>=0.27.0->chromadb) (1.3.1)\n",
      "Requirement already satisfied: h11<0.15,>=0.13 in /home/jps36r/.conda/envs/test_env/lib/python3.12/site-packages (from httpcore==1.*->httpx>=0.27.0->chromadb) (0.14.0)\n",
      "Requirement already satisfied: six>=1.9.0 in /home/jps36r/.conda/envs/test_env/lib/python3.12/site-packages (from kubernetes>=28.1.0->chromadb) (1.16.0)\n",
      "Requirement already satisfied: python-dateutil>=2.5.3 in /home/jps36r/.conda/envs/test_env/lib/python3.12/site-packages (from kubernetes>=28.1.0->chromadb) (2.9.0)\n",
      "Requirement already satisfied: google-auth>=1.0.1 in /home/jps36r/.conda/envs/test_env/lib/python3.12/site-packages (from kubernetes>=28.1.0->chromadb) (2.30.0)\n",
      "Requirement already satisfied: websocket-client!=0.40.0,!=0.41.*,!=0.42.*,>=0.32.0 in /home/jps36r/.conda/envs/test_env/lib/python3.12/site-packages (from kubernetes>=28.1.0->chromadb) (1.8.0)\n",
      "Requirement already satisfied: requests-oauthlib in /home/jps36r/.conda/envs/test_env/lib/python3.12/site-packages (from kubernetes>=28.1.0->chromadb) (2.0.0)\n",
      "Requirement already satisfied: oauthlib>=3.2.2 in /home/jps36r/.conda/envs/test_env/lib/python3.12/site-packages (from kubernetes>=28.1.0->chromadb) (3.2.2)\n",
      "Requirement already satisfied: urllib3>=1.24.2 in /home/jps36r/.conda/envs/test_env/lib/python3.12/site-packages (from kubernetes>=28.1.0->chromadb) (2.2.2)\n",
      "Requirement already satisfied: coloredlogs in /home/jps36r/.conda/envs/test_env/lib/python3.12/site-packages (from onnxruntime>=1.14.1->chromadb) (15.0.1)\n",
      "Requirement already satisfied: flatbuffers in /home/jps36r/.conda/envs/test_env/lib/python3.12/site-packages (from onnxruntime>=1.14.1->chromadb) (24.3.25)\n",
      "Requirement already satisfied: protobuf in /home/jps36r/.conda/envs/test_env/lib/python3.12/site-packages (from onnxruntime>=1.14.1->chromadb) (4.25.3)\n",
      "Requirement already satisfied: sympy in /home/jps36r/.conda/envs/test_env/lib/python3.12/site-packages (from onnxruntime>=1.14.1->chromadb) (1.12.1)\n",
      "Requirement already satisfied: deprecated>=1.2.6 in /home/jps36r/.conda/envs/test_env/lib/python3.12/site-packages (from opentelemetry-api>=1.2.0->chromadb) (1.2.14)\n",
      "Requirement already satisfied: importlib-metadata<=7.1,>=6.0 in /home/jps36r/.conda/envs/test_env/lib/python3.12/site-packages (from opentelemetry-api>=1.2.0->chromadb) (7.1.0)\n",
      "Requirement already satisfied: googleapis-common-protos~=1.52 in /home/jps36r/.conda/envs/test_env/lib/python3.12/site-packages (from opentelemetry-exporter-otlp-proto-grpc>=1.2.0->chromadb) (1.63.2)\n",
      "Requirement already satisfied: opentelemetry-exporter-otlp-proto-common==1.25.0 in /home/jps36r/.conda/envs/test_env/lib/python3.12/site-packages (from opentelemetry-exporter-otlp-proto-grpc>=1.2.0->chromadb) (1.25.0)\n",
      "Requirement already satisfied: opentelemetry-proto==1.25.0 in /home/jps36r/.conda/envs/test_env/lib/python3.12/site-packages (from opentelemetry-exporter-otlp-proto-grpc>=1.2.0->chromadb) (1.25.0)\n",
      "Requirement already satisfied: opentelemetry-instrumentation-asgi==0.46b0 in /home/jps36r/.conda/envs/test_env/lib/python3.12/site-packages (from opentelemetry-instrumentation-fastapi>=0.41b0->chromadb) (0.46b0)\n",
      "Requirement already satisfied: opentelemetry-instrumentation==0.46b0 in /home/jps36r/.conda/envs/test_env/lib/python3.12/site-packages (from opentelemetry-instrumentation-fastapi>=0.41b0->chromadb) (0.46b0)\n",
      "Requirement already satisfied: opentelemetry-semantic-conventions==0.46b0 in /home/jps36r/.conda/envs/test_env/lib/python3.12/site-packages (from opentelemetry-instrumentation-fastapi>=0.41b0->chromadb) (0.46b0)\n",
      "Requirement already satisfied: opentelemetry-util-http==0.46b0 in /home/jps36r/.conda/envs/test_env/lib/python3.12/site-packages (from opentelemetry-instrumentation-fastapi>=0.41b0->chromadb) (0.46b0)\n",
      "Requirement already satisfied: setuptools>=16.0 in /home/jps36r/.conda/envs/test_env/lib/python3.12/site-packages (from opentelemetry-instrumentation==0.46b0->opentelemetry-instrumentation-fastapi>=0.41b0->chromadb) (70.1.0)\n",
      "Requirement already satisfied: wrapt<2.0.0,>=1.0.0 in /home/jps36r/.conda/envs/test_env/lib/python3.12/site-packages (from opentelemetry-instrumentation==0.46b0->opentelemetry-instrumentation-fastapi>=0.41b0->chromadb) (1.16.0)\n",
      "Requirement already satisfied: asgiref~=3.0 in /home/jps36r/.conda/envs/test_env/lib/python3.12/site-packages (from opentelemetry-instrumentation-asgi==0.46b0->opentelemetry-instrumentation-fastapi>=0.41b0->chromadb) (3.8.1)\n",
      "Requirement already satisfied: monotonic>=1.5 in /home/jps36r/.conda/envs/test_env/lib/python3.12/site-packages (from posthog>=2.4.0->chromadb) (1.6)\n",
      "Requirement already satisfied: backoff>=1.10.0 in /home/jps36r/.conda/envs/test_env/lib/python3.12/site-packages (from posthog>=2.4.0->chromadb) (2.2.1)\n",
      "Requirement already satisfied: annotated-types>=0.4.0 in /home/jps36r/.conda/envs/test_env/lib/python3.12/site-packages (from pydantic>=1.9->chromadb) (0.7.0)\n",
      "Requirement already satisfied: pydantic-core==2.18.4 in /home/jps36r/.conda/envs/test_env/lib/python3.12/site-packages (from pydantic>=1.9->chromadb) (2.18.4)\n",
      "Requirement already satisfied: charset-normalizer<4,>=2 in /home/jps36r/.conda/envs/test_env/lib/python3.12/site-packages (from requests>=2.28->chromadb) (3.3.2)\n",
      "Requirement already satisfied: huggingface-hub<1.0,>=0.16.4 in /home/jps36r/.conda/envs/test_env/lib/python3.12/site-packages (from tokenizers>=0.13.2->chromadb) (0.23.4)\n",
      "Requirement already satisfied: click>=8.0.0 in /home/jps36r/.conda/envs/test_env/lib/python3.12/site-packages (from typer>=0.9.0->chromadb) (8.1.7)\n",
      "Requirement already satisfied: shellingham>=1.3.0 in /home/jps36r/.conda/envs/test_env/lib/python3.12/site-packages (from typer>=0.9.0->chromadb) (1.5.4)\n",
      "Requirement already satisfied: rich>=10.11.0 in /home/jps36r/.conda/envs/test_env/lib/python3.12/site-packages (from typer>=0.9.0->chromadb) (13.7.1)\n",
      "Requirement already satisfied: httptools>=0.5.0 in /home/jps36r/.conda/envs/test_env/lib/python3.12/site-packages (from uvicorn[standard]>=0.18.3->chromadb) (0.6.1)\n",
      "Requirement already satisfied: python-dotenv>=0.13 in /home/jps36r/.conda/envs/test_env/lib/python3.12/site-packages (from uvicorn[standard]>=0.18.3->chromadb) (1.0.1)\n",
      "Requirement already satisfied: uvloop!=0.15.0,!=0.15.1,>=0.14.0 in /home/jps36r/.conda/envs/test_env/lib/python3.12/site-packages (from uvicorn[standard]>=0.18.3->chromadb) (0.19.0)\n",
      "Requirement already satisfied: watchfiles>=0.13 in /home/jps36r/.conda/envs/test_env/lib/python3.12/site-packages (from uvicorn[standard]>=0.18.3->chromadb) (0.22.0)\n",
      "Requirement already satisfied: websockets>=10.4 in /home/jps36r/.conda/envs/test_env/lib/python3.12/site-packages (from uvicorn[standard]>=0.18.3->chromadb) (12.0)\n",
      "Requirement already satisfied: dnspython>=2.0.0 in /home/jps36r/.conda/envs/test_env/lib/python3.12/site-packages (from email_validator>=2.0.0->fastapi>=0.95.2->chromadb) (2.6.1)\n",
      "Requirement already satisfied: cachetools<6.0,>=2.0.0 in /home/jps36r/.conda/envs/test_env/lib/python3.12/site-packages (from google-auth>=1.0.1->kubernetes>=28.1.0->chromadb) (5.3.3)\n",
      "Requirement already satisfied: pyasn1-modules>=0.2.1 in /home/jps36r/.conda/envs/test_env/lib/python3.12/site-packages (from google-auth>=1.0.1->kubernetes>=28.1.0->chromadb) (0.4.0)\n",
      "Requirement already satisfied: rsa<5,>=3.1.4 in /home/jps36r/.conda/envs/test_env/lib/python3.12/site-packages (from google-auth>=1.0.1->kubernetes>=28.1.0->chromadb) (4.9)\n",
      "Requirement already satisfied: filelock in /home/jps36r/.conda/envs/test_env/lib/python3.12/site-packages (from huggingface-hub<1.0,>=0.16.4->tokenizers>=0.13.2->chromadb) (3.15.4)\n",
      "Requirement already satisfied: fsspec>=2023.5.0 in /home/jps36r/.conda/envs/test_env/lib/python3.12/site-packages (from huggingface-hub<1.0,>=0.16.4->tokenizers>=0.13.2->chromadb) (2024.5.0)\n",
      "Requirement already satisfied: zipp>=0.5 in /home/jps36r/.conda/envs/test_env/lib/python3.12/site-packages (from importlib-metadata<=7.1,>=6.0->opentelemetry-api>=1.2.0->chromadb) (3.19.2)\n",
      "Requirement already satisfied: MarkupSafe>=2.0 in /home/jps36r/.conda/envs/test_env/lib/python3.12/site-packages (from jinja2>=2.11.2->fastapi>=0.95.2->chromadb) (2.1.5)\n",
      "Requirement already satisfied: markdown-it-py>=2.2.0 in /home/jps36r/.conda/envs/test_env/lib/python3.12/site-packages (from rich>=10.11.0->typer>=0.9.0->chromadb) (3.0.0)\n",
      "Requirement already satisfied: pygments<3.0.0,>=2.13.0 in /home/jps36r/.conda/envs/test_env/lib/python3.12/site-packages (from rich>=10.11.0->typer>=0.9.0->chromadb) (2.18.0)\n",
      "Requirement already satisfied: humanfriendly>=9.1 in /home/jps36r/.conda/envs/test_env/lib/python3.12/site-packages (from coloredlogs->onnxruntime>=1.14.1->chromadb) (10.0)\n",
      "Requirement already satisfied: mpmath<1.4.0,>=1.1.0 in /home/jps36r/.conda/envs/test_env/lib/python3.12/site-packages (from sympy->onnxruntime>=1.14.1->chromadb) (1.3.0)\n",
      "Requirement already satisfied: mdurl~=0.1 in /home/jps36r/.conda/envs/test_env/lib/python3.12/site-packages (from markdown-it-py>=2.2.0->rich>=10.11.0->typer>=0.9.0->chromadb) (0.1.2)\n",
      "Requirement already satisfied: pyasn1<0.7.0,>=0.4.6 in /home/jps36r/.conda/envs/test_env/lib/python3.12/site-packages (from pyasn1-modules>=0.2.1->google-auth>=1.0.1->kubernetes>=28.1.0->chromadb) (0.6.0)\n",
      "^C\n",
      "\u001b[31mERROR: Operation cancelled by user\u001b[0m\u001b[31m\n",
      "\u001b[0mNote: you may need to restart the kernel to use updated packages.\n"
     ]
    },
    {
     "name": "stderr",
     "output_type": "stream",
     "text": [
      "huggingface/tokenizers: The current process just got forked, after parallelism has already been used. Disabling parallelism to avoid deadlocks...\n",
      "To disable this warning, you can either:\n",
      "\t- Avoid using `tokenizers` before the fork if possible\n",
      "\t- Explicitly set the environment variable TOKENIZERS_PARALLELISM=(true | false)\n"
     ]
    },
    {
     "name": "stdout",
     "output_type": "stream",
     "text": [
      "Requirement already satisfied: pymupdf in /home/jps36r/.conda/envs/test_env/lib/python3.12/site-packages (1.24.5)\n",
      "Requirement already satisfied: PyMuPDFb==1.24.3 in /home/jps36r/.conda/envs/test_env/lib/python3.12/site-packages (from pymupdf) (1.24.3)\n",
      "Note: you may need to restart the kernel to use updated packages.\n"
     ]
    },
    {
     "name": "stderr",
     "output_type": "stream",
     "text": [
      "huggingface/tokenizers: The current process just got forked, after parallelism has already been used. Disabling parallelism to avoid deadlocks...\n",
      "To disable this warning, you can either:\n",
      "\t- Avoid using `tokenizers` before the fork if possible\n",
      "\t- Explicitly set the environment variable TOKENIZERS_PARALLELISM=(true | false)\n"
     ]
    },
    {
     "name": "stdout",
     "output_type": "stream",
     "text": [
      "Looking in indexes: https://download.pytorch.org/whl/cu118\n",
      "Requirement already satisfied: torch in /home/jps36r/.conda/envs/test_env/lib/python3.12/site-packages (2.3.1+cu118)\n",
      "Requirement already satisfied: filelock in /home/jps36r/.conda/envs/test_env/lib/python3.12/site-packages (from torch) (3.15.4)\n",
      "Requirement already satisfied: typing-extensions>=4.8.0 in /home/jps36r/.conda/envs/test_env/lib/python3.12/site-packages (from torch) (4.12.2)\n",
      "Requirement already satisfied: sympy in /home/jps36r/.conda/envs/test_env/lib/python3.12/site-packages (from torch) (1.12.1)\n",
      "Requirement already satisfied: networkx in /home/jps36r/.conda/envs/test_env/lib/python3.12/site-packages (from torch) (3.2.1)\n",
      "Requirement already satisfied: jinja2 in /home/jps36r/.conda/envs/test_env/lib/python3.12/site-packages (from torch) (3.1.4)\n",
      "Requirement already satisfied: fsspec in /home/jps36r/.conda/envs/test_env/lib/python3.12/site-packages (from torch) (2024.5.0)\n",
      "Requirement already satisfied: nvidia-cuda-nvrtc-cu11==11.8.89 in /home/jps36r/.conda/envs/test_env/lib/python3.12/site-packages (from torch) (11.8.89)\n",
      "Requirement already satisfied: nvidia-cuda-runtime-cu11==11.8.89 in /home/jps36r/.conda/envs/test_env/lib/python3.12/site-packages (from torch) (11.8.89)\n",
      "Requirement already satisfied: nvidia-cuda-cupti-cu11==11.8.87 in /home/jps36r/.conda/envs/test_env/lib/python3.12/site-packages (from torch) (11.8.87)\n",
      "Requirement already satisfied: nvidia-cudnn-cu11==8.7.0.84 in /home/jps36r/.conda/envs/test_env/lib/python3.12/site-packages (from torch) (8.7.0.84)\n",
      "Requirement already satisfied: nvidia-cublas-cu11==11.11.3.6 in /home/jps36r/.conda/envs/test_env/lib/python3.12/site-packages (from torch) (11.11.3.6)\n",
      "Requirement already satisfied: nvidia-cufft-cu11==10.9.0.58 in /home/jps36r/.conda/envs/test_env/lib/python3.12/site-packages (from torch) (10.9.0.58)\n",
      "Requirement already satisfied: nvidia-curand-cu11==10.3.0.86 in /home/jps36r/.conda/envs/test_env/lib/python3.12/site-packages (from torch) (10.3.0.86)\n",
      "Requirement already satisfied: nvidia-cusolver-cu11==11.4.1.48 in /home/jps36r/.conda/envs/test_env/lib/python3.12/site-packages (from torch) (11.4.1.48)\n",
      "Requirement already satisfied: nvidia-cusparse-cu11==11.7.5.86 in /home/jps36r/.conda/envs/test_env/lib/python3.12/site-packages (from torch) (11.7.5.86)\n",
      "Requirement already satisfied: nvidia-nccl-cu11==2.20.5 in /home/jps36r/.conda/envs/test_env/lib/python3.12/site-packages (from torch) (2.20.5)\n",
      "Requirement already satisfied: nvidia-nvtx-cu11==11.8.86 in /home/jps36r/.conda/envs/test_env/lib/python3.12/site-packages (from torch) (11.8.86)\n",
      "Requirement already satisfied: MarkupSafe>=2.0 in /home/jps36r/.conda/envs/test_env/lib/python3.12/site-packages (from jinja2->torch) (2.1.5)\n",
      "Requirement already satisfied: mpmath<1.4.0,>=1.1.0 in /home/jps36r/.conda/envs/test_env/lib/python3.12/site-packages (from sympy->torch) (1.3.0)\n",
      "Note: you may need to restart the kernel to use updated packages.\n"
     ]
    },
    {
     "name": "stderr",
     "output_type": "stream",
     "text": [
      "huggingface/tokenizers: The current process just got forked, after parallelism has already been used. Disabling parallelism to avoid deadlocks...\n",
      "To disable this warning, you can either:\n",
      "\t- Avoid using `tokenizers` before the fork if possible\n",
      "\t- Explicitly set the environment variable TOKENIZERS_PARALLELISM=(true | false)\n"
     ]
    },
    {
     "name": "stdout",
     "output_type": "stream",
     "text": [
      "Requirement already satisfied: bitsandbytes in /home/jps36r/.conda/envs/test_env/lib/python3.12/site-packages (0.43.1)\n",
      "Requirement already satisfied: torch in /home/jps36r/.conda/envs/test_env/lib/python3.12/site-packages (from bitsandbytes) (2.3.1+cu118)\n",
      "Requirement already satisfied: numpy in /home/jps36r/.conda/envs/test_env/lib/python3.12/site-packages (from bitsandbytes) (1.26.4)\n",
      "Requirement already satisfied: filelock in /home/jps36r/.conda/envs/test_env/lib/python3.12/site-packages (from torch->bitsandbytes) (3.15.4)\n",
      "Requirement already satisfied: typing-extensions>=4.8.0 in /home/jps36r/.conda/envs/test_env/lib/python3.12/site-packages (from torch->bitsandbytes) (4.12.2)\n",
      "Requirement already satisfied: sympy in /home/jps36r/.conda/envs/test_env/lib/python3.12/site-packages (from torch->bitsandbytes) (1.12.1)\n",
      "Requirement already satisfied: networkx in /home/jps36r/.conda/envs/test_env/lib/python3.12/site-packages (from torch->bitsandbytes) (3.2.1)\n",
      "Requirement already satisfied: jinja2 in /home/jps36r/.conda/envs/test_env/lib/python3.12/site-packages (from torch->bitsandbytes) (3.1.4)\n",
      "Requirement already satisfied: fsspec in /home/jps36r/.conda/envs/test_env/lib/python3.12/site-packages (from torch->bitsandbytes) (2024.5.0)\n",
      "Requirement already satisfied: nvidia-cuda-nvrtc-cu11==11.8.89 in /home/jps36r/.conda/envs/test_env/lib/python3.12/site-packages (from torch->bitsandbytes) (11.8.89)\n",
      "Requirement already satisfied: nvidia-cuda-runtime-cu11==11.8.89 in /home/jps36r/.conda/envs/test_env/lib/python3.12/site-packages (from torch->bitsandbytes) (11.8.89)\n",
      "Requirement already satisfied: nvidia-cuda-cupti-cu11==11.8.87 in /home/jps36r/.conda/envs/test_env/lib/python3.12/site-packages (from torch->bitsandbytes) (11.8.87)\n",
      "Requirement already satisfied: nvidia-cudnn-cu11==8.7.0.84 in /home/jps36r/.conda/envs/test_env/lib/python3.12/site-packages (from torch->bitsandbytes) (8.7.0.84)\n",
      "Requirement already satisfied: nvidia-cublas-cu11==11.11.3.6 in /home/jps36r/.conda/envs/test_env/lib/python3.12/site-packages (from torch->bitsandbytes) (11.11.3.6)\n",
      "Requirement already satisfied: nvidia-cufft-cu11==10.9.0.58 in /home/jps36r/.conda/envs/test_env/lib/python3.12/site-packages (from torch->bitsandbytes) (10.9.0.58)\n",
      "Requirement already satisfied: nvidia-curand-cu11==10.3.0.86 in /home/jps36r/.conda/envs/test_env/lib/python3.12/site-packages (from torch->bitsandbytes) (10.3.0.86)\n",
      "Requirement already satisfied: nvidia-cusolver-cu11==11.4.1.48 in /home/jps36r/.conda/envs/test_env/lib/python3.12/site-packages (from torch->bitsandbytes) (11.4.1.48)\n",
      "Requirement already satisfied: nvidia-cusparse-cu11==11.7.5.86 in /home/jps36r/.conda/envs/test_env/lib/python3.12/site-packages (from torch->bitsandbytes) (11.7.5.86)\n",
      "Requirement already satisfied: nvidia-nccl-cu11==2.20.5 in /home/jps36r/.conda/envs/test_env/lib/python3.12/site-packages (from torch->bitsandbytes) (2.20.5)\n",
      "Requirement already satisfied: nvidia-nvtx-cu11==11.8.86 in /home/jps36r/.conda/envs/test_env/lib/python3.12/site-packages (from torch->bitsandbytes) (11.8.86)\n",
      "Requirement already satisfied: MarkupSafe>=2.0 in /home/jps36r/.conda/envs/test_env/lib/python3.12/site-packages (from jinja2->torch->bitsandbytes) (2.1.5)\n",
      "Requirement already satisfied: mpmath<1.4.0,>=1.1.0 in /home/jps36r/.conda/envs/test_env/lib/python3.12/site-packages (from sympy->torch->bitsandbytes) (1.3.0)\n",
      "Note: you may need to restart the kernel to use updated packages.\n"
     ]
    },
    {
     "name": "stderr",
     "output_type": "stream",
     "text": [
      "huggingface/tokenizers: The current process just got forked, after parallelism has already been used. Disabling parallelism to avoid deadlocks...\n",
      "To disable this warning, you can either:\n",
      "\t- Avoid using `tokenizers` before the fork if possible\n",
      "\t- Explicitly set the environment variable TOKENIZERS_PARALLELISM=(true | false)\n"
     ]
    },
    {
     "name": "stdout",
     "output_type": "stream",
     "text": [
      "Requirement already satisfied: peft in /home/jps36r/.conda/envs/test_env/lib/python3.12/site-packages (0.11.1)\n",
      "Requirement already satisfied: numpy>=1.17 in /home/jps36r/.conda/envs/test_env/lib/python3.12/site-packages (from peft) (1.26.4)\n",
      "Requirement already satisfied: packaging>=20.0 in /home/jps36r/.conda/envs/test_env/lib/python3.12/site-packages (from peft) (24.1)\n",
      "Requirement already satisfied: psutil in /home/jps36r/.conda/envs/test_env/lib/python3.12/site-packages (from peft) (5.9.8)\n",
      "Requirement already satisfied: pyyaml in /home/jps36r/.conda/envs/test_env/lib/python3.12/site-packages (from peft) (6.0.1)\n",
      "Requirement already satisfied: torch>=1.13.0 in /home/jps36r/.conda/envs/test_env/lib/python3.12/site-packages (from peft) (2.3.1+cu118)\n",
      "Requirement already satisfied: transformers in /home/jps36r/.conda/envs/test_env/lib/python3.12/site-packages (from peft) (4.42.3)\n",
      "Requirement already satisfied: tqdm in /home/jps36r/.conda/envs/test_env/lib/python3.12/site-packages (from peft) (4.66.4)\n",
      "Requirement already satisfied: accelerate>=0.21.0 in /home/jps36r/.conda/envs/test_env/lib/python3.12/site-packages (from peft) (0.31.0)\n",
      "Requirement already satisfied: safetensors in /home/jps36r/.conda/envs/test_env/lib/python3.12/site-packages (from peft) (0.4.3)\n",
      "Requirement already satisfied: huggingface-hub>=0.17.0 in /home/jps36r/.conda/envs/test_env/lib/python3.12/site-packages (from peft) (0.23.4)\n",
      "Requirement already satisfied: filelock in /home/jps36r/.conda/envs/test_env/lib/python3.12/site-packages (from huggingface-hub>=0.17.0->peft) (3.15.4)\n",
      "Requirement already satisfied: fsspec>=2023.5.0 in /home/jps36r/.conda/envs/test_env/lib/python3.12/site-packages (from huggingface-hub>=0.17.0->peft) (2024.5.0)\n",
      "Requirement already satisfied: requests in /home/jps36r/.conda/envs/test_env/lib/python3.12/site-packages (from huggingface-hub>=0.17.0->peft) (2.32.3)\n",
      "Requirement already satisfied: typing-extensions>=3.7.4.3 in /home/jps36r/.conda/envs/test_env/lib/python3.12/site-packages (from huggingface-hub>=0.17.0->peft) (4.12.2)\n",
      "Requirement already satisfied: sympy in /home/jps36r/.conda/envs/test_env/lib/python3.12/site-packages (from torch>=1.13.0->peft) (1.12.1)\n",
      "Requirement already satisfied: networkx in /home/jps36r/.conda/envs/test_env/lib/python3.12/site-packages (from torch>=1.13.0->peft) (3.2.1)\n",
      "Requirement already satisfied: jinja2 in /home/jps36r/.conda/envs/test_env/lib/python3.12/site-packages (from torch>=1.13.0->peft) (3.1.4)\n",
      "Requirement already satisfied: nvidia-cuda-nvrtc-cu11==11.8.89 in /home/jps36r/.conda/envs/test_env/lib/python3.12/site-packages (from torch>=1.13.0->peft) (11.8.89)\n",
      "Requirement already satisfied: nvidia-cuda-runtime-cu11==11.8.89 in /home/jps36r/.conda/envs/test_env/lib/python3.12/site-packages (from torch>=1.13.0->peft) (11.8.89)\n",
      "Requirement already satisfied: nvidia-cuda-cupti-cu11==11.8.87 in /home/jps36r/.conda/envs/test_env/lib/python3.12/site-packages (from torch>=1.13.0->peft) (11.8.87)\n",
      "Requirement already satisfied: nvidia-cudnn-cu11==8.7.0.84 in /home/jps36r/.conda/envs/test_env/lib/python3.12/site-packages (from torch>=1.13.0->peft) (8.7.0.84)\n",
      "Requirement already satisfied: nvidia-cublas-cu11==11.11.3.6 in /home/jps36r/.conda/envs/test_env/lib/python3.12/site-packages (from torch>=1.13.0->peft) (11.11.3.6)\n",
      "Requirement already satisfied: nvidia-cufft-cu11==10.9.0.58 in /home/jps36r/.conda/envs/test_env/lib/python3.12/site-packages (from torch>=1.13.0->peft) (10.9.0.58)\n",
      "Requirement already satisfied: nvidia-curand-cu11==10.3.0.86 in /home/jps36r/.conda/envs/test_env/lib/python3.12/site-packages (from torch>=1.13.0->peft) (10.3.0.86)\n",
      "Requirement already satisfied: nvidia-cusolver-cu11==11.4.1.48 in /home/jps36r/.conda/envs/test_env/lib/python3.12/site-packages (from torch>=1.13.0->peft) (11.4.1.48)\n",
      "Requirement already satisfied: nvidia-cusparse-cu11==11.7.5.86 in /home/jps36r/.conda/envs/test_env/lib/python3.12/site-packages (from torch>=1.13.0->peft) (11.7.5.86)\n",
      "Requirement already satisfied: nvidia-nccl-cu11==2.20.5 in /home/jps36r/.conda/envs/test_env/lib/python3.12/site-packages (from torch>=1.13.0->peft) (2.20.5)\n",
      "Requirement already satisfied: nvidia-nvtx-cu11==11.8.86 in /home/jps36r/.conda/envs/test_env/lib/python3.12/site-packages (from torch>=1.13.0->peft) (11.8.86)\n",
      "Requirement already satisfied: regex!=2019.12.17 in /home/jps36r/.conda/envs/test_env/lib/python3.12/site-packages (from transformers->peft) (2024.5.15)\n",
      "Requirement already satisfied: tokenizers<0.20,>=0.19 in /home/jps36r/.conda/envs/test_env/lib/python3.12/site-packages (from transformers->peft) (0.19.1)\n",
      "Requirement already satisfied: MarkupSafe>=2.0 in /home/jps36r/.conda/envs/test_env/lib/python3.12/site-packages (from jinja2->torch>=1.13.0->peft) (2.1.5)\n",
      "Requirement already satisfied: charset-normalizer<4,>=2 in /home/jps36r/.conda/envs/test_env/lib/python3.12/site-packages (from requests->huggingface-hub>=0.17.0->peft) (3.3.2)\n",
      "Requirement already satisfied: idna<4,>=2.5 in /home/jps36r/.conda/envs/test_env/lib/python3.12/site-packages (from requests->huggingface-hub>=0.17.0->peft) (3.7)\n",
      "Requirement already satisfied: urllib3<3,>=1.21.1 in /home/jps36r/.conda/envs/test_env/lib/python3.12/site-packages (from requests->huggingface-hub>=0.17.0->peft) (2.2.2)\n",
      "Requirement already satisfied: certifi>=2017.4.17 in /home/jps36r/.conda/envs/test_env/lib/python3.12/site-packages (from requests->huggingface-hub>=0.17.0->peft) (2024.6.2)\n",
      "Requirement already satisfied: mpmath<1.4.0,>=1.1.0 in /home/jps36r/.conda/envs/test_env/lib/python3.12/site-packages (from sympy->torch>=1.13.0->peft) (1.3.0)\n",
      "Note: you may need to restart the kernel to use updated packages.\n"
     ]
    },
    {
     "name": "stderr",
     "output_type": "stream",
     "text": [
      "huggingface/tokenizers: The current process just got forked, after parallelism has already been used. Disabling parallelism to avoid deadlocks...\n",
      "To disable this warning, you can either:\n",
      "\t- Avoid using `tokenizers` before the fork if possible\n",
      "\t- Explicitly set the environment variable TOKENIZERS_PARALLELISM=(true | false)\n"
     ]
    },
    {
     "name": "stdout",
     "output_type": "stream",
     "text": [
      "Requirement already satisfied: accelerate in /home/jps36r/.conda/envs/test_env/lib/python3.12/site-packages (0.31.0)\n",
      "Requirement already satisfied: numpy>=1.17 in /home/jps36r/.conda/envs/test_env/lib/python3.12/site-packages (from accelerate) (1.26.4)\n",
      "Requirement already satisfied: packaging>=20.0 in /home/jps36r/.conda/envs/test_env/lib/python3.12/site-packages (from accelerate) (24.1)\n",
      "Requirement already satisfied: psutil in /home/jps36r/.conda/envs/test_env/lib/python3.12/site-packages (from accelerate) (5.9.8)\n",
      "Requirement already satisfied: pyyaml in /home/jps36r/.conda/envs/test_env/lib/python3.12/site-packages (from accelerate) (6.0.1)\n",
      "Requirement already satisfied: torch>=1.10.0 in /home/jps36r/.conda/envs/test_env/lib/python3.12/site-packages (from accelerate) (2.3.1+cu118)\n",
      "Requirement already satisfied: huggingface-hub in /home/jps36r/.conda/envs/test_env/lib/python3.12/site-packages (from accelerate) (0.23.4)\n",
      "Requirement already satisfied: safetensors>=0.3.1 in /home/jps36r/.conda/envs/test_env/lib/python3.12/site-packages (from accelerate) (0.4.3)\n",
      "Requirement already satisfied: filelock in /home/jps36r/.conda/envs/test_env/lib/python3.12/site-packages (from torch>=1.10.0->accelerate) (3.15.4)\n",
      "Requirement already satisfied: typing-extensions>=4.8.0 in /home/jps36r/.conda/envs/test_env/lib/python3.12/site-packages (from torch>=1.10.0->accelerate) (4.12.2)\n",
      "Requirement already satisfied: sympy in /home/jps36r/.conda/envs/test_env/lib/python3.12/site-packages (from torch>=1.10.0->accelerate) (1.12.1)\n",
      "Requirement already satisfied: networkx in /home/jps36r/.conda/envs/test_env/lib/python3.12/site-packages (from torch>=1.10.0->accelerate) (3.2.1)\n",
      "Requirement already satisfied: jinja2 in /home/jps36r/.conda/envs/test_env/lib/python3.12/site-packages (from torch>=1.10.0->accelerate) (3.1.4)\n",
      "Requirement already satisfied: fsspec in /home/jps36r/.conda/envs/test_env/lib/python3.12/site-packages (from torch>=1.10.0->accelerate) (2024.5.0)\n",
      "Requirement already satisfied: nvidia-cuda-nvrtc-cu11==11.8.89 in /home/jps36r/.conda/envs/test_env/lib/python3.12/site-packages (from torch>=1.10.0->accelerate) (11.8.89)\n",
      "Requirement already satisfied: nvidia-cuda-runtime-cu11==11.8.89 in /home/jps36r/.conda/envs/test_env/lib/python3.12/site-packages (from torch>=1.10.0->accelerate) (11.8.89)\n",
      "Requirement already satisfied: nvidia-cuda-cupti-cu11==11.8.87 in /home/jps36r/.conda/envs/test_env/lib/python3.12/site-packages (from torch>=1.10.0->accelerate) (11.8.87)\n",
      "Requirement already satisfied: nvidia-cudnn-cu11==8.7.0.84 in /home/jps36r/.conda/envs/test_env/lib/python3.12/site-packages (from torch>=1.10.0->accelerate) (8.7.0.84)\n",
      "Requirement already satisfied: nvidia-cublas-cu11==11.11.3.6 in /home/jps36r/.conda/envs/test_env/lib/python3.12/site-packages (from torch>=1.10.0->accelerate) (11.11.3.6)\n",
      "Requirement already satisfied: nvidia-cufft-cu11==10.9.0.58 in /home/jps36r/.conda/envs/test_env/lib/python3.12/site-packages (from torch>=1.10.0->accelerate) (10.9.0.58)\n",
      "Requirement already satisfied: nvidia-curand-cu11==10.3.0.86 in /home/jps36r/.conda/envs/test_env/lib/python3.12/site-packages (from torch>=1.10.0->accelerate) (10.3.0.86)\n",
      "Requirement already satisfied: nvidia-cusolver-cu11==11.4.1.48 in /home/jps36r/.conda/envs/test_env/lib/python3.12/site-packages (from torch>=1.10.0->accelerate) (11.4.1.48)\n",
      "Requirement already satisfied: nvidia-cusparse-cu11==11.7.5.86 in /home/jps36r/.conda/envs/test_env/lib/python3.12/site-packages (from torch>=1.10.0->accelerate) (11.7.5.86)\n",
      "Requirement already satisfied: nvidia-nccl-cu11==2.20.5 in /home/jps36r/.conda/envs/test_env/lib/python3.12/site-packages (from torch>=1.10.0->accelerate) (2.20.5)\n",
      "Requirement already satisfied: nvidia-nvtx-cu11==11.8.86 in /home/jps36r/.conda/envs/test_env/lib/python3.12/site-packages (from torch>=1.10.0->accelerate) (11.8.86)\n",
      "Requirement already satisfied: requests in /home/jps36r/.conda/envs/test_env/lib/python3.12/site-packages (from huggingface-hub->accelerate) (2.32.3)\n",
      "Requirement already satisfied: tqdm>=4.42.1 in /home/jps36r/.conda/envs/test_env/lib/python3.12/site-packages (from huggingface-hub->accelerate) (4.66.4)\n",
      "Requirement already satisfied: MarkupSafe>=2.0 in /home/jps36r/.conda/envs/test_env/lib/python3.12/site-packages (from jinja2->torch>=1.10.0->accelerate) (2.1.5)\n",
      "Requirement already satisfied: charset-normalizer<4,>=2 in /home/jps36r/.conda/envs/test_env/lib/python3.12/site-packages (from requests->huggingface-hub->accelerate) (3.3.2)\n",
      "Requirement already satisfied: idna<4,>=2.5 in /home/jps36r/.conda/envs/test_env/lib/python3.12/site-packages (from requests->huggingface-hub->accelerate) (3.7)\n",
      "Requirement already satisfied: urllib3<3,>=1.21.1 in /home/jps36r/.conda/envs/test_env/lib/python3.12/site-packages (from requests->huggingface-hub->accelerate) (2.2.2)\n",
      "Requirement already satisfied: certifi>=2017.4.17 in /home/jps36r/.conda/envs/test_env/lib/python3.12/site-packages (from requests->huggingface-hub->accelerate) (2024.6.2)\n",
      "Requirement already satisfied: mpmath<1.4.0,>=1.1.0 in /home/jps36r/.conda/envs/test_env/lib/python3.12/site-packages (from sympy->torch>=1.10.0->accelerate) (1.3.0)\n",
      "Note: you may need to restart the kernel to use updated packages.\n"
     ]
    },
    {
     "name": "stderr",
     "output_type": "stream",
     "text": [
      "huggingface/tokenizers: The current process just got forked, after parallelism has already been used. Disabling parallelism to avoid deadlocks...\n",
      "To disable this warning, you can either:\n",
      "\t- Avoid using `tokenizers` before the fork if possible\n",
      "\t- Explicitly set the environment variable TOKENIZERS_PARALLELISM=(true | false)\n"
     ]
    },
    {
     "name": "stdout",
     "output_type": "stream",
     "text": [
      "Requirement already satisfied: datasets in /home/jps36r/.conda/envs/test_env/lib/python3.12/site-packages (2.20.0)\n",
      "Requirement already satisfied: filelock in /home/jps36r/.conda/envs/test_env/lib/python3.12/site-packages (from datasets) (3.15.4)\n",
      "Requirement already satisfied: numpy>=1.17 in /home/jps36r/.conda/envs/test_env/lib/python3.12/site-packages (from datasets) (1.26.4)\n",
      "Requirement already satisfied: pyarrow>=15.0.0 in /home/jps36r/.conda/envs/test_env/lib/python3.12/site-packages (from datasets) (16.1.0)\n",
      "Requirement already satisfied: pyarrow-hotfix in /home/jps36r/.conda/envs/test_env/lib/python3.12/site-packages (from datasets) (0.6)\n",
      "Requirement already satisfied: dill<0.3.9,>=0.3.0 in /home/jps36r/.conda/envs/test_env/lib/python3.12/site-packages (from datasets) (0.3.8)\n",
      "Requirement already satisfied: pandas in /home/jps36r/.conda/envs/test_env/lib/python3.12/site-packages (from datasets) (2.2.2)\n",
      "Requirement already satisfied: requests>=2.32.2 in /home/jps36r/.conda/envs/test_env/lib/python3.12/site-packages (from datasets) (2.32.3)\n",
      "Requirement already satisfied: tqdm>=4.66.3 in /home/jps36r/.conda/envs/test_env/lib/python3.12/site-packages (from datasets) (4.66.4)\n",
      "Requirement already satisfied: xxhash in /home/jps36r/.conda/envs/test_env/lib/python3.12/site-packages (from datasets) (3.4.1)\n",
      "Requirement already satisfied: multiprocess in /home/jps36r/.conda/envs/test_env/lib/python3.12/site-packages (from datasets) (0.70.16)\n",
      "Requirement already satisfied: fsspec<=2024.5.0,>=2023.1.0 in /home/jps36r/.conda/envs/test_env/lib/python3.12/site-packages (from fsspec[http]<=2024.5.0,>=2023.1.0->datasets) (2024.5.0)\n",
      "Requirement already satisfied: aiohttp in /home/jps36r/.conda/envs/test_env/lib/python3.12/site-packages (from datasets) (3.9.5)\n",
      "Requirement already satisfied: huggingface-hub>=0.21.2 in /home/jps36r/.conda/envs/test_env/lib/python3.12/site-packages (from datasets) (0.23.4)\n",
      "Requirement already satisfied: packaging in /home/jps36r/.conda/envs/test_env/lib/python3.12/site-packages (from datasets) (24.1)\n",
      "Requirement already satisfied: pyyaml>=5.1 in /home/jps36r/.conda/envs/test_env/lib/python3.12/site-packages (from datasets) (6.0.1)\n",
      "Requirement already satisfied: aiosignal>=1.1.2 in /home/jps36r/.conda/envs/test_env/lib/python3.12/site-packages (from aiohttp->datasets) (1.3.1)\n",
      "Requirement already satisfied: attrs>=17.3.0 in /home/jps36r/.conda/envs/test_env/lib/python3.12/site-packages (from aiohttp->datasets) (23.2.0)\n",
      "Requirement already satisfied: frozenlist>=1.1.1 in /home/jps36r/.conda/envs/test_env/lib/python3.12/site-packages (from aiohttp->datasets) (1.4.1)\n",
      "Requirement already satisfied: multidict<7.0,>=4.5 in /home/jps36r/.conda/envs/test_env/lib/python3.12/site-packages (from aiohttp->datasets) (6.0.5)\n",
      "Requirement already satisfied: yarl<2.0,>=1.0 in /home/jps36r/.conda/envs/test_env/lib/python3.12/site-packages (from aiohttp->datasets) (1.9.4)\n",
      "Requirement already satisfied: typing-extensions>=3.7.4.3 in /home/jps36r/.conda/envs/test_env/lib/python3.12/site-packages (from huggingface-hub>=0.21.2->datasets) (4.12.2)\n",
      "Requirement already satisfied: charset-normalizer<4,>=2 in /home/jps36r/.conda/envs/test_env/lib/python3.12/site-packages (from requests>=2.32.2->datasets) (3.3.2)\n",
      "Requirement already satisfied: idna<4,>=2.5 in /home/jps36r/.conda/envs/test_env/lib/python3.12/site-packages (from requests>=2.32.2->datasets) (3.7)\n",
      "Requirement already satisfied: urllib3<3,>=1.21.1 in /home/jps36r/.conda/envs/test_env/lib/python3.12/site-packages (from requests>=2.32.2->datasets) (2.2.2)\n",
      "Requirement already satisfied: certifi>=2017.4.17 in /home/jps36r/.conda/envs/test_env/lib/python3.12/site-packages (from requests>=2.32.2->datasets) (2024.6.2)\n",
      "Requirement already satisfied: python-dateutil>=2.8.2 in /home/jps36r/.conda/envs/test_env/lib/python3.12/site-packages (from pandas->datasets) (2.9.0)\n",
      "Requirement already satisfied: pytz>=2020.1 in /home/jps36r/.conda/envs/test_env/lib/python3.12/site-packages (from pandas->datasets) (2024.1)\n",
      "Requirement already satisfied: tzdata>=2022.7 in /home/jps36r/.conda/envs/test_env/lib/python3.12/site-packages (from pandas->datasets) (2024.1)\n",
      "Requirement already satisfied: six>=1.5 in /home/jps36r/.conda/envs/test_env/lib/python3.12/site-packages (from python-dateutil>=2.8.2->pandas->datasets) (1.16.0)\n",
      "Note: you may need to restart the kernel to use updated packages.\n"
     ]
    },
    {
     "name": "stderr",
     "output_type": "stream",
     "text": [
      "huggingface/tokenizers: The current process just got forked, after parallelism has already been used. Disabling parallelism to avoid deadlocks...\n",
      "To disable this warning, you can either:\n",
      "\t- Avoid using `tokenizers` before the fork if possible\n",
      "\t- Explicitly set the environment variable TOKENIZERS_PARALLELISM=(true | false)\n"
     ]
    },
    {
     "name": "stdout",
     "output_type": "stream",
     "text": [
      "Requirement already satisfied: transformers in /home/jps36r/.conda/envs/test_env/lib/python3.12/site-packages (4.42.3)\n",
      "Requirement already satisfied: filelock in /home/jps36r/.conda/envs/test_env/lib/python3.12/site-packages (from transformers) (3.15.4)\n",
      "Requirement already satisfied: huggingface-hub<1.0,>=0.23.2 in /home/jps36r/.conda/envs/test_env/lib/python3.12/site-packages (from transformers) (0.23.4)\n",
      "Requirement already satisfied: numpy<2.0,>=1.17 in /home/jps36r/.conda/envs/test_env/lib/python3.12/site-packages (from transformers) (1.26.4)\n",
      "Requirement already satisfied: packaging>=20.0 in /home/jps36r/.conda/envs/test_env/lib/python3.12/site-packages (from transformers) (24.1)\n",
      "Requirement already satisfied: pyyaml>=5.1 in /home/jps36r/.conda/envs/test_env/lib/python3.12/site-packages (from transformers) (6.0.1)\n",
      "Requirement already satisfied: regex!=2019.12.17 in /home/jps36r/.conda/envs/test_env/lib/python3.12/site-packages (from transformers) (2024.5.15)\n",
      "Requirement already satisfied: requests in /home/jps36r/.conda/envs/test_env/lib/python3.12/site-packages (from transformers) (2.32.3)\n",
      "Requirement already satisfied: safetensors>=0.4.1 in /home/jps36r/.conda/envs/test_env/lib/python3.12/site-packages (from transformers) (0.4.3)\n",
      "Requirement already satisfied: tokenizers<0.20,>=0.19 in /home/jps36r/.conda/envs/test_env/lib/python3.12/site-packages (from transformers) (0.19.1)\n",
      "Requirement already satisfied: tqdm>=4.27 in /home/jps36r/.conda/envs/test_env/lib/python3.12/site-packages (from transformers) (4.66.4)\n",
      "Requirement already satisfied: fsspec>=2023.5.0 in /home/jps36r/.conda/envs/test_env/lib/python3.12/site-packages (from huggingface-hub<1.0,>=0.23.2->transformers) (2024.5.0)\n",
      "Requirement already satisfied: typing-extensions>=3.7.4.3 in /home/jps36r/.conda/envs/test_env/lib/python3.12/site-packages (from huggingface-hub<1.0,>=0.23.2->transformers) (4.12.2)\n",
      "Requirement already satisfied: charset-normalizer<4,>=2 in /home/jps36r/.conda/envs/test_env/lib/python3.12/site-packages (from requests->transformers) (3.3.2)\n",
      "Requirement already satisfied: idna<4,>=2.5 in /home/jps36r/.conda/envs/test_env/lib/python3.12/site-packages (from requests->transformers) (3.7)\n",
      "Requirement already satisfied: urllib3<3,>=1.21.1 in /home/jps36r/.conda/envs/test_env/lib/python3.12/site-packages (from requests->transformers) (2.2.2)\n",
      "Requirement already satisfied: certifi>=2017.4.17 in /home/jps36r/.conda/envs/test_env/lib/python3.12/site-packages (from requests->transformers) (2024.6.2)\n",
      "Note: you may need to restart the kernel to use updated packages.\n"
     ]
    }
   ],
   "source": [
    "\n",
    "%pip install dspy-ai\n",
    "\n",
    "%pip install ipywidgets\n",
    "\n",
    "%pip install python-dotenv\n",
    "\n",
    "%pip install chromadb \n",
    "%pip install pymupdf\n",
    "\n",
    "%pip install torch --index-url https://download.pytorch.org/whl/cu118\n",
    "\n",
    "%pip install bitsandbytes\n",
    "\n",
    "%pip install peft\n",
    "\n",
    "%pip install accelerate\n",
    "\n",
    "%pip install datasets\n",
    "\n",
    "%pip install transformers\n",
    "\n",
    "\n",
    "\n"
   ]
  },
  {
   "cell_type": "code",
   "execution_count": 1,
   "metadata": {},
   "outputs": [
    {
     "name": "stdout",
     "output_type": "stream",
     "text": [
      "True\n"
     ]
    }
   ],
   "source": [
    "import torch\n",
    " \n",
    "cuda_available = torch.cuda.is_available()\n",
    "print(cuda_available)"
   ]
  },
  {
   "cell_type": "code",
   "execution_count": 2,
   "metadata": {},
   "outputs": [
    {
     "data": {
      "text/plain": [
       "True"
      ]
     },
     "execution_count": 2,
     "metadata": {},
     "output_type": "execute_result"
    }
   ],
   "source": [
    "from dotenv import load_dotenv\n",
    "load_dotenv(override=True)"
   ]
  },
  {
   "cell_type": "code",
   "execution_count": 3,
   "metadata": {},
   "outputs": [],
   "source": [
    "import dspy\n",
    "from openai import OpenAI\n",
    "from dspy.retrieve.chromadb_rm import ChromadbRM\n",
    "from chromadb.utils import embedding_functions\n",
    "import chromadb"
   ]
  },
  {
   "cell_type": "code",
   "execution_count": 4,
   "metadata": {},
   "outputs": [
    {
     "data": {
      "application/vnd.jupyter.widget-view+json": {
       "model_id": "77371871d00b41069595fc633c0e1116",
       "version_major": 2,
       "version_minor": 0
      },
      "text/plain": [
       "Loading checkpoint shards:   0%|          | 0/12 [00:00<?, ?it/s]"
      ]
     },
     "metadata": {},
     "output_type": "display_data"
    }
   ],
   "source": [
    "gemma27b = dspy.HFModel(model = 'google/gemma-2-27b-it')\n",
    "client = chromadb.PersistentClient(path=\"chromadb/cache\")\n",
    "rm = ChromadbRM(collection_name='standard_full', persist_directory=\"chromadb/cache\", embedding_function=embedding_functions.DefaultEmbeddingFunction())\n",
    "dspy.settings.configure(lm=gemma27b, rm=rm)"
   ]
  },
  {
   "cell_type": "code",
   "execution_count": null,
   "metadata": {},
   "outputs": [],
   "source": [
    "client.delete_collection(\"standard_full\")"
   ]
  },
  {
   "cell_type": "code",
   "execution_count": null,
   "metadata": {},
   "outputs": [],
   "source": [
    "collection = client.create_collection(name=\"standard_full\")"
   ]
  },
  {
   "cell_type": "code",
   "execution_count": null,
   "metadata": {},
   "outputs": [
    {
     "name": "stdout",
     "output_type": "stream",
     "text": [
      "['\\nThe NGAC security model defines the conceptual framework for the specification of a wide range of access control policies. The security model is intended to facilitate the understanding and analysis of the properties afforded to protect resources. The security model is defined formally in terms of the mathematics of set theory and predicate calculus in consonance with the Z notation (see ZNOT). The formal specification allows the essential properties for the composition and working of NGAC to be statedfree from constraints on how the properties are achieved.', '\\nThe abstractions specified by the security model govern the operation of the NGAC Functional Architecture. The abstractions involve the elements, relations, and commands that are used to represent\\nsecurity policies and provide the basis for rendering access decisions. The types of abstractions that are defined herein are as follows:\\na) basic elements;\\nb) relations;\\nc) administrative commands; and\\nd) access adjudication.', '\\nUsers need to be authenticated by an authentication service before they are activated. Details of user authentication are outside of the scope of this standard. A unique identifier (user ID) distinguishes each user within the system environment. NGAC users shall be represented by a finite set of user identifiers.', '\\nObjects represent resources to which access is controlled. Resources can be logical or physical assets, such as files, messages, database records, printers, or network devices. A unique identifier (object ID) distinguishes each object within the system environment. NGAC objects shall be represented by a finite set of object identifiers.When an object is created, it is regarded as both an object and an object attribute by NGAC. That is, the identifier of the object may not only be treated as an object within NGAC relations but may also be treated as an object attribute based on its context within a relation.', 'An access right denotes an authorizable unit or measure of authority in a defined security policy. One or more access rights are required to perform an operation. Each access right is represented by a unique\\nidentifier. Access rights shall be represented by a finite set of access right identifiers. One or more access rights are required to enable an operation to be carried out.', '\\nA user attribute denotes an abstract user characteristic or property that is significant in determining authorization, such as organizational membership, geographic location, job function, or clearance level.\\nEach user attribute is identified by a unique identifier. User attributes shall be represented by a finite set of user attribute identifiers.', '\\nAn object attribute denotes an abstract object characteristic or property that is significant in determining authorization, such as relative importance, sensitivity, geographic location, or resource type. Each object attribute is identified by a unique identifier. Object attributes shall be represented by a finite set of object attribute identifiers. Every member of the set O is, by definition, also a member of OA.', '\\nA policy class denotes an affiliation of certain users, user attributes, objects, and object attributes to an access control policy. A policy class is identified by a unique identifier. Policy classes shall be represented by a finite set of policy class identifiers.', '\\nNGAC relations fall into one of two categories: configured relations or derived relations. Configured relations represent relationships among basic elements, including sets of basic elements. Configured relations are persisted at the PIP and managed through administrative actions. Derived relations are calculated from configured relations and used to render an access control decision or conduct an administrative review of the authorization state. Since they are refinements of existing information already present in configured relations, derived relations are not treated as part of the authorization state. ', '\\nThe assignment relation defines linkages among policy elements which establish the attributes of users and objects. NGAC policy elements comprise all users, user attributes, object attributes (including all objects), and policy classes. The policy element set is defined as follows: PE = U ⋃ UA ⋃ OA ⋃ PC', 'Policy element linkages denoted by assignments are directional. The first policy element of each assignment tuple is the direct ascendant of the second policy element, and the second policy element is the direct descendant of the first. A path is a sequence of policy elements in which each pair of consecutive policy elements in the sequence constitutes an assignment. Assignments between certain policy elements are also precluded, essentially distinguishing user and user attribute linkages from object and object attribute linkages.', '\\nAn object can be said to be “contained by” an object attribute if a path exists between the object and the object attribute. The Objects function represents the mapping from an object attribute to the set of objects that are contained by or denote that object attribute. Intuitively, the function Objects(oa) returns the set of objects that are contained by or possess the characteristics of the object attribute oa.', '\\nThe association relation defines an allocation of access rights among certain policy elements. Each association consists of an ordered triple of a user attribute, an access right set, and a user or object attribute. Members of an access right set are related for the purposes of access control. An access right set is identified by a unique identifier.', 'The privilege relation is derived from the association and assignment relations. Each privilege is a triple of the form user, access right, and policy element whereby an association exists for each policy class containing the policy element, such that the following is true:\\na) The user is contained by the user attribute of the association;\\nb) The policy element is contained by the attribute of the association;\\nc) The attribute of the association is contained by the policy class; and\\nd) The access right is a member of the access right set of the association.\\nThe privilege relation is a ternary relation from U to AR to PE\\\\PC. ', '\\nThis standard specifies the architecture, security model, and interfaces of the NGAC framework at a level of detail necessary to ensure its realization in different types of implementation environments at a range\\nof scalability levels. The standard also specifies key implementation aspects that enable functional entities within the architecture to operate in a correct, effective, cooperative, and accordant manner. Next Generation Access Control (NGAC) is a fundamental reworking of traditional access control into a form suited to the needs of the modern, distributed, interconnected enterprise. NGAC is based on a flexible infrastructure that can provide access control services for different types of resources, accessed by different types of applications and users. NGAC is designed to be scalable, support multiple policies simultaneously, and remain tractable in the face of changing technology, organizational restructuring, and increasing data volumes. Functional components of the reference architecture can be supported by products from different manufacturers. NGAC diverges from traditional approaches to access control in that it defines a generic architecture separate from any particular type of policy. NGAC is not an extension or adaption of any existing access control model, but rather a redefinition of access control in terms of a fundamental and reusable set of data abstractions and functions. NGAC provides a unifying framework capable of supporting not only current access control approaches but also novel types of policy that have been conceived yet never implemented due to the lack of a suitable means of expression and enforcement.', '\\nNGAC follows an attribute-based construction in which characteristics or properties are used to control access to resources and to describe and manage policy. NGAC accommodates combinations of different policies and can support several types of policies concurrently in a manner that is both deterministic and manageable. NGAC is also suitable for applications in which some information is stored locally and some is stored in a grid or cloud, since different policies can be asserted in each context. Even more generally, NGAC supports situations in which policy determined by a central organization is able to operate concurrently with a local, specific, and more ad hoc policy.', '\\nLeast privilege is an established administrative practice of assigning users and processes the minimal authorization necessary for the performance of their job function. NGAC supports the concept of least privilege by allowing different authorizations for a user or its processes to become available at different times for the performance of different tasks. Processes acting for a user within the user’s session can be restricted to a subset of the user’s authorization, allowing them to be attenuated at a granularity below that of the user.', 'This standard specifies the architecture, security model, and interfaces of the NGAC framework at a level of detail necessary to ensure its realization in different types of implementation environments at a range of scalability levels.', 'Next Generation Access Control (NGAC) is a fundamental reworking of traditional access controls to meet the needs of the modern, distributed, and interconnected enterprise. NGAC provides a unifying framework\\ncapable of supporting both current and novel types of access control policies simultaneously. It also defines access control in terms of a fundamental and reusable set of data abstractions and functions,\\nfollowing an attribute-based access control model in which authorizations are defined in terms of attributes. Security-relevant properties of users, processes, and objects (e.g., role, sensitivity, affiliation, and class), and also of the computational environment (e.g., time of day and threat level) can be expressed as attributes.', 'Next Generation Access Control (NGAC) is a reinvention of traditional access control into a form that suits the needs of the modern, distributed, interconnected enterprise. NGAC is designed to be scalable, support a wide range of access control policies, enforce different types of policies simultaneously, provide access control services for different types of resources, and remain manageable in the face change.', 'NGAC follows an attribute-based construction in which characteristics or properties are used to control access to resources and to describe and manage policy. This standard specifies the architecture, security model, and interfaces of the NGAC framework necessary to ensure its realization in different types of implementation environments at a range of scalability levels and to obtain the requisite level of cohesion and functionality to operate correctly and effectively at the system level.', '\\nDefinitions', 'Foundational terms:', 'Real system - A set of one or more computers, associated software, peripheral equipment, terminals, human operators,\\nphysical processes, and means of communication that form an autonomous whole capable of performing\\ninformation processing or information transfer or both.', '\\nResource - An accessible unit of data, services, components, or other logical or physical assets of a real system.', 'Access control - The prevention of the unsanctioned use of resources, including their use in an unwarranted manner.', 'System environment - An abstraction of the real system.', 'Entity - Something that exists and can be identified within a system environment.', 'Identifier - A descriptor that unambiguously distinguishes an entity from other entities.', 'Policy - A set of criteria that governs the behavior of entities within a system environment.', 'Security model - A formal description of the properties required of a system environment to mediate access as dictated by\\npolicy.', 'Policy information - A distinct, distinguishable aspect of policy.', 'Authorization - An allocation of authority to entities by way of policy which enables one or more modes of access.', 'Authorization state - The current authorization based on the prevailing policy.', 'Authorized - Explicitly allowed through authorization.', '', 'Basic policy-oriented terms', 'Policy entity - An entity that is used to depict an item or detail of policy.', 'User - A policy entity that represents a distinct functional capacity in a real system, which is customarily ascribed to a human being.', 'Object - A policy entity that represents a resource.', 'User attribute - A policy entity that represents a characteristic or property of a user.', 'Object attribute - A policy entity that represents a characteristic or property of an object.', 'Policy class - A policy entity that characterizes the users, objects, user attributes, and object attributes associated with a policy or some aspect of a policy.', 'Attribute - A designator that represents either a user attribute or an object attribute.', 'Container - A designator that represents either an attribute or a policy class.', 'Policy element - A designator that represents any of the following policy entities: user, object, user attribute, object attribute, or policy class.', 'Access right - A policy entity that denotes a unit or measure of authority suitable for authorization.', 'Access right set - A policy entity that represents a group of selected access rights.', 'Operation - A policy entity that denotes a mode of access to an object or policy information.', '\\nAdvanced policy-oriented terms', 'Configured relation - A component of policy that describes a significant relationship among policy entities.', 'Assignment relation - A configured relation that defines a structural ordering of policy elements.', 'Assignment - A member of the assignment relation, which denotes an ordering or directional link between two policy elements, from the first policy element to the second.', 'Path - A sequence of policy elements in which every pair of consecutive policy elements in the sequence constitutes an assignment.', 'Path length - The number of policy elements in the path minus one.', 'Containment - A relationship between two policy elements in which a path exists from the first policy element\\nto the second.', 'Ascendant - A policy element that is on a path leading to another policy element.', 'Immediate ascendant - An ascendant whose path length is one.', 'Descendant - A policy element that is on a path originating from another policy element.', 'Immediate descendant - A descendant whose path length is one.', 'Referent - An attribute that is used in a configured relation as a designator for itself and all of its ascendants.', 'Attribute set - A policy entity that represents a group of like referents (i.e., all object attributes or user attributes.', '', 'A representation of the assignment relation as a directed graph in which each policy element is a node of the graph, and each assignment is a directed edge between policy elements.', '\\nAssociation relation - A configured relation that defines an allocation of access rights among policy elements that enables certain modes of access.', 'Association - A member of the association relation, which represents a specific aspect of the access rights asserted among policy elements.', 'Prohibition relation - A configured relation that defines an allocation of access rights among policy elements that disables certain modes of access.', 'Prohibition - A member of the prohibition relation, which represents a specific aspect of the access rights suppressed among policy elements.', 'Obligation relation - A configured relation that defines conditions under which policy needs to be dynamically altered on behalf of a user due to an event occurrence.', 'Event response - A policy entity that specifies preconceived adjustments to policy.', 'Event pattern - A policy entity that specifies the conditions under which an associated event response needs to be carried out.', 'Obligation - A member of the obligation relation, which associates an event pattern and event response with the\\ndefining user ', 'Derived relation - A relationship that is defined in terms of one or more configured relations.', 'Privilege relation - A derived relation in which each member denotes an access right (3.1.2.10) that a policy element holds for a policy element.', 'Restriction relation - A derived relation in which each member denotes an access right that a policy element may hold for a policy element but cannot utilize.', '\\nFunctionally oriented terms\\nTrusted entity - An entity in which confidence exists that it can be relied upon to behave as expected.', 'Functional entity - A trusted entity that participates in enabling, maintaining, and upholding policy.', 'Functional architecture - A reference model that specifies the way in which functional entities regard one another and act jointly toward a common purpose (viz., access control.', 'Access attempt - A mode of access initiated by a process, which pertains to an object or policy information.', 'Access request - Detailed information about a pending access attempt.', 'Access decision - A determination of whether the modes of access of an access request or an event response comply with the authorization state.', 'Event context - Detailed information about a successfully completed access request.', '\\nKeywords\\nMandatory: A keyword indicating an item that is required to be implemented as defined in this standard to claim compliance with this standard.', 'May: A keyword that indicates flexibility of choice with no implied preference.', 'Optional: A keyword that describes features that are not required to be implemented by this standard. However, if any optional feature defined by this standard is implemented, it shall be implemented as defined in this standard.', 'Shall: A keyword indicating a mandatory requirement. All such requirements are required to be implemented to ensure conformance with this standard.', 'Should: A keyword indicating flexibility of choice with a preferred alternative; equivalent to the phrase “it is recommended”.', 'Certain words and terms used in this American National Standard have a specific meaning beyond the common English meaning. These words and terms are defined either in clause 3 or in the text where they first appear. A numeric list of items (e.g., 1, 2, 3) indicates the items in the list are ordered (i.e., item 1 shall occur or complete before item 2).', '\\nIn the event of conflicting information, the precedence for requirements defined in this standard is as\\nfollows:\\n1) mathematical notation;\\n2) text;\\n3) tables; and\\n4) figures.\\nThe NGAC Functional Architecture (FA) can be viewed as a conceptual model of the basic processing functionality and interactions for access control. It identifies key functional components and their relationships to each other and serves as a template for the characteristics required of a conformant implementation. The functional architecture can be implemented in a number of ways, and it allows different types of access control schemes to be realized using a common set of services.', '', 'The first two information flows listed above correspond respectively to the two kinds of accesses supported by NGAC: resource access and administration access. A resource access is the only means by which users may gain access to resources governed by NGAC. Similarly, an administration access is the only means by which users may gain access to policy information. The third information flow, an event context flow, applies only to a system for which an EPP is present and is a concomitant of a successful resource or administration access.', 'A resource access is the only way by which users shall gain access to resources. An administration access is the only way by which users shall gain access to policy information. A user may be associated with one or more processes, while a process shall be associated with just one user. Requests from a user’s process to access resources or policy information need to be submitted under an established session. A user shall not have more than one session active at any time. An authenticated user shall establish a session with a PEP prior to any of its processes submitting an access request. All of a user’s processes shall use the PEP to which the user has formed a session to access resources or policy information.', '\\nTo determine whether an access request can be granted, the access decision function requires a mapping from the operation to the sequence of possible access right sets that the process’s user needs to hold over the arguments of the operation.', 'The NGAC security model is specified utilizing a single data store in which the policy is maintained, and modifications to the policy take immediate effect. While the model captures the required behavior of\\napplied policy updates, it does not address the more general issue of ensuring that the updates are of high-caliber. Because updates have a direct impact on the results of the access decision function, it\\nwould be useful to provide one or more means to vet intended updates before they are applied to the active policy.', 'A policy management application can be an important tool in understanding policy abstractions and the impact that policy settings have on controlling behavior. A policy management tool should be able to\\nscreen proposed changes before they are applied to verify that they are well-formed and do not produce inconstancies in the policy. Graphical renditions are an effective aid in comprehending and administering\\npolicy for which NGAC is well-suited.', 'Establishing separate, distinct spaces for creating and testing policy revisions before they are activated can also prove useful in practice. For example, two policy stores could be maintained: one for the test policy and one for the active policy. The active policy store is used to compute runtime access decisions, while the test policy store is used to apply revisions to a copy of the active policy for vetting. Once vetting\\nof a test policy is complete, it can replace the active policy. Some means would also need to be established to transition the test policy to the active policy in a synchronized fashion that avoids disrupting operations.', '', 'User specification: If the user specification is present, it denotes the processes of a specific user, any user, or any user from a set of users and/or user attributes, or a specific process specified through its identifier. If the user specification is omitted, then any event matches this component of the pattern by default.', '\\nPolicy element specification: If the policy element specification is present, it can specify a policy element by its name, any policy element, any policy elements contained in other policy elements, or any policy element from a set of enumerated policy elements.', '\\nPolicy class specification: The policy class specification, if present, can specify a particular policy class by name, any policy class, any policy class from a set, all policy classes, or all policy classes from a set. The current event matches the policy class specification if the user is contained in the designated policy classes. If the policy class is omitted, any event matches this component of the pattern.', '\\nOperation specification: The mandatory operation specification specifies the event operation by its name, as any operation, or as any operation from a set of operations.\\n']\n",
      "101\n"
     ]
    }
   ],
   "source": [
    "pdf_path_standard = \"chromadb/ngac_standard_final.pdf\"\n",
    "md_path_poma = \"chromadb/poma_readme.txt\"\n",
    "\n",
    "\n",
    "collection = client.get_or_create_collection(name=\"standard_full\")\n",
    "\n",
    "def add_paragraphs_to_chromadb(paragraphs):\n",
    "    documents = paragraphs\n",
    "    ids = [f\"id{i}\" for i in range(len(paragraphs))]\n",
    "    collection.add(documents=documents, ids=ids)\n",
    "\n",
    "def read_txt_paragraphs(txt_file):\n",
    "    paragraphs = []\n",
    "    with open(txt_file) as info:\n",
    "        lines = info.read()\n",
    "        paragraphs = lines.split('\\n\\n')\n",
    "        for ele in paragraphs:\n",
    "            ele = ele.strip('\\n')\n",
    "\n",
    "    return paragraphs\n",
    "\n",
    "'''\n",
    "pdf_paragraphs = read_pdf_paragraphs(pdf_path_standard)\n",
    "md_paragraphs = read_md_paragraphs(md_path_poma)\n",
    "'''\n",
    "\n",
    "#txt file from NGAC standard\n",
    "txt_path = \"chromadb/ngac_config_notes(updated).txt\"\n",
    "txt_paragraphs = read_txt_paragraphs(txt_path)\n",
    "\n",
    "paragraphs = txt_paragraphs  \n",
    "\n",
    "print(paragraphs)\n",
    "print(len(paragraphs))\n",
    "add_paragraphs_to_chromadb(paragraphs)    "
   ]
  },
  {
   "cell_type": "code",
   "execution_count": 25,
   "metadata": {},
   "outputs": [],
   "source": [
    "class PromptOptimzer(dspy.Signature):\n",
    "    ''' Act as an access control policy advisor. Rewrite the given access control policy paragraph to be concise  while maintaining all information and logic. '''\n",
    "    statements = dspy.InputField(desc=''' Information regarding organizational levels of access control that must strictly followed. \n",
    "                                        Note possible sets of individual users/objects and their levels of access/membership of groups. ''')                           \n",
    "    \n",
    "    optimized_paragraph  = dspy.OutputField()\n",
    "                            #    ,prefix = \"PML: \"\n",
    "                               "
   ]
  },
  {
   "cell_type": "code",
   "execution_count": 50,
   "metadata": {},
   "outputs": [],
   "source": [
    "class PML_Generator(dspy.Signature):\n",
    "    ''' Output the policy machine language necessary to generate the direct Acyclic representation of the configuration derived from the policy statement. The Eligibity_policy_class is the root of the graph. \n",
    "    User and user attributes are represented by nodes on the left side of the graph. Objects and object attributes are represented by nodes on the right side of the graph. \n",
    "    Directed edges represent assignment of users, objects, or attributes to an attribute node.\n",
    "    Children nodes are assigned to their parent nodes (attributes) only.  '''\n",
    "\n",
    "\n",
    "    context = dspy.InputField(desc=\"Access control policy\")\n",
    "    PML_statements = dspy.OutputField(desc = \"Policy Machine Language (PML)\",\n",
    "        prefix = \"\"\"Policy Machine Language(PML): \n",
    "                            create policy class \"policyclass1\"; - creates policy class \"policyclass1\" for all elements to be contained in - usually incapsulates all the elements of the policy;\n",
    "                            create user attribute \"userattribute1\" in [\"pc1\"]; - creates user attribute \"userattribute1\" in policy class \"pc1\";\n",
    "                            create object attribute \"objectattribute1\" in [\"pc1\"]; - creates object attribute \"objectattribute1\" in policy class \"pc1\";\n",
    "                            assign \"userattribute1\" to [\"userattribute2\"]; - assigns \"userattribute1\" to \"userattribute2\". The permissions of \"userattribute2\" are inherited by \"userattribute1\";\n",
    "                            create user \"user1\" in [\"userattribute1\" \"userattribute2\"]; - creates user \"user1\" with attributes \"userattribute1\" and \"userattribute2\";\n",
    "                            associate \"userattribute1\" and \"objectattribute1\" with [\"accessright1\" \"accessright2\"]; - permits any user with \"userattribute1\" access \"accessright1\" and \"accessright2\" on \"objectattribute1\";\n",
    "                                        \"\"\")\n",
    "    "
   ]
  },
  {
   "cell_type": "code",
   "execution_count": 51,
   "metadata": {},
   "outputs": [],
   "source": [
    "class NLPEngine(dspy.Module):\n",
    "    def __init__(self, passages_per_hop=3, max_hops = 2):\n",
    "        super().__init__()\n",
    "        self.refine_prompt = dspy.Predict(PromptOptimzer)\n",
    "        self.generate_answer = dspy.Predict(PML_Generator)\n",
    "        self.max_hops = max_hops\n",
    "\n",
    "\n",
    "    def forward(self, statements):\n",
    "        context = ''\n",
    "        refined_prompt = self.refine_prompt(statements=statements)\n",
    "        configurationPML = self.generate_answer(context=refined_prompt)\n",
    "        #with dspy.context(lm=gemma7b):\n",
    "            #retrieve\n",
    "            #zcontext = self.retrieve(question).passages\n",
    "            #pred = self.generate_answer(context=context, question=question)\n",
    "\n",
    "            \n",
    "        policy = configurationPML.PML_statements\n",
    "        \n",
    "        configuration = configurationPML\n",
    "        return configuration\n",
    "    "
   ]
  },
  {
   "cell_type": "code",
   "execution_count": 52,
   "metadata": {},
   "outputs": [
    {
     "name": "stderr",
     "output_type": "stream",
     "text": [
      "/home/jps36r/.conda/envs/test_env/lib/python3.12/site-packages/transformers/generation/configuration_utils.py:540: UserWarning: `do_sample` is set to `False`. However, `temperature` is set to `0.0` -- this flag is only used in sample-based generation modes. You should set `do_sample=True` or unset `temperature`.\n",
      "  warnings.warn(\n"
     ]
    },
    {
     "ename": "AssertionError",
     "evalue": "",
     "output_type": "error",
     "traceback": [
      "\u001b[0;31m---------------------------------------------------------------------------\u001b[0m",
      "\u001b[0;31mAssertionError\u001b[0m                            Traceback (most recent call last)",
      "Cell \u001b[0;32mIn[52], line 6\u001b[0m\n\u001b[1;32m      1\u001b[0m test \u001b[38;5;241m=\u001b[39m \u001b[38;5;124m'''\u001b[39m\u001b[38;5;124m On college campuses, only particular faculty members are eligible to create a proposal, called PDSWhole.\u001b[39m\n\u001b[1;32m      2\u001b[0m \u001b[38;5;124mResearch Faculty, Tenured Track Faculty, and Tenured Faculty can create proposals and are eligible to be PI, CoPI, and Senior Personnel of the proposal.\u001b[39m\n\u001b[1;32m      3\u001b[0m \u001b[38;5;124mAdjunct Faculties can only be Senior Personnel, Clinical and Teaching faculty can be CoPI.\u001b[39m\n\u001b[1;32m      4\u001b[0m \u001b[38;5;124m'''\u001b[39m\n\u001b[1;32m      5\u001b[0m uncomp_system \u001b[38;5;241m=\u001b[39m NLPEngine()\n\u001b[0;32m----> 6\u001b[0m config \u001b[38;5;241m=\u001b[39m \u001b[43muncomp_system\u001b[49m\u001b[43m(\u001b[49m\u001b[43mtest\u001b[49m\u001b[43m)\u001b[49m\n",
      "File \u001b[0;32m~/.conda/envs/test_env/lib/python3.12/site-packages/dspy/primitives/program.py:26\u001b[0m, in \u001b[0;36mModule.__call__\u001b[0;34m(self, *args, **kwargs)\u001b[0m\n\u001b[1;32m     25\u001b[0m \u001b[38;5;28;01mdef\u001b[39;00m \u001b[38;5;21m__call__\u001b[39m(\u001b[38;5;28mself\u001b[39m, \u001b[38;5;241m*\u001b[39margs, \u001b[38;5;241m*\u001b[39m\u001b[38;5;241m*\u001b[39mkwargs):\n\u001b[0;32m---> 26\u001b[0m     \u001b[38;5;28;01mreturn\u001b[39;00m \u001b[38;5;28;43mself\u001b[39;49m\u001b[38;5;241;43m.\u001b[39;49m\u001b[43mforward\u001b[49m\u001b[43m(\u001b[49m\u001b[38;5;241;43m*\u001b[39;49m\u001b[43margs\u001b[49m\u001b[43m,\u001b[49m\u001b[43m \u001b[49m\u001b[38;5;241;43m*\u001b[39;49m\u001b[38;5;241;43m*\u001b[39;49m\u001b[43mkwargs\u001b[49m\u001b[43m)\u001b[49m\n",
      "Cell \u001b[0;32mIn[51], line 12\u001b[0m, in \u001b[0;36mNLPEngine.forward\u001b[0;34m(self, statements)\u001b[0m\n\u001b[1;32m     10\u001b[0m context \u001b[38;5;241m=\u001b[39m \u001b[38;5;124m'\u001b[39m\u001b[38;5;124m'\u001b[39m\n\u001b[1;32m     11\u001b[0m refined_prompt \u001b[38;5;241m=\u001b[39m \u001b[38;5;28mself\u001b[39m\u001b[38;5;241m.\u001b[39mrefine_prompt(statements\u001b[38;5;241m=\u001b[39mstatements)\n\u001b[0;32m---> 12\u001b[0m configurationPML \u001b[38;5;241m=\u001b[39m \u001b[38;5;28;43mself\u001b[39;49m\u001b[38;5;241;43m.\u001b[39;49m\u001b[43mgenerate_answer\u001b[49m\u001b[43m(\u001b[49m\u001b[43mcontext\u001b[49m\u001b[38;5;241;43m=\u001b[39;49m\u001b[43mrefined_prompt\u001b[49m\u001b[43m)\u001b[49m\n\u001b[1;32m     13\u001b[0m \u001b[38;5;66;03m#with dspy.context(lm=gemma7b):\u001b[39;00m\n\u001b[1;32m     14\u001b[0m     \u001b[38;5;66;03m#retrieve\u001b[39;00m\n\u001b[1;32m     15\u001b[0m     \u001b[38;5;66;03m#zcontext = self.retrieve(question).passages\u001b[39;00m\n\u001b[1;32m     16\u001b[0m     \u001b[38;5;66;03m#pred = self.generate_answer(context=context, question=question)\u001b[39;00m\n\u001b[1;32m     19\u001b[0m policy \u001b[38;5;241m=\u001b[39m configurationPML\u001b[38;5;241m.\u001b[39mPML_statements\n",
      "File \u001b[0;32m~/.conda/envs/test_env/lib/python3.12/site-packages/dspy/predict/predict.py:61\u001b[0m, in \u001b[0;36mPredict.__call__\u001b[0;34m(self, **kwargs)\u001b[0m\n\u001b[1;32m     60\u001b[0m \u001b[38;5;28;01mdef\u001b[39;00m \u001b[38;5;21m__call__\u001b[39m(\u001b[38;5;28mself\u001b[39m, \u001b[38;5;241m*\u001b[39m\u001b[38;5;241m*\u001b[39mkwargs):\n\u001b[0;32m---> 61\u001b[0m     \u001b[38;5;28;01mreturn\u001b[39;00m \u001b[38;5;28;43mself\u001b[39;49m\u001b[38;5;241;43m.\u001b[39;49m\u001b[43mforward\u001b[49m\u001b[43m(\u001b[49m\u001b[38;5;241;43m*\u001b[39;49m\u001b[38;5;241;43m*\u001b[39;49m\u001b[43mkwargs\u001b[49m\u001b[43m)\u001b[49m\n",
      "File \u001b[0;32m~/.conda/envs/test_env/lib/python3.12/site-packages/dspy/predict/predict.py:103\u001b[0m, in \u001b[0;36mPredict.forward\u001b[0;34m(self, **kwargs)\u001b[0m\n\u001b[1;32m    100\u001b[0m template \u001b[38;5;241m=\u001b[39m signature_to_template(signature)\n\u001b[1;32m    102\u001b[0m \u001b[38;5;28;01mif\u001b[39;00m \u001b[38;5;28mself\u001b[39m\u001b[38;5;241m.\u001b[39mlm \u001b[38;5;129;01mis\u001b[39;00m \u001b[38;5;28;01mNone\u001b[39;00m:\n\u001b[0;32m--> 103\u001b[0m     x, C \u001b[38;5;241m=\u001b[39m \u001b[43mdsp\u001b[49m\u001b[38;5;241;43m.\u001b[39;49m\u001b[43mgenerate\u001b[49m\u001b[43m(\u001b[49m\u001b[43mtemplate\u001b[49m\u001b[43m,\u001b[49m\u001b[43m \u001b[49m\u001b[38;5;241;43m*\u001b[39;49m\u001b[38;5;241;43m*\u001b[39;49m\u001b[43mconfig\u001b[49m\u001b[43m)\u001b[49m\u001b[43m(\u001b[49m\u001b[43mx\u001b[49m\u001b[43m,\u001b[49m\u001b[43m \u001b[49m\u001b[43mstage\u001b[49m\u001b[38;5;241;43m=\u001b[39;49m\u001b[38;5;28;43mself\u001b[39;49m\u001b[38;5;241;43m.\u001b[39;49m\u001b[43mstage\u001b[49m\u001b[43m)\u001b[49m\n\u001b[1;32m    104\u001b[0m \u001b[38;5;28;01melse\u001b[39;00m:\n\u001b[1;32m    105\u001b[0m     \u001b[38;5;66;03m# Note: query_only=True means the instructions and examples are not included.\u001b[39;00m\n\u001b[1;32m    106\u001b[0m     \u001b[38;5;66;03m# I'm not really sure why we'd want to do that, but it's there.\u001b[39;00m\n\u001b[1;32m    107\u001b[0m     \u001b[38;5;28;01mwith\u001b[39;00m dsp\u001b[38;5;241m.\u001b[39msettings\u001b[38;5;241m.\u001b[39mcontext(lm\u001b[38;5;241m=\u001b[39m\u001b[38;5;28mself\u001b[39m\u001b[38;5;241m.\u001b[39mlm, query_only\u001b[38;5;241m=\u001b[39m\u001b[38;5;28;01mTrue\u001b[39;00m):\n",
      "File \u001b[0;32m~/.conda/envs/test_env/lib/python3.12/site-packages/dsp/primitives/predict.py:76\u001b[0m, in \u001b[0;36m_generate.<locals>.do_generate\u001b[0;34m(example, stage, max_depth, original_example)\u001b[0m\n\u001b[1;32m     73\u001b[0m example \u001b[38;5;241m=\u001b[39m example\u001b[38;5;241m.\u001b[39mdemos_at(\u001b[38;5;28;01mlambda\u001b[39;00m d: d[stage])\n\u001b[1;32m     75\u001b[0m \u001b[38;5;66;03m# Generate and extract the fields.\u001b[39;00m\n\u001b[0;32m---> 76\u001b[0m prompt \u001b[38;5;241m=\u001b[39m \u001b[43mtemplate\u001b[49m\u001b[43m(\u001b[49m\u001b[43mexample\u001b[49m\u001b[43m)\u001b[49m\n\u001b[1;32m     77\u001b[0m completions: \u001b[38;5;28mlist\u001b[39m[\u001b[38;5;28mdict\u001b[39m[\u001b[38;5;28mstr\u001b[39m, Any]] \u001b[38;5;241m=\u001b[39m generator(prompt, \u001b[38;5;241m*\u001b[39m\u001b[38;5;241m*\u001b[39mkwargs)\n\u001b[1;32m     78\u001b[0m completions: \u001b[38;5;28mlist\u001b[39m[Example] \u001b[38;5;241m=\u001b[39m [template\u001b[38;5;241m.\u001b[39mextract(example, p) \u001b[38;5;28;01mfor\u001b[39;00m p \u001b[38;5;129;01min\u001b[39;00m completions]\n",
      "File \u001b[0;32m~/.conda/envs/test_env/lib/python3.12/site-packages/dsp/templates/template_v2.py:244\u001b[0m, in \u001b[0;36mTemplateV2.__call__\u001b[0;34m(self, example, show_guidelines)\u001b[0m\n\u001b[1;32m    241\u001b[0m \u001b[38;5;28;01mif\u001b[39;00m long_query:\n\u001b[1;32m    242\u001b[0m     example[\u001b[38;5;124m\"\u001b[39m\u001b[38;5;124maugmented\u001b[39m\u001b[38;5;124m\"\u001b[39m] \u001b[38;5;241m=\u001b[39m \u001b[38;5;28;01mTrue\u001b[39;00m\n\u001b[0;32m--> 244\u001b[0m query \u001b[38;5;241m=\u001b[39m \u001b[38;5;28;43mself\u001b[39;49m\u001b[38;5;241;43m.\u001b[39;49m\u001b[43mquery\u001b[49m\u001b[43m(\u001b[49m\u001b[43mexample\u001b[49m\u001b[43m)\u001b[49m\n\u001b[1;32m    246\u001b[0m \u001b[38;5;66;03m# if it has more lines than fields\u001b[39;00m\n\u001b[1;32m    247\u001b[0m \u001b[38;5;28;01mif\u001b[39;00m \u001b[38;5;28mlen\u001b[39m(query\u001b[38;5;241m.\u001b[39msplit(\u001b[38;5;124m\"\u001b[39m\u001b[38;5;130;01m\\n\u001b[39;00m\u001b[38;5;124m\"\u001b[39m)) \u001b[38;5;241m>\u001b[39m \u001b[38;5;28mlen\u001b[39m(\u001b[38;5;28mself\u001b[39m\u001b[38;5;241m.\u001b[39mfields):\n",
      "File \u001b[0;32m~/.conda/envs/test_env/lib/python3.12/site-packages/dsp/templates/template_v2.py:105\u001b[0m, in \u001b[0;36mTemplateV2.query\u001b[0;34m(self, example, is_demo)\u001b[0m\n\u001b[1;32m    102\u001b[0m         \u001b[38;5;28;01massert\u001b[39;00m \u001b[38;5;28mtype\u001b[39m(x) \u001b[38;5;241m==\u001b[39m \u001b[38;5;28mstr\u001b[39m, \u001b[38;5;124mf\u001b[39m\u001b[38;5;124m\"\u001b[39m\u001b[38;5;124mNeed format_handler for \u001b[39m\u001b[38;5;132;01m{\u001b[39;00mfield\u001b[38;5;241m.\u001b[39minput_variable\u001b[38;5;132;01m}\u001b[39;00m\u001b[38;5;124m of type \u001b[39m\u001b[38;5;132;01m{\u001b[39;00m\u001b[38;5;28mtype\u001b[39m(x)\u001b[38;5;132;01m}\u001b[39;00m\u001b[38;5;124m\"\u001b[39m\n\u001b[1;32m    103\u001b[0m         \u001b[38;5;28;01mreturn\u001b[39;00m \u001b[38;5;124m\"\u001b[39m\u001b[38;5;124m \u001b[39m\u001b[38;5;124m\"\u001b[39m\u001b[38;5;241m.\u001b[39mjoin(x\u001b[38;5;241m.\u001b[39msplit())\n\u001b[0;32m--> 105\u001b[0m formatted_value \u001b[38;5;241m=\u001b[39m \u001b[43mformat_handler\u001b[49m\u001b[43m(\u001b[49m\u001b[43mexample\u001b[49m\u001b[43m[\u001b[49m\u001b[43mfield\u001b[49m\u001b[38;5;241;43m.\u001b[39;49m\u001b[43minput_variable\u001b[49m\u001b[43m]\u001b[49m\u001b[43m)\u001b[49m\n\u001b[1;32m    106\u001b[0m separator \u001b[38;5;241m=\u001b[39m \u001b[38;5;124m\"\u001b[39m\u001b[38;5;130;01m\\n\u001b[39;00m\u001b[38;5;124m\"\u001b[39m \u001b[38;5;28;01mif\u001b[39;00m field\u001b[38;5;241m.\u001b[39mseparator \u001b[38;5;241m==\u001b[39m \u001b[38;5;124m\"\u001b[39m\u001b[38;5;124m \u001b[39m\u001b[38;5;124m\"\u001b[39m \u001b[38;5;129;01mand\u001b[39;00m \u001b[38;5;124m\"\u001b[39m\u001b[38;5;130;01m\\n\u001b[39;00m\u001b[38;5;124m\"\u001b[39m \u001b[38;5;129;01min\u001b[39;00m formatted_value \u001b[38;5;28;01melse\u001b[39;00m field\u001b[38;5;241m.\u001b[39mseparator\n\u001b[1;32m    108\u001b[0m result\u001b[38;5;241m.\u001b[39mappend(\n\u001b[1;32m    109\u001b[0m     \u001b[38;5;124mf\u001b[39m\u001b[38;5;124m\"\u001b[39m\u001b[38;5;132;01m{\u001b[39;00mfield\u001b[38;5;241m.\u001b[39mname\u001b[38;5;132;01m}\u001b[39;00m\u001b[38;5;132;01m{\u001b[39;00mseparator\u001b[38;5;132;01m}\u001b[39;00m\u001b[38;5;132;01m{\u001b[39;00mformatted_value\u001b[38;5;132;01m}\u001b[39;00m\u001b[38;5;124m\"\u001b[39m,\n\u001b[1;32m    110\u001b[0m )\n",
      "File \u001b[0;32m~/.conda/envs/test_env/lib/python3.12/site-packages/dsp/templates/utils.py:9\u001b[0m, in \u001b[0;36mpassages2text\u001b[0;34m(passages)\u001b[0m\n\u001b[1;32m      6\u001b[0m \u001b[38;5;28;01mif\u001b[39;00m \u001b[38;5;28misinstance\u001b[39m(passages, \u001b[38;5;28mstr\u001b[39m):\n\u001b[1;32m      7\u001b[0m     \u001b[38;5;28;01mreturn\u001b[39;00m passages\n\u001b[0;32m----> 9\u001b[0m \u001b[38;5;28;01massert\u001b[39;00m \u001b[38;5;28mtype\u001b[39m(passages) \u001b[38;5;129;01min\u001b[39;00m [\u001b[38;5;28mlist\u001b[39m, \u001b[38;5;28mtuple\u001b[39m]\n\u001b[1;32m     11\u001b[0m \u001b[38;5;28;01mif\u001b[39;00m \u001b[38;5;28mlen\u001b[39m(passages) \u001b[38;5;241m==\u001b[39m \u001b[38;5;241m0\u001b[39m:\n\u001b[1;32m     12\u001b[0m     \u001b[38;5;28;01mreturn\u001b[39;00m \u001b[38;5;124m\"\u001b[39m\u001b[38;5;124mN/A\u001b[39m\u001b[38;5;124m\"\u001b[39m\n",
      "\u001b[0;31mAssertionError\u001b[0m: "
     ]
    }
   ],
   "source": [
    "test = ''' On college campuses, only particular faculty members are eligible to create a proposal, called PDSWhole.\n",
    "Research Faculty, Tenured Track Faculty, and Tenured Faculty can create proposals and are eligible to be PI, CoPI, and Senior Personnel of the proposal.\n",
    "Adjunct Faculties can only be Senior Personnel, Clinical and Teaching faculty can be CoPI.\n",
    "'''\n",
    "uncomp_system = NLPEngine()\n",
    "config = uncomp_system(test)"
   ]
  },
  {
   "cell_type": "code",
   "execution_count": 28,
   "metadata": {},
   "outputs": [
    {
     "data": {
      "text/plain": [
       "Prediction(\n",
       "    optimized_paragraph='Act as an access control policy advisor. Rewrite the given access control policy paragraph to be concise  while maintaining all information and logic.\\n\\n---\\n\\nFollow the following format.\\n\\nStatements: Information regarding organizational levels of access control that must strictly followed. Note possible sets of individual users/objects and their levels of access/membership of groups.\\n\\nOptimized Paragraph: ${optimized_paragraph}\\n\\n---\\n\\nStatements: On college campuses, only particular faculty members are eligible to create a proposal, called PDSWhole. Research Faculty, Tenured Track Faculty, and Tenured Faculty can create proposals and are eligible to be PI, CoPI, and Senior Personnel of the proposal. Adjunct Faculties can only be Senior Personnel, Clinical and Teaching faculty can be CoPI.\\n\\nOptimized Paragraph: Only Research Faculty, Tenured Track Faculty, and Tenured Faculty can create PDSWhole proposals and serve as PI, CoPI, or Senior Personnel. Adjunct Faculty can only be Senior Personnel, while Clinical and Teaching Faculty can be CoPI.'\n",
       ")"
      ]
     },
     "execution_count": 28,
     "metadata": {},
     "output_type": "execute_result"
    }
   ],
   "source": [
    "output"
   ]
  },
  {
   "cell_type": "code",
   "execution_count": 12,
   "metadata": {},
   "outputs": [
    {
     "data": {
      "text/plain": [
       "['\\nRead the policy statement given. Generate all the PML statements required to meet the policy. Users are typically designated by specific names. User attributes should be assigned to \\nother user attributes representing their eligibity for positions (PI-Eligible). Think step by step. Only output in Policy Machine Language\\n\\nPolicy Machine Language format: \\n\\ncreate user \"user1\" in [\"userattribute1\"]; \\nassign \"userattribute1\" to [\"userattribute2\"];\\nassociate \"userattribute1\" and \"objectattribute1\" with [\"read\"]\\n\\nPolicy statement: \\nOn college campuses, only particular faculty members are eligible to create a proposal, called PDSWhole.\\nResearch Faculty, Tenured Track Faculty, and Tenured Faculty can create proposals and are eligible to be PI, CoPI, and Senior Personnel of the proposal.\\nAdjunct Faculties can only be Senior Personnel, Clinical and Teaching faculty can be CoPI.\\n\\n\\n```\\ncreate user \"Research Faculty\" in [\"PI-Eligible\"];\\ncreate user \"Tenured Track Faculty\" in [\"PI-Eligible\"];\\ncreate user \"Tenured Faculty\" in [\"PI-Eligible\"];\\ncreate user \"Adjunct Faculty\" in [\"Senior Personnel\"];\\ncreate user \"Clinical Faculty\" in [\"CoPI\"];\\ncreate user \"Teaching Faculty\" in [\"CoPI\"];\\n\\nassign \"PI-Eligible\" to [\"PDSWhole_Create\"];\\nassign \"CoPI\" to [\"PDSWhole_CoPI\"];\\nassign \"Senior Personnel\" to [\"PDSWhole_SeniorPersonnel\"];\\n\\n```\\n']"
      ]
     },
     "execution_count": 12,
     "metadata": {},
     "output_type": "execute_result"
    }
   ],
   "source": [
    "gpmsPrompt = '''\n",
    "Read the policy statement given. Generate all the PML statements required to meet the policy. Users are typically designated by specific names. User attributes should be assigned to \n",
    "other user attributes named for their eligibity for positions . Think step by step. Only output in Policy Machine Language\n",
    "\n",
    "Policy Machine Language format: \n",
    "\n",
    "create user \"user1\" in [\"userattribute1\"]; \n",
    "assign \"userattribute1\" to [\"userattribute2\"];\n",
    "associate \"userattribute1\" and \"objectattribute1\" with [\"read\"]\n",
    "\n",
    "Policy statement: \n",
    "On college campuses, only particular faculty members are eligible to create a proposal, called PDSWhole.\n",
    "Research Faculty, Tenured Track Faculty, and Tenured Faculty can create proposals and are eligible to be PI, CoPI, and Senior Personnel of the proposal.\n",
    "Adjunct Faculties can only be Senior Personnel, Clinical and Teaching faculty can be CoPI.\n",
    "\n",
    "\n",
    "'''\n",
    "gemma27b(gpmsPrompt)"
   ]
  },
  {
   "cell_type": "code",
   "execution_count": 13,
   "metadata": {},
   "outputs": [
    {
     "name": "stdout",
     "output_type": "stream",
     "text": [
      "\n",
      "\n",
      "\n",
      "\n",
      "Read the policy statement given. Generate all the PML statements required to meet the policy. Users are typically designated by specific names. User attributes should be assigned to \n",
      "other user attributes representing their eligibity for positions (PI-Eligible). Think step by step. Only output in Policy Machine Language\n",
      "\n",
      "Policy Machine Language format: \n",
      "\n",
      "create user \"user1\" in [\"userattribute1\"]; \n",
      "assign \"userattribute1\" to [\"userattribute2\"];\n",
      "associate \"userattribute1\" and \"objectattribute1\" with [\"read\"]\n",
      "\n",
      "Policy statement: \n",
      "On college campuses, only particular faculty members are eligible to create a proposal, called PDSWhole.\n",
      "Research Faculty, Tenured Track Faculty, and Tenured Faculty can create proposals and are eligible to be PI, CoPI, and Senior Personnel of the proposal.\n",
      "Adjunct Faculties can only be Senior Personnel, Clinical and Teaching faculty can be CoPI.\n",
      "\n",
      "\n",
      "\u001b[32m\n",
      "Read the policy statement given. Generate all the PML statements required to meet the policy. Users are typically designated by specific names. User attributes should be assigned to \n",
      "other user attributes representing their eligibity for positions (PI-Eligible). Think step by step. Only output in Policy Machine Language\n",
      "\n",
      "Policy Machine Language format: \n",
      "\n",
      "create user \"user1\" in [\"userattribute1\"]; \n",
      "assign \"userattribute1\" to [\"userattribute2\"];\n",
      "associate \"userattribute1\" and \"objectattribute1\" with [\"read\"]\n",
      "\n",
      "Policy statement: \n",
      "On college campuses, only particular faculty members are eligible to create a proposal, called PDSWhole.\n",
      "Research Faculty, Tenured Track Faculty, and Tenured Faculty can create proposals and are eligible to be PI, CoPI, and Senior Personnel of the proposal.\n",
      "Adjunct Faculties can only be Senior Personnel, Clinical and Teaching faculty can be CoPI.\n",
      "\n",
      "\n",
      "```\n",
      "create user \"Research Faculty\" in [\"PI-Eligible\"];\n",
      "create user \"Tenured Track Faculty\" in [\"PI-Eligible\"];\n",
      "create user \"Tenured Faculty\" in [\"PI-Eligible\"];\n",
      "create user \"Adjunct Faculty\" in [\"Senior Personnel\"];\n",
      "create user \"Clinical Faculty\" in [\"CoPI\"];\n",
      "create user \"Teaching Faculty\" in [\"CoPI\"];\n",
      "\n",
      "assign \"PI-Eligible\" to [\"PDSWhole_Create\"];\n",
      "assign \"CoPI\" to [\"PDSWhole_CoPI\"];\n",
      "assign \"Senior Personnel\" to [\"PDSWhole_SeniorPersonnel\"];\n",
      "\n",
      "```\n",
      "\u001b[0m\n",
      "\n",
      "\n",
      "\n"
     ]
    },
    {
     "data": {
      "text/plain": [
       "'\\n\\n\\n\\nRead the policy statement given. Generate all the PML statements required to meet the policy. Users are typically designated by specific names. User attributes should be assigned to \\nother user attributes representing their eligibity for positions (PI-Eligible). Think step by step. Only output in Policy Machine Language\\n\\nPolicy Machine Language format: \\n\\ncreate user \"user1\" in [\"userattribute1\"]; \\nassign \"userattribute1\" to [\"userattribute2\"];\\nassociate \"userattribute1\" and \"objectattribute1\" with [\"read\"]\\n\\nPolicy statement: \\nOn college campuses, only particular faculty members are eligible to create a proposal, called PDSWhole.\\nResearch Faculty, Tenured Track Faculty, and Tenured Faculty can create proposals and are eligible to be PI, CoPI, and Senior Personnel of the proposal.\\nAdjunct Faculties can only be Senior Personnel, Clinical and Teaching faculty can be CoPI.\\n\\n\\n\\x1b[32m\\nRead the policy statement given. Generate all the PML statements required to meet the policy. Users are typically designated by specific names. User attributes should be assigned to \\nother user attributes representing their eligibity for positions (PI-Eligible). Think step by step. Only output in Policy Machine Language\\n\\nPolicy Machine Language format: \\n\\ncreate user \"user1\" in [\"userattribute1\"]; \\nassign \"userattribute1\" to [\"userattribute2\"];\\nassociate \"userattribute1\" and \"objectattribute1\" with [\"read\"]\\n\\nPolicy statement: \\nOn college campuses, only particular faculty members are eligible to create a proposal, called PDSWhole.\\nResearch Faculty, Tenured Track Faculty, and Tenured Faculty can create proposals and are eligible to be PI, CoPI, and Senior Personnel of the proposal.\\nAdjunct Faculties can only be Senior Personnel, Clinical and Teaching faculty can be CoPI.\\n\\n\\n```\\ncreate user \"Research Faculty\" in [\"PI-Eligible\"];\\ncreate user \"Tenured Track Faculty\" in [\"PI-Eligible\"];\\ncreate user \"Tenured Faculty\" in [\"PI-Eligible\"];\\ncreate user \"Adjunct Faculty\" in [\"Senior Personnel\"];\\ncreate user \"Clinical Faculty\" in [\"CoPI\"];\\ncreate user \"Teaching Faculty\" in [\"CoPI\"];\\n\\nassign \"PI-Eligible\" to [\"PDSWhole_Create\"];\\nassign \"CoPI\" to [\"PDSWhole_CoPI\"];\\nassign \"Senior Personnel\" to [\"PDSWhole_SeniorPersonnel\"];\\n\\n```\\n\\x1b[0m\\n\\n\\n'"
      ]
     },
     "execution_count": 13,
     "metadata": {},
     "output_type": "execute_result"
    }
   ],
   "source": [
    "gemma27b.inspect_history(n=1)"
   ]
  },
  {
   "cell_type": "code",
   "execution_count": 28,
   "metadata": {},
   "outputs": [
    {
     "data": {
      "text/plain": [
       "['\\n    \\n    Output the Policy Machine Language statements necessary to a generate a Direct Acyclic representation of the configuration derived from the policy statement. The policy class is the root of the graph. User and user attributes are represented by nodes on the right side of the graph.\\n    Objects are represented by nodes on the right side of the graph. Assignment are represented by edges directing elements to attributes they are contained in. All users must be contained within at one attribute. It is possible for attributes to be contained within one another.\\n    If all elements out an attribute are also contained in another attribute, assign the whole attribute to the other.\\n    \\n\\n    Policy Machine Language: \\n    assign \"userattribute1\" to [\"userattribute2\"];\\n    associate \"userattribute1\" and \"objectattribute1\" with [\"read\"]\\n\\n    Policy statement: \\n    On college campuses, only particular faculty members are eligible to create a proposal, called PDSWhole.\\n    Research Faculty, Tenured Track Faculty, and Tenured Faculty can create proposals and are eligible to be PI, CoPI, and Senior Personnel of the proposal.\\n    Adjunct Faculties can only be Senior Personnel, Clinical and Teaching faculty can be CoPI.\\n\\n    \\n    Policy Machine Language Output:\\n    assign \"Research Faculty\" to [\"Faculty\"];\\n    assign \"Tenured Track Faculty\" to [\"Faculty\"];\\n    assign \"Tenured Faculty\" to [\"Faculty\"];\\n    assign \"Adjunct Faculty\" to [\"Faculty\"];\\n    assign \"Clinical Faculty\" to [\"Faculty\"];\\n    assign \"Teaching Faculty\" to [\"Faculty\"];\\n    associate \"Faculty\" and \"PDSWhole\" with [\"create\"];\\n    associate \"Faculty\" and \"PDSWhole\" with [\"PI\"];\\n    associate \"Faculty\" and \"PDSWhole\" with [\"CoPI\"];\\n    associate \"Faculty\" and \"PDSWhole\" with [\"Senior Personnel\"];\\n    associate \"Adjunct Faculty\" and \"PDSWhole']"
      ]
     },
     "execution_count": 28,
     "metadata": {},
     "output_type": "execute_result"
    }
   ],
   "source": [
    "DAGprompt = '''\n",
    "    \n",
    "    Output the Policy Machine Language statements necessary to a generate a Direct Acyclic representation of the configuration derived from the policy statement. The policy class is the root of the graph. User and user attributes are represented by nodes on the right side of the graph.\n",
    "    Objects are represented by nodes on the right side of the graph. Assignment are represented by edges directing elements to attributes they are contained in. All users must be contained within at one attribute. It is possible for attributes to be contained within one another.\n",
    "    If all elements out an attribute are also contained in another attribute, assign the whole attribute to the other.\n",
    "    \n",
    "\n",
    "    Policy Machine Language: \n",
    "    assign \"userattribute1\" to [\"userattribute2\"];\n",
    "    associate \"userattribute1\" and \"objectattribute1\" with [\"read\"]\n",
    "\n",
    "    Policy statement: \n",
    "    On college campuses, only particular faculty members are eligible to create a proposal, called PDSWhole.\n",
    "    Research Faculty, Tenured Track Faculty, and Tenured Faculty can create proposals and are eligible to be PI, CoPI, and Senior Personnel of the proposal.\n",
    "    Adjunct Faculties can only be Senior Personnel, Clinical and Teaching faculty can be CoPI.\n",
    "\n",
    "    \n",
    "'''\n",
    "\n",
    "gemma27b(DAGprompt)"
   ]
  },
  {
   "cell_type": "code",
   "execution_count": 29,
   "metadata": {},
   "outputs": [
    {
     "name": "stdout",
     "output_type": "stream",
     "text": [
      "\n",
      "\n",
      "\n",
      "\n",
      "    \n",
      "    Output the Policy Machine Language statements necessary to a generate a Direct Acyclic representation of the configuration derived from the policy statement. The policy class is the root of the graph. User and user attributes are represented by nodes on the right side of the graph.\n",
      "    Objects are represented by nodes on the right side of the graph. Assignment are represented by edges directing elements to attributes they are contained in. All users must be contained within at one attribute. It is possible for attributes to be contained within one another.\n",
      "    If all elements out an attribute are also contained in another attribute, assign the whole attribute to the other.\n",
      "    \n",
      "\n",
      "    Policy Machine Language: \n",
      "    assign \"userattribute1\" to [\"userattribute2\"];\n",
      "    associate \"userattribute1\" and \"objectattribute1\" with [\"read\"]\n",
      "\n",
      "    Policy statement: \n",
      "    On college campuses, only particular faculty members are eligible to create a proposal, called PDSWhole.\n",
      "    Research Faculty, Tenured Track Faculty, and Tenured Faculty can create proposals and are eligible to be PI, CoPI, and Senior Personnel of the proposal.\n",
      "    Adjunct Faculties can only be Senior Personnel, Clinical and Teaching faculty can be CoPI.\n",
      "\n",
      "    \n",
      "\u001b[32m\n",
      "    \n",
      "    Output the Policy Machine Language statements necessary to a generate a Direct Acyclic representation of the configuration derived from the policy statement. The policy class is the root of the graph. User and user attributes are represented by nodes on the right side of the graph.\n",
      "    Objects are represented by nodes on the right side of the graph. Assignment are represented by edges directing elements to attributes they are contained in. All users must be contained within at one attribute. It is possible for attributes to be contained within one another.\n",
      "    If all elements out an attribute are also contained in another attribute, assign the whole attribute to the other.\n",
      "    \n",
      "\n",
      "    Policy Machine Language: \n",
      "    assign \"userattribute1\" to [\"userattribute2\"];\n",
      "    associate \"userattribute1\" and \"objectattribute1\" with [\"read\"]\n",
      "\n",
      "    Policy statement: \n",
      "    On college campuses, only particular faculty members are eligible to create a proposal, called PDSWhole.\n",
      "    Research Faculty, Tenured Track Faculty, and Tenured Faculty can create proposals and are eligible to be PI, CoPI, and Senior Personnel of the proposal.\n",
      "    Adjunct Faculties can only be Senior Personnel, Clinical and Teaching faculty can be CoPI.\n",
      "\n",
      "    \n",
      "    Policy Machine Language Output:\n",
      "    assign \"Research Faculty\" to [\"Faculty\"];\n",
      "    assign \"Tenured Track Faculty\" to [\"Faculty\"];\n",
      "    assign \"Tenured Faculty\" to [\"Faculty\"];\n",
      "    assign \"Adjunct Faculty\" to [\"Faculty\"];\n",
      "    assign \"Clinical Faculty\" to [\"Faculty\"];\n",
      "    assign \"Teaching Faculty\" to [\"Faculty\"];\n",
      "    associate \"Faculty\" and \"PDSWhole\" with [\"create\"];\n",
      "    associate \"Faculty\" and \"PDSWhole\" with [\"PI\"];\n",
      "    associate \"Faculty\" and \"PDSWhole\" with [\"CoPI\"];\n",
      "    associate \"Faculty\" and \"PDSWhole\" with [\"Senior Personnel\"];\n",
      "    associate \"Adjunct Faculty\" and \"PDSWhole\u001b[0m\n",
      "\n",
      "\n",
      "\n"
     ]
    },
    {
     "data": {
      "text/plain": [
       "'\\n\\n\\n\\n    \\n    Output the Policy Machine Language statements necessary to a generate a Direct Acyclic representation of the configuration derived from the policy statement. The policy class is the root of the graph. User and user attributes are represented by nodes on the right side of the graph.\\n    Objects are represented by nodes on the right side of the graph. Assignment are represented by edges directing elements to attributes they are contained in. All users must be contained within at one attribute. It is possible for attributes to be contained within one another.\\n    If all elements out an attribute are also contained in another attribute, assign the whole attribute to the other.\\n    \\n\\n    Policy Machine Language: \\n    assign \"userattribute1\" to [\"userattribute2\"];\\n    associate \"userattribute1\" and \"objectattribute1\" with [\"read\"]\\n\\n    Policy statement: \\n    On college campuses, only particular faculty members are eligible to create a proposal, called PDSWhole.\\n    Research Faculty, Tenured Track Faculty, and Tenured Faculty can create proposals and are eligible to be PI, CoPI, and Senior Personnel of the proposal.\\n    Adjunct Faculties can only be Senior Personnel, Clinical and Teaching faculty can be CoPI.\\n\\n    \\n\\x1b[32m\\n    \\n    Output the Policy Machine Language statements necessary to a generate a Direct Acyclic representation of the configuration derived from the policy statement. The policy class is the root of the graph. User and user attributes are represented by nodes on the right side of the graph.\\n    Objects are represented by nodes on the right side of the graph. Assignment are represented by edges directing elements to attributes they are contained in. All users must be contained within at one attribute. It is possible for attributes to be contained within one another.\\n    If all elements out an attribute are also contained in another attribute, assign the whole attribute to the other.\\n    \\n\\n    Policy Machine Language: \\n    assign \"userattribute1\" to [\"userattribute2\"];\\n    associate \"userattribute1\" and \"objectattribute1\" with [\"read\"]\\n\\n    Policy statement: \\n    On college campuses, only particular faculty members are eligible to create a proposal, called PDSWhole.\\n    Research Faculty, Tenured Track Faculty, and Tenured Faculty can create proposals and are eligible to be PI, CoPI, and Senior Personnel of the proposal.\\n    Adjunct Faculties can only be Senior Personnel, Clinical and Teaching faculty can be CoPI.\\n\\n    \\n    Policy Machine Language Output:\\n    assign \"Research Faculty\" to [\"Faculty\"];\\n    assign \"Tenured Track Faculty\" to [\"Faculty\"];\\n    assign \"Tenured Faculty\" to [\"Faculty\"];\\n    assign \"Adjunct Faculty\" to [\"Faculty\"];\\n    assign \"Clinical Faculty\" to [\"Faculty\"];\\n    assign \"Teaching Faculty\" to [\"Faculty\"];\\n    associate \"Faculty\" and \"PDSWhole\" with [\"create\"];\\n    associate \"Faculty\" and \"PDSWhole\" with [\"PI\"];\\n    associate \"Faculty\" and \"PDSWhole\" with [\"CoPI\"];\\n    associate \"Faculty\" and \"PDSWhole\" with [\"Senior Personnel\"];\\n    associate \"Adjunct Faculty\" and \"PDSWhole\\x1b[0m\\n\\n\\n'"
      ]
     },
     "execution_count": 29,
     "metadata": {},
     "output_type": "execute_result"
    }
   ],
   "source": [
    "gemma27b.inspect_history(n=1)"
   ]
  },
  {
   "cell_type": "code",
   "execution_count": 20,
   "metadata": {},
   "outputs": [
    {
     "data": {
      "application/vnd.jupyter.widget-view+json": {
       "model_id": "f3840d7f6d334e4a848f78b044db6868",
       "version_major": 2,
       "version_minor": 0
      },
      "text/plain": [
       "tokenizer_config.json:   0%|          | 0.00/40.0k [00:00<?, ?B/s]"
      ]
     },
     "metadata": {},
     "output_type": "display_data"
    },
    {
     "data": {
      "application/vnd.jupyter.widget-view+json": {
       "model_id": "681509905aa94d33bbf9b4589bf2ce9f",
       "version_major": 2,
       "version_minor": 0
      },
      "text/plain": [
       "tokenizer.model:   0%|          | 0.00/4.24M [00:00<?, ?B/s]"
      ]
     },
     "metadata": {},
     "output_type": "display_data"
    },
    {
     "data": {
      "application/vnd.jupyter.widget-view+json": {
       "model_id": "eb48aa3d7e9c419e9fec74b1d6130fce",
       "version_major": 2,
       "version_minor": 0
      },
      "text/plain": [
       "tokenizer.json:   0%|          | 0.00/17.5M [00:00<?, ?B/s]"
      ]
     },
     "metadata": {},
     "output_type": "display_data"
    },
    {
     "data": {
      "application/vnd.jupyter.widget-view+json": {
       "model_id": "ca085ac581bb4f2da0bf04b24dae1f00",
       "version_major": 2,
       "version_minor": 0
      },
      "text/plain": [
       "special_tokens_map.json:   0%|          | 0.00/636 [00:00<?, ?B/s]"
      ]
     },
     "metadata": {},
     "output_type": "display_data"
    },
    {
     "data": {
      "application/vnd.jupyter.widget-view+json": {
       "model_id": "d21ae7897f1a48ec8138dd1d77d8e6d2",
       "version_major": 2,
       "version_minor": 0
      },
      "text/plain": [
       "config.json:   0%|          | 0.00/892 [00:00<?, ?B/s]"
      ]
     },
     "metadata": {},
     "output_type": "display_data"
    },
    {
     "data": {
      "application/vnd.jupyter.widget-view+json": {
       "model_id": "85cbca1be1464eb7918c3e8da757873d",
       "version_major": 2,
       "version_minor": 0
      },
      "text/plain": [
       "model.safetensors.index.json:   0%|          | 0.00/42.8k [00:00<?, ?B/s]"
      ]
     },
     "metadata": {},
     "output_type": "display_data"
    },
    {
     "data": {
      "application/vnd.jupyter.widget-view+json": {
       "model_id": "c27eae4286734119ba8a5a4ca7ca0c10",
       "version_major": 2,
       "version_minor": 0
      },
      "text/plain": [
       "Downloading shards:   0%|          | 0/24 [00:00<?, ?it/s]"
      ]
     },
     "metadata": {},
     "output_type": "display_data"
    },
    {
     "data": {
      "application/vnd.jupyter.widget-view+json": {
       "model_id": "06d3ff85176f422d94083fe8e9b5540b",
       "version_major": 2,
       "version_minor": 0
      },
      "text/plain": [
       "model-00001-of-00024.safetensors:   0%|          | 0.00/4.95G [00:00<?, ?B/s]"
      ]
     },
     "metadata": {},
     "output_type": "display_data"
    },
    {
     "data": {
      "application/vnd.jupyter.widget-view+json": {
       "model_id": "0cc77d2e669043a18a504500240790ac",
       "version_major": 2,
       "version_minor": 0
      },
      "text/plain": [
       "model-00002-of-00024.safetensors:   0%|          | 0.00/4.53G [00:00<?, ?B/s]"
      ]
     },
     "metadata": {},
     "output_type": "display_data"
    },
    {
     "data": {
      "application/vnd.jupyter.widget-view+json": {
       "model_id": "448adde58b8c460ea73240ea7f1c0a33",
       "version_major": 2,
       "version_minor": 0
      },
      "text/plain": [
       "model-00003-of-00024.safetensors:   0%|          | 0.00/4.53G [00:00<?, ?B/s]"
      ]
     },
     "metadata": {},
     "output_type": "display_data"
    },
    {
     "data": {
      "application/vnd.jupyter.widget-view+json": {
       "model_id": "b5b414914bd84ad7bc2cb7b7b6db19de",
       "version_major": 2,
       "version_minor": 0
      },
      "text/plain": [
       "model-00004-of-00024.safetensors:   0%|          | 0.00/4.53G [00:00<?, ?B/s]"
      ]
     },
     "metadata": {},
     "output_type": "display_data"
    },
    {
     "data": {
      "application/vnd.jupyter.widget-view+json": {
       "model_id": "29b7edd8432e43619500b4dcac05ee76",
       "version_major": 2,
       "version_minor": 0
      },
      "text/plain": [
       "model-00005-of-00024.safetensors:   0%|          | 0.00/4.53G [00:00<?, ?B/s]"
      ]
     },
     "metadata": {},
     "output_type": "display_data"
    },
    {
     "data": {
      "application/vnd.jupyter.widget-view+json": {
       "model_id": "382c6ff3a3ff426e9db82d4a0005186e",
       "version_major": 2,
       "version_minor": 0
      },
      "text/plain": [
       "model-00006-of-00024.safetensors:   0%|          | 0.00/4.53G [00:00<?, ?B/s]"
      ]
     },
     "metadata": {},
     "output_type": "display_data"
    },
    {
     "data": {
      "application/vnd.jupyter.widget-view+json": {
       "model_id": "c3cf0ccd64ee4f298db729e8cb40bf6b",
       "version_major": 2,
       "version_minor": 0
      },
      "text/plain": [
       "model-00007-of-00024.safetensors:   0%|          | 0.00/4.53G [00:00<?, ?B/s]"
      ]
     },
     "metadata": {},
     "output_type": "display_data"
    },
    {
     "data": {
      "application/vnd.jupyter.widget-view+json": {
       "model_id": "29189737b237408487eb60564f94e2f2",
       "version_major": 2,
       "version_minor": 0
      },
      "text/plain": [
       "model-00008-of-00024.safetensors:   0%|          | 0.00/4.53G [00:00<?, ?B/s]"
      ]
     },
     "metadata": {},
     "output_type": "display_data"
    },
    {
     "data": {
      "application/vnd.jupyter.widget-view+json": {
       "model_id": "5a5118c7f47348dc877f53990821ef8c",
       "version_major": 2,
       "version_minor": 0
      },
      "text/plain": [
       "model-00009-of-00024.safetensors:   0%|          | 0.00/4.53G [00:00<?, ?B/s]"
      ]
     },
     "metadata": {},
     "output_type": "display_data"
    },
    {
     "data": {
      "application/vnd.jupyter.widget-view+json": {
       "model_id": "b43bc3f3ad1e4b40a939eb38ff7c5b21",
       "version_major": 2,
       "version_minor": 0
      },
      "text/plain": [
       "model-00010-of-00024.safetensors:   0%|          | 0.00/4.53G [00:00<?, ?B/s]"
      ]
     },
     "metadata": {},
     "output_type": "display_data"
    },
    {
     "data": {
      "application/vnd.jupyter.widget-view+json": {
       "model_id": "d3528e6687324744af0bfd129b2006b5",
       "version_major": 2,
       "version_minor": 0
      },
      "text/plain": [
       "model-00011-of-00024.safetensors:   0%|          | 0.00/4.53G [00:00<?, ?B/s]"
      ]
     },
     "metadata": {},
     "output_type": "display_data"
    },
    {
     "data": {
      "application/vnd.jupyter.widget-view+json": {
       "model_id": "04557ebe7c6745ca87f8cdfba357468e",
       "version_major": 2,
       "version_minor": 0
      },
      "text/plain": [
       "model-00012-of-00024.safetensors:   0%|          | 0.00/4.53G [00:00<?, ?B/s]"
      ]
     },
     "metadata": {},
     "output_type": "display_data"
    },
    {
     "data": {
      "application/vnd.jupyter.widget-view+json": {
       "model_id": "adda43a0415e4179afdc16e614f26de6",
       "version_major": 2,
       "version_minor": 0
      },
      "text/plain": [
       "model-00013-of-00024.safetensors:   0%|          | 0.00/4.53G [00:00<?, ?B/s]"
      ]
     },
     "metadata": {},
     "output_type": "display_data"
    },
    {
     "data": {
      "application/vnd.jupyter.widget-view+json": {
       "model_id": "5dd38e75f072470793688c719d9d39b7",
       "version_major": 2,
       "version_minor": 0
      },
      "text/plain": [
       "model-00014-of-00024.safetensors:   0%|          | 0.00/4.53G [00:00<?, ?B/s]"
      ]
     },
     "metadata": {},
     "output_type": "display_data"
    },
    {
     "data": {
      "application/vnd.jupyter.widget-view+json": {
       "model_id": "61418fdbfe694abb9ce8f3f84ea9d69b",
       "version_major": 2,
       "version_minor": 0
      },
      "text/plain": [
       "model-00015-of-00024.safetensors:   0%|          | 0.00/4.53G [00:00<?, ?B/s]"
      ]
     },
     "metadata": {},
     "output_type": "display_data"
    },
    {
     "data": {
      "application/vnd.jupyter.widget-view+json": {
       "model_id": "e6a0e31744e3423a8433f1ec869855a4",
       "version_major": 2,
       "version_minor": 0
      },
      "text/plain": [
       "model-00016-of-00024.safetensors:   0%|          | 0.00/4.53G [00:00<?, ?B/s]"
      ]
     },
     "metadata": {},
     "output_type": "display_data"
    },
    {
     "data": {
      "application/vnd.jupyter.widget-view+json": {
       "model_id": "7694203ec0474d11831cf35709b8a9be",
       "version_major": 2,
       "version_minor": 0
      },
      "text/plain": [
       "model-00017-of-00024.safetensors:   0%|          | 0.00/4.53G [00:00<?, ?B/s]"
      ]
     },
     "metadata": {},
     "output_type": "display_data"
    },
    {
     "data": {
      "application/vnd.jupyter.widget-view+json": {
       "model_id": "e3c9380e5dcb4d5ca2177be6c00da8d1",
       "version_major": 2,
       "version_minor": 0
      },
      "text/plain": [
       "model-00018-of-00024.safetensors:   0%|          | 0.00/4.53G [00:00<?, ?B/s]"
      ]
     },
     "metadata": {},
     "output_type": "display_data"
    },
    {
     "data": {
      "application/vnd.jupyter.widget-view+json": {
       "model_id": "0a83c25f0e7b4d949eb2b4e333097d03",
       "version_major": 2,
       "version_minor": 0
      },
      "text/plain": [
       "model-00019-of-00024.safetensors:   0%|          | 0.00/4.53G [00:00<?, ?B/s]"
      ]
     },
     "metadata": {},
     "output_type": "display_data"
    },
    {
     "data": {
      "application/vnd.jupyter.widget-view+json": {
       "model_id": "0e1857d552a34a0b834f5e0df49936a4",
       "version_major": 2,
       "version_minor": 0
      },
      "text/plain": [
       "model-00020-of-00024.safetensors:   0%|          | 0.00/4.53G [00:00<?, ?B/s]"
      ]
     },
     "metadata": {},
     "output_type": "display_data"
    },
    {
     "data": {
      "application/vnd.jupyter.widget-view+json": {
       "model_id": "4a9c15ee3df24d9380da0bcdc05e2b5f",
       "version_major": 2,
       "version_minor": 0
      },
      "text/plain": [
       "model-00021-of-00024.safetensors:   0%|          | 0.00/4.53G [00:00<?, ?B/s]"
      ]
     },
     "metadata": {},
     "output_type": "display_data"
    },
    {
     "data": {
      "application/vnd.jupyter.widget-view+json": {
       "model_id": "5af56c89980c458eb0a4208fa6c76e49",
       "version_major": 2,
       "version_minor": 0
      },
      "text/plain": [
       "model-00022-of-00024.safetensors:   0%|          | 0.00/4.53G [00:00<?, ?B/s]"
      ]
     },
     "metadata": {},
     "output_type": "display_data"
    },
    {
     "data": {
      "application/vnd.jupyter.widget-view+json": {
       "model_id": "c9931cd0360647068d2c98090d820795",
       "version_major": 2,
       "version_minor": 0
      },
      "text/plain": [
       "model-00023-of-00024.safetensors:   0%|          | 0.00/4.53G [00:00<?, ?B/s]"
      ]
     },
     "metadata": {},
     "output_type": "display_data"
    },
    {
     "data": {
      "application/vnd.jupyter.widget-view+json": {
       "model_id": "a16dec10d3074e6c8e46ac482a71d921",
       "version_major": 2,
       "version_minor": 0
      },
      "text/plain": [
       "model-00024-of-00024.safetensors:   0%|          | 0.00/4.30G [00:00<?, ?B/s]"
      ]
     },
     "metadata": {},
     "output_type": "display_data"
    },
    {
     "data": {
      "application/vnd.jupyter.widget-view+json": {
       "model_id": "411ee9a3c1854dfdbff13300b2988372",
       "version_major": 2,
       "version_minor": 0
      },
      "text/plain": [
       "Loading checkpoint shards:   0%|          | 0/24 [00:00<?, ?it/s]"
      ]
     },
     "metadata": {},
     "output_type": "display_data"
    },
    {
     "data": {
      "application/vnd.jupyter.widget-view+json": {
       "model_id": "ad8e59737f4e4abbbdf145a48f4bbc5b",
       "version_major": 2,
       "version_minor": 0
      },
      "text/plain": [
       "generation_config.json:   0%|          | 0.00/173 [00:00<?, ?B/s]"
      ]
     },
     "metadata": {},
     "output_type": "display_data"
    },
    {
     "name": "stderr",
     "output_type": "stream",
     "text": [
      "WARNING:root:Some parameters are on the meta device device because they were offloaded to the cpu.\n",
      "/home/jps36r/.conda/envs/test_env/lib/python3.12/site-packages/transformers/generation/utils.py:1249: UserWarning: Using the model-agnostic default `max_length` (=20) to control the generation length. We recommend setting `max_new_tokens` to control the maximum length of the generation.\n",
      "  warnings.warn(\n"
     ]
    },
    {
     "name": "stdout",
     "output_type": "stream",
     "text": [
      "<bos>Write me a poem about Machine Learning.\n",
      "\n",
      "Machine learning, a field of AI,\n",
      "A\n"
     ]
    }
   ],
   "source": [
    "from transformers import AutoTokenizer, AutoModelForCausalLM\n",
    "import torch\n",
    "\n",
    "tokenizer = AutoTokenizer.from_pretrained(\"google/gemma-2-27b\")\n",
    "model = AutoModelForCausalLM.from_pretrained(\n",
    "    \"google/gemma-2-27b\",\n",
    "    device_map=\"auto\",\n",
    "    torch_dtype=torch.bfloat16\n",
    ")\n",
    "\n",
    "input_text = \"Write me a poem about Machine Learning.\"\n",
    "input_ids = tokenizer(input_text, return_tensors=\"pt\").to(\"cuda\")\n",
    "\n",
    "outputs = model.generate(**input_ids)\n",
    "print(tokenizer.decode(outputs[0]))"
   ]
  }
 ],
 "metadata": {
  "kernelspec": {
   "display_name": "test_env",
   "language": "python",
   "name": "python3"
  },
  "language_info": {
   "codemirror_mode": {
    "name": "ipython",
    "version": 3
   },
   "file_extension": ".py",
   "mimetype": "text/x-python",
   "name": "python",
   "nbconvert_exporter": "python",
   "pygments_lexer": "ipython3",
   "version": "3.12.4"
  }
 },
 "nbformat": 4,
 "nbformat_minor": 2
}
